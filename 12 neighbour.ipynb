{
 "cells": [
  {
   "cell_type": "markdown",
   "metadata": {},
   "source": [
    "First consider an image "
   ]
  },
  {
   "cell_type": "code",
   "execution_count": 1,
   "metadata": {},
   "outputs": [],
   "source": [
    "from PIL import Image\n",
    "import numpy as np\n",
    "import time"
   ]
  },
  {
   "cell_type": "markdown",
   "metadata": {},
   "source": [
    "First considering the images I will consider in my training set"
   ]
  },
  {
   "cell_type": "code",
   "execution_count": 2,
   "metadata": {},
   "outputs": [],
   "source": [
    "img_2=Image.open(r\"C:\\Users\\Surabhi\\OneDrive\\Pictures\\Images and Masks\\Image 2_contrast.jpg\")\n",
    "img_3=Image.open(r\"C:\\Users\\Surabhi\\OneDrive\\Pictures\\Images and Masks\\Image 3_contrast.jpg\")\n",
    "img_4=Image.open(r\"C:\\Users\\Surabhi\\OneDrive\\Pictures\\Images and Masks\\Image 4_contrast.jpg\")\n",
    "img_5=Image.open(r\"C:\\Users\\Surabhi\\OneDrive\\Pictures\\Images and Masks\\Image 5_contrast.jpg\")\n",
    "img_6=Image.open(r\"C:\\Users\\Surabhi\\OneDrive\\Pictures\\Images and Masks\\Image 6_contrast.jpg\")\n",
    "img_7=Image.open(r\"C:\\Users\\Surabhi\\OneDrive\\Pictures\\Images and Masks\\Image 7_contrast.jpg\")\n",
    "img_8=Image.open(r\"C:\\Users\\Surabhi\\OneDrive\\Pictures\\Images and Masks\\Image 8_contrast.jpg\")\n",
    "img_9=Image.open(r\"C:\\Users\\Surabhi\\OneDrive\\Pictures\\Images and Masks\\Image 9_contrast.jpg\")\n"
   ]
  },
  {
   "cell_type": "code",
   "execution_count": 3,
   "metadata": {},
   "outputs": [],
   "source": [
    "pixel_values_2 = list(img_2.getdata())\n",
    "pixel_values_3 = list(img_3.getdata())\n",
    "pixel_values_4 = list(img_4.getdata())\n",
    "pixel_values_5= list(img_5.getdata())\n",
    "pixel_values_6 = list(img_6.getdata())\n",
    "pixel_values_7 = list(img_7.getdata())\n",
    "pixel_values_8 = list(img_8.getdata())\n",
    "pixel_values_9 = list(img_9.getdata())\n"
   ]
  },
  {
   "cell_type": "code",
   "execution_count": 4,
   "metadata": {},
   "outputs": [],
   "source": [
    "\n",
    "pixel_values_2 = np.array(pixel_values_2).reshape((128,128, 3))\n",
    "pixel_values_3 = np.array(pixel_values_3).reshape((128,128, 3))\n",
    "pixel_values_4 = np.array(pixel_values_4).reshape((128,128, 3))\n",
    "pixel_values_5 = np.array(pixel_values_5).reshape((128,128, 3))\n",
    "pixel_values_6 = np.array(pixel_values_6).reshape((128,128, 3))\n",
    "pixel_values_7 = np.array(pixel_values_7).reshape((128,128, 3))\n",
    "pixel_values_8 = np.array(pixel_values_8).reshape((128,128, 3))\n",
    "pixel_values_9 = np.array(pixel_values_9).reshape((128,128, 3))"
   ]
  },
  {
   "cell_type": "code",
   "execution_count": 5,
   "metadata": {},
   "outputs": [
    {
     "data": {
      "text/plain": [
       "array([[[140,  29, 160],\n",
       "        [136,  25, 156],\n",
       "        [132,  20, 156],\n",
       "        ...,\n",
       "        [ 83,   0,  90],\n",
       "        [ 79,   0,  86],\n",
       "        [ 73,   0,  80]],\n",
       "\n",
       "       [[121,  10, 141],\n",
       "        [124,  12, 146],\n",
       "        [129,  17, 153],\n",
       "        ...,\n",
       "        [ 86,   3,  93],\n",
       "        [ 83,   0,  90],\n",
       "        [ 78,   0,  85]],\n",
       "\n",
       "       [[118,   6, 140],\n",
       "        [131,  19, 153],\n",
       "        [145,  33, 169],\n",
       "        ...,\n",
       "        [ 85,   2,  90],\n",
       "        [ 82,   0,  87],\n",
       "        [ 77,   0,  82]],\n",
       "\n",
       "       ...,\n",
       "\n",
       "       [[ 32,  15,  21],\n",
       "        [131, 114, 120],\n",
       "        [199, 182, 190],\n",
       "        ...,\n",
       "        [  0,   0,   0],\n",
       "        [  0,   0,   0],\n",
       "        [  0,   0,   0]],\n",
       "\n",
       "       [[ 16,   0,   1],\n",
       "        [ 85,  66,  72],\n",
       "        [168, 151, 159],\n",
       "        ...,\n",
       "        [  0,   0,   0],\n",
       "        [  0,   0,   0],\n",
       "        [  0,   0,   0]],\n",
       "\n",
       "       [[ 13,   0,   0],\n",
       "        [ 53,  34,  38],\n",
       "        [142, 125, 133],\n",
       "        ...,\n",
       "        [  0,   0,   0],\n",
       "        [  0,   0,   0],\n",
       "        [  0,   0,   0]]])"
      ]
     },
     "execution_count": 5,
     "metadata": {},
     "output_type": "execute_result"
    }
   ],
   "source": [
    "pixel_values_2"
   ]
  },
  {
   "cell_type": "code",
   "execution_count": 6,
   "metadata": {},
   "outputs": [],
   "source": [
    "\n",
    "x= pixel_values_2[2,2,0:3]\n",
    "x=np.hstack((x,pixel_values_2[1,1,0:3]))\n",
    "x=np.hstack((x,pixel_values_2[1,2,0:3]))\n",
    "x=np.hstack((x,pixel_values_2[1,3,0:3]))\n",
    "x=np.hstack((x,pixel_values_2[2,1,0:3]))\n",
    "x=np.hstack((x,pixel_values_2[2,3,0:3]))\n",
    "x=np.hstack((x,pixel_values_2[3,1,0:3]))\n",
    "x=np.hstack((x,pixel_values_2[3,2,0:3]))\n",
    "x=np.hstack((x,pixel_values_2[3,3,0:3]))\n",
    "x=np.hstack((x,pixel_values_2[1,1,0:3]))\n",
    "x=np.hstack((x,pixel_values_2[4,0,0:3]))\n",
    "x=np.hstack((x,pixel_values_2[0,4,0:3]))\n",
    "x=np.hstack((x,pixel_values_2[4,4,0:3]))\n",
    "\n",
    "data=np.array(x)"
   ]
  },
  {
   "cell_type": "code",
   "execution_count": 7,
   "metadata": {},
   "outputs": [
    {
     "data": {
      "text/plain": [
       "array([145,  33, 169, 124,  12, 146, 129,  17, 153, 136,  24, 160, 131,\n",
       "        19, 153, 153,  41, 177, 145,  33, 167, 161,  49, 185, 165,  53,\n",
       "       191, 124,  12, 146, 125,  13, 147, 144,  31, 171, 159,  46, 186])"
      ]
     },
     "execution_count": 7,
     "metadata": {},
     "output_type": "execute_result"
    }
   ],
   "source": [
    "data"
   ]
  },
  {
   "cell_type": "code",
   "execution_count": 8,
   "metadata": {},
   "outputs": [
    {
     "data": {
      "text/plain": [
       "array([145,  33, 169, 124,  12, 146, 129,  17, 153, 136,  24, 160, 131,\n",
       "        19, 153, 153,  41, 177, 145,  33, 167, 161,  49, 185, 165,  53,\n",
       "       191, 124,  12, 146, 125,  13, 147, 144,  31, 171, 159,  46, 186])"
      ]
     },
     "execution_count": 8,
     "metadata": {},
     "output_type": "execute_result"
    }
   ],
   "source": [
    "x"
   ]
  },
  {
   "cell_type": "code",
   "execution_count": 9,
   "metadata": {},
   "outputs": [],
   "source": [
    "for i in range(2,126):\n",
    "    for j in range(2,126):\n",
    "        x= pixel_values_2[i,j,0:3]\n",
    "        x=np.hstack((x,pixel_values_2[i-1,j-1,0:3]))\n",
    "        x=np.hstack((x,pixel_values_2[i-1,j,0:3]))\n",
    "        x=np.hstack((x,pixel_values_2[i-1,j+1,0:3]))\n",
    "        x=np.hstack((x,pixel_values_2[i,j-1,0:3]))\n",
    "        x=np.hstack((x,pixel_values_2[i,j+1,0:3]))\n",
    "        x=np.hstack((x,pixel_values_2[i+1,j-1,0:3]))\n",
    "        x=np.hstack((x,pixel_values_2[i+1,j,0:3]))\n",
    "        x=np.hstack((x,pixel_values_2[i+1,j+1,0:3]))\n",
    "        x=np.hstack((x,pixel_values_2[i-2,j-2,0:3]))\n",
    "        x=np.hstack((x,pixel_values_2[i+2,j-2,0:3]))\n",
    "        x=np.hstack((x,pixel_values_2[i-2,j+2,0:3]))\n",
    "        x=np.hstack((x,pixel_values_2[i+2,j+2,0:3]))\n",
    "        data=np.vstack((data,x))\n",
    "        \n",
    "        "
   ]
  },
  {
   "cell_type": "code",
   "execution_count": 10,
   "metadata": {},
   "outputs": [
    {
     "data": {
      "text/plain": [
       "array([[145,  33, 169, ..., 159,  46, 186],\n",
       "       [145,  33, 169, ..., 159,  46, 186],\n",
       "       [153,  41, 177, ..., 165,  52, 194],\n",
       "       ...,\n",
       "       [  0,   0,   0, ...,   0,   0,   0],\n",
       "       [  0,   0,   0, ...,   0,   0,   0],\n",
       "       [  0,   0,   0, ...,   0,   0,   0]])"
      ]
     },
     "execution_count": 10,
     "metadata": {},
     "output_type": "execute_result"
    }
   ],
   "source": [
    "data"
   ]
  },
  {
   "cell_type": "code",
   "execution_count": 11,
   "metadata": {},
   "outputs": [],
   "source": [
    "for i in range(2,126):\n",
    "    for j in range(2,126):\n",
    "        x= pixel_values_3[i,j,0:3]\n",
    "        x=np.hstack((x,pixel_values_3[i-1,j-1,0:3]))\n",
    "        x=np.hstack((x,pixel_values_3[i-1,j,0:3]))\n",
    "        x=np.hstack((x,pixel_values_3[i-1,j+1,0:3]))\n",
    "        x=np.hstack((x,pixel_values_3[i,j-1,0:3]))\n",
    "        x=np.hstack((x,pixel_values_3[i,j+1,0:3]))\n",
    "        x=np.hstack((x,pixel_values_3[i+1,j-1,0:3]))\n",
    "        x=np.hstack((x,pixel_values_3[i+1,j,0:3]))\n",
    "        x=np.hstack((x,pixel_values_3[i+1,j+1,0:3]))\n",
    "        x=np.hstack((x,pixel_values_3[i-2,j-2,0:3]))\n",
    "        x=np.hstack((x,pixel_values_3[i+2,j-2,0:3]))\n",
    "        x=np.hstack((x,pixel_values_3[i-2,j+2,0:3]))\n",
    "        x=np.hstack((x,pixel_values_3[i+2,j+2,0:3]))\n",
    "        data=np.vstack((data,x))\n",
    "       "
   ]
  },
  {
   "cell_type": "code",
   "execution_count": 12,
   "metadata": {},
   "outputs": [
    {
     "data": {
      "text/plain": [
       "array([[145,  33, 169, ..., 159,  46, 186],\n",
       "       [145,  33, 169, ..., 159,  46, 186],\n",
       "       [153,  41, 177, ..., 165,  52, 194],\n",
       "       ...,\n",
       "       [ 22,  11,   9, ...,   8,   0,   0],\n",
       "       [ 17,   5,   5, ...,  12,   3,   4],\n",
       "       [ 13,   3,   2, ...,  10,   1,   2]])"
      ]
     },
     "execution_count": 12,
     "metadata": {},
     "output_type": "execute_result"
    }
   ],
   "source": [
    "data"
   ]
  },
  {
   "cell_type": "code",
   "execution_count": 13,
   "metadata": {},
   "outputs": [],
   "source": [
    "for i in range(2,126):\n",
    "    for j in range(2,126):\n",
    "        x= pixel_values_4[i,j,0:3]\n",
    "        x=np.hstack((x,pixel_values_4[i-1,j-1,0:3]))\n",
    "        x=np.hstack((x,pixel_values_4[i-1,j,0:3]))\n",
    "        x=np.hstack((x,pixel_values_4[i-1,j+1,0:3]))\n",
    "        x=np.hstack((x,pixel_values_4[i,j-1,0:3]))\n",
    "        x=np.hstack((x,pixel_values_4[i,j+1,0:3]))\n",
    "        x=np.hstack((x,pixel_values_4[i+1,j-1,0:3]))\n",
    "        x=np.hstack((x,pixel_values_4[i+1,j,0:3]))\n",
    "        x=np.hstack((x,pixel_values_4[i+1,j+1,0:3]))\n",
    "        x=np.hstack((x,pixel_values_4[i-2,j-2,0:3]))\n",
    "        x=np.hstack((x,pixel_values_4[i+2,j-2,0:3]))\n",
    "        x=np.hstack((x,pixel_values_4[i-2,j+2,0:3]))\n",
    "        x=np.hstack((x,pixel_values_4[i+2,j+2,0:3]))\n",
    "        data=np.vstack((data,x))\n",
    "       "
   ]
  },
  {
   "cell_type": "code",
   "execution_count": 14,
   "metadata": {},
   "outputs": [],
   "source": [
    "for i in range(2,126):\n",
    "    for j in range(2,126):\n",
    "        x= pixel_values_5[i,j,0:3]\n",
    "        x=np.hstack((x,pixel_values_5[i-1,j-1,0:3]))\n",
    "        x=np.hstack((x,pixel_values_5[i-1,j,0:3]))\n",
    "        x=np.hstack((x,pixel_values_5[i-1,j+1,0:3]))\n",
    "        x=np.hstack((x,pixel_values_5[i,j-1,0:3]))\n",
    "        x=np.hstack((x,pixel_values_5[i,j+1,0:3]))\n",
    "        x=np.hstack((x,pixel_values_5[i+1,j-1,0:3]))\n",
    "        x=np.hstack((x,pixel_values_5[i+1,j,0:3]))\n",
    "        x=np.hstack((x,pixel_values_5[i+1,j+1,0:3]))\n",
    "        x=np.hstack((x,pixel_values_5[i-2,j-2,0:3]))\n",
    "        x=np.hstack((x,pixel_values_5[i+2,j-2,0:3]))\n",
    "        x=np.hstack((x,pixel_values_5[i-2,j+2,0:3]))\n",
    "        x=np.hstack((x,pixel_values_5[i+2,j+2,0:3]))\n",
    "        data=np.vstack((data,x))\n",
    "        "
   ]
  },
  {
   "cell_type": "code",
   "execution_count": 15,
   "metadata": {},
   "outputs": [],
   "source": [
    "for i in range(2,126):\n",
    "    for j in range(2,126):\n",
    "        x= pixel_values_6[i,j,0:3]\n",
    "        x=np.hstack((x,pixel_values_6[i-1,j-1,0:3]))\n",
    "        x=np.hstack((x,pixel_values_6[i-1,j,0:3]))\n",
    "        x=np.hstack((x,pixel_values_6[i-1,j+1,0:3]))\n",
    "        x=np.hstack((x,pixel_values_6[i,j-1,0:3]))\n",
    "        x=np.hstack((x,pixel_values_6[i,j+1,0:3]))\n",
    "        x=np.hstack((x,pixel_values_6[i+1,j-1,0:3]))\n",
    "        x=np.hstack((x,pixel_values_6[i+1,j,0:3]))\n",
    "        x=np.hstack((x,pixel_values_6[i+1,j+1,0:3]))\n",
    "        x=np.hstack((x,pixel_values_6[i-2,j-2,0:3]))\n",
    "        x=np.hstack((x,pixel_values_6[i+2,j-2,0:3]))\n",
    "        x=np.hstack((x,pixel_values_6[i-2,j+2,0:3]))\n",
    "        x=np.hstack((x,pixel_values_6[i+2,j+2,0:3]))\n",
    "        data=np.vstack((data,x))\n",
    "        "
   ]
  },
  {
   "cell_type": "code",
   "execution_count": 16,
   "metadata": {},
   "outputs": [],
   "source": [
    "for i in range(2,126):\n",
    "    for j in range(2,126):\n",
    "        x= pixel_values_7[i,j,0:3]\n",
    "        x=np.hstack((x,pixel_values_7[i-1,j-1,0:3]))\n",
    "        x=np.hstack((x,pixel_values_7[i-1,j,0:3]))\n",
    "        x=np.hstack((x,pixel_values_7[i-1,j+1,0:3]))\n",
    "        x=np.hstack((x,pixel_values_7[i,j-1,0:3]))\n",
    "        x=np.hstack((x,pixel_values_7[i,j+1,0:3]))\n",
    "        x=np.hstack((x,pixel_values_7[i+1,j-1,0:3]))\n",
    "        x=np.hstack((x,pixel_values_7[i+1,j,0:3]))\n",
    "        x=np.hstack((x,pixel_values_7[i+1,j+1,0:3]))\n",
    "        x=np.hstack((x,pixel_values_7[i-2,j-2,0:3]))\n",
    "        x=np.hstack((x,pixel_values_7[i+2,j-2,0:3]))\n",
    "        x=np.hstack((x,pixel_values_7[i-2,j+2,0:3]))\n",
    "        x=np.hstack((x,pixel_values_7[i+2,j+2,0:3]))\n",
    "        data=np.vstack((data,x))\n",
    "        "
   ]
  },
  {
   "cell_type": "code",
   "execution_count": 17,
   "metadata": {},
   "outputs": [],
   "source": [
    "for i in range(2,126):\n",
    "    for j in range(2,126):\n",
    "        x= pixel_values_8[i,j,0:3]\n",
    "        x=np.hstack((x,pixel_values_8[i-1,j-1,0:3]))\n",
    "        x=np.hstack((x,pixel_values_8[i-1,j,0:3]))\n",
    "        x=np.hstack((x,pixel_values_8[i-1,j+1,0:3]))\n",
    "        x=np.hstack((x,pixel_values_8[i,j-1,0:3]))\n",
    "        x=np.hstack((x,pixel_values_8[i,j+1,0:3]))\n",
    "        x=np.hstack((x,pixel_values_8[i+1,j-1,0:3]))\n",
    "        x=np.hstack((x,pixel_values_8[i+1,j,0:3]))\n",
    "        x=np.hstack((x,pixel_values_8[i+1,j+1,0:3]))\n",
    "        x=np.hstack((x,pixel_values_8[i-2,j-2,0:3]))\n",
    "        x=np.hstack((x,pixel_values_8[i+2,j-2,0:3]))\n",
    "        x=np.hstack((x,pixel_values_8[i-2,j+2,0:3]))\n",
    "        x=np.hstack((x,pixel_values_8[i+2,j+2,0:3]))\n",
    "        data=np.vstack((data,x))\n",
    "        "
   ]
  },
  {
   "cell_type": "code",
   "execution_count": 18,
   "metadata": {},
   "outputs": [],
   "source": [
    "for i in range(2,126):\n",
    "    for j in range(2,126):\n",
    "        x= pixel_values_9[i,j,0:3]\n",
    "        x=np.hstack((x,pixel_values_9[i-1,j-1,0:3]))\n",
    "        x=np.hstack((x,pixel_values_9[i-1,j,0:3]))\n",
    "        x=np.hstack((x,pixel_values_9[i-1,j+1,0:3]))\n",
    "        x=np.hstack((x,pixel_values_9[i,j-1,0:3]))\n",
    "        x=np.hstack((x,pixel_values_9[i,j+1,0:3]))\n",
    "        x=np.hstack((x,pixel_values_9[i+1,j-1,0:3]))\n",
    "        x=np.hstack((x,pixel_values_9[i+1,j,0:3]))\n",
    "        x=np.hstack((x,pixel_values_9[i+1,j+1,0:3]))\n",
    "        x=np.hstack((x,pixel_values_9[i-2,j-2,0:3]))\n",
    "        x=np.hstack((x,pixel_values_9[i+2,j-2,0:3]))\n",
    "        x=np.hstack((x,pixel_values_9[i-2,j+2,0:3]))\n",
    "        x=np.hstack((x,pixel_values_9[i+2,j+2,0:3]))\n",
    "        data=np.vstack((data,x))\n",
    "       "
   ]
  },
  {
   "cell_type": "code",
   "execution_count": 19,
   "metadata": {},
   "outputs": [
    {
     "data": {
      "text/plain": [
       "array([[145,  33, 169, ..., 159,  46, 186],\n",
       "       [145,  33, 169, ..., 159,  46, 186],\n",
       "       [153,  41, 177, ..., 165,  52, 194],\n",
       "       ...,\n",
       "       [ 74,  72,  59, ...,  79,  77,  64],\n",
       "       [ 63,  61,  48, ...,  71,  69,  56],\n",
       "       [ 62,  60,  47, ...,  63,  61,  48]])"
      ]
     },
     "execution_count": 19,
     "metadata": {},
     "output_type": "execute_result"
    }
   ],
   "source": [
    "data"
   ]
  },
  {
   "cell_type": "code",
   "execution_count": 20,
   "metadata": {},
   "outputs": [],
   "source": [
    "data=np.delete(data,0,axis=0)"
   ]
  },
  {
   "cell_type": "code",
   "execution_count": 21,
   "metadata": {},
   "outputs": [
    {
     "data": {
      "text/plain": [
       "(123008, 39)"
      ]
     },
     "execution_count": 21,
     "metadata": {},
     "output_type": "execute_result"
    }
   ],
   "source": [
    "np.shape(data)"
   ]
  },
  {
   "cell_type": "code",
   "execution_count": 22,
   "metadata": {},
   "outputs": [],
   "source": [
    "mask_2=Image.open(r\"C:\\Users\\Surabhi\\OneDrive\\Pictures\\Images and Masks\\Image 2.png\")\n",
    "mask_3=Image.open(r\"C:\\Users\\Surabhi\\OneDrive\\Pictures\\Images and Masks\\Image 3.png\")\n",
    "mask_4=Image.open(r\"C:\\Users\\Surabhi\\OneDrive\\Pictures\\Images and Masks\\Image 4.png\")\n",
    "mask_5=Image.open(r\"C:\\Users\\Surabhi\\OneDrive\\Pictures\\Images and Masks\\Image 5.png\")\n",
    "mask_6=Image.open(r\"C:\\Users\\Surabhi\\OneDrive\\Pictures\\Images and Masks\\Image 6.png\")\n",
    "mask_7=Image.open(r\"C:\\Users\\Surabhi\\OneDrive\\Pictures\\Images and Masks\\Image 7.png\")\n",
    "mask_8=Image.open(r\"C:\\Users\\Surabhi\\OneDrive\\Pictures\\Images and Masks\\Image 8.png\")\n",
    "mask_9=Image.open(r\"C:\\Users\\Surabhi\\OneDrive\\Pictures\\Images and Masks\\Image 9.png\")\n"
   ]
  },
  {
   "cell_type": "code",
   "execution_count": 23,
   "metadata": {},
   "outputs": [],
   "source": [
    "pixel_2 = list(mask_2.getdata())\n",
    "pixel_3 = list(mask_3.getdata())\n",
    "pixel_4 = list(mask_4.getdata())\n",
    "pixel_5 = list(mask_5.getdata())\n",
    "pixel_6 = list(mask_6.getdata())\n",
    "pixel_7 = list(mask_7.getdata())\n",
    "pixel_8 = list(mask_8.getdata())\n",
    "pixel_9 = list(mask_9.getdata())"
   ]
  },
  {
   "cell_type": "code",
   "execution_count": 24,
   "metadata": {},
   "outputs": [],
   "source": [
    "pixel_2 = np.array(pixel_2).reshape((128*128, 4))\n",
    "pixel_3 = np.array(pixel_3).reshape((128*128, 4))\n",
    "pixel_4 = np.array(pixel_4).reshape((128*128, 4))\n",
    "pixel_5 = np.array(pixel_5).reshape((128*128, 4))\n",
    "pixel_6 = np.array(pixel_6).reshape((128*128, 4))\n",
    "pixel_7 = np.array(pixel_7).reshape((128*128, 4))\n",
    "pixel_8 = np.array(pixel_8).reshape((128*128, 4))\n",
    "pixel_9 = np.array(pixel_9).reshape((128*128, 4))"
   ]
  },
  {
   "cell_type": "code",
   "execution_count": 25,
   "metadata": {},
   "outputs": [],
   "source": [
    "y_2=pixel_2[:,0].reshape(128,128)\n",
    "y_3=pixel_3[:,0].reshape(128,128)\n",
    "y_4=pixel_4[:,0].reshape(128,128)\n",
    "y_5=pixel_5[:,0].reshape(128,128)\n",
    "y_6=pixel_6[:,0].reshape(128,128)\n",
    "y_7=pixel_7[:,0].reshape(128,128)\n",
    "y_8=pixel_8[:,0].reshape(128,128)\n",
    "y_9=pixel_9[:,0].reshape(128,128)"
   ]
  },
  {
   "cell_type": "code",
   "execution_count": 26,
   "metadata": {},
   "outputs": [
    {
     "data": {
      "text/plain": [
       "array([[  0,   0,   0, ...,   0,   0,   0],\n",
       "       [  0,   0,   0, ...,   0,   0,   0],\n",
       "       [  0,   0,   0, ...,   0,   0,   0],\n",
       "       ...,\n",
       "       [255, 255, 255, ...,   0,   0,   0],\n",
       "       [255, 255, 255, ...,   0,   0,   0],\n",
       "       [255, 255, 255, ...,   0,   0,   0]])"
      ]
     },
     "execution_count": 26,
     "metadata": {},
     "output_type": "execute_result"
    }
   ],
   "source": [
    "y_2"
   ]
  },
  {
   "cell_type": "code",
   "execution_count": 27,
   "metadata": {},
   "outputs": [],
   "source": [
    "y_2=np.delete(y_2,[0,1,126,127],axis=0)\n",
    "y_2=np.delete(y_2,[0,1,126,127],axis=1)\n",
    "y_3=np.delete(y_3,[0,1,126,127],axis=0)\n",
    "y_3=np.delete(y_3,[0,1,126,127],axis=1)\n",
    "y_4=np.delete(y_4,[0,1,126,127],axis=0)\n",
    "y_4=np.delete(y_4,[0,1,126,127],axis=1)\n",
    "y_5=np.delete(y_5,[0,1,126,127],axis=0)\n",
    "y_5=np.delete(y_5,[0,1,126,127],axis=1)\n",
    "y_6=np.delete(y_6,[0,1,126,127],axis=0)\n",
    "y_6=np.delete(y_6,[0,1,126,127],axis=1)\n",
    "y_7=np.delete(y_7,[0,1,126,127],axis=0)\n",
    "y_7=np.delete(y_7,[0,1,126,127],axis=1)\n",
    "y_8=np.delete(y_8,[0,1,126,127],axis=0)\n",
    "y_8=np.delete(y_8,[0,1,126,127],axis=1)\n",
    "y_9=np.delete(y_9,[0,1,126,127],axis=0)\n",
    "y_9=np.delete(y_9,[0,1,126,127],axis=1)"
   ]
  },
  {
   "cell_type": "code",
   "execution_count": 28,
   "metadata": {},
   "outputs": [],
   "source": [
    "y_2=y_2.reshape(15376,)\n",
    "y_3=y_3.reshape(15376,)\n",
    "y_4=y_4.reshape(15376,)\n",
    "y_5=y_5.reshape(15376,)\n",
    "y_6=y_6.reshape(15376,)\n",
    "y_7=y_7.reshape(15376,)\n",
    "y_8=y_8.reshape(15376,)\n",
    "y_9=y_9.reshape(15376,)"
   ]
  },
  {
   "cell_type": "code",
   "execution_count": 29,
   "metadata": {},
   "outputs": [],
   "source": [
    "import itertools"
   ]
  },
  {
   "cell_type": "code",
   "execution_count": 30,
   "metadata": {},
   "outputs": [],
   "source": [
    "y = list(itertools.chain(y_2,y_3,y_4,y_5,y_6,y_7,y_8,y_9))"
   ]
  },
  {
   "cell_type": "code",
   "execution_count": 31,
   "metadata": {},
   "outputs": [],
   "source": [
    "y = np.array(y).reshape(123008, )"
   ]
  },
  {
   "cell_type": "code",
   "execution_count": 32,
   "metadata": {},
   "outputs": [
    {
     "data": {
      "text/plain": [
       "array([0, 0, 0, ..., 0, 0, 0])"
      ]
     },
     "execution_count": 32,
     "metadata": {},
     "output_type": "execute_result"
    }
   ],
   "source": [
    "y"
   ]
  },
  {
   "cell_type": "code",
   "execution_count": 33,
   "metadata": {},
   "outputs": [],
   "source": [
    "y=y//255"
   ]
  },
  {
   "cell_type": "code",
   "execution_count": 34,
   "metadata": {},
   "outputs": [
    {
     "data": {
      "text/plain": [
       "array([0, 0, 0, ..., 0, 0, 0], dtype=int32)"
      ]
     },
     "execution_count": 34,
     "metadata": {},
     "output_type": "execute_result"
    }
   ],
   "source": [
    "y"
   ]
  },
  {
   "cell_type": "code",
   "execution_count": 35,
   "metadata": {},
   "outputs": [],
   "source": [
    "import tensorflow as tf"
   ]
  },
  {
   "cell_type": "code",
   "execution_count": 77,
   "metadata": {},
   "outputs": [],
   "source": [
    "X=data"
   ]
  },
  {
   "cell_type": "code",
   "execution_count": 78,
   "metadata": {},
   "outputs": [
    {
     "data": {
      "text/plain": [
       "(123008, 39)"
      ]
     },
     "execution_count": 78,
     "metadata": {},
     "output_type": "execute_result"
    }
   ],
   "source": [
    "np.shape(data)"
   ]
  },
  {
   "cell_type": "code",
   "execution_count": 79,
   "metadata": {},
   "outputs": [
    {
     "data": {
      "text/plain": [
       "(123008, 39)"
      ]
     },
     "execution_count": 79,
     "metadata": {},
     "output_type": "execute_result"
    }
   ],
   "source": [
    "np.shape(X)"
   ]
  },
  {
   "cell_type": "code",
   "execution_count": 80,
   "metadata": {},
   "outputs": [
    {
     "data": {
      "text/plain": [
       "array([[145,  33, 169, ..., 159,  46, 186],\n",
       "       [153,  41, 177, ..., 165,  52, 194],\n",
       "       [161,  48, 188, ..., 167,  54, 198],\n",
       "       ...,\n",
       "       [ 74,  72,  59, ...,  79,  77,  64],\n",
       "       [ 63,  61,  48, ...,  71,  69,  56],\n",
       "       [ 62,  60,  47, ...,  63,  61,  48]])"
      ]
     },
     "execution_count": 80,
     "metadata": {},
     "output_type": "execute_result"
    }
   ],
   "source": [
    "X"
   ]
  },
  {
   "cell_type": "code",
   "execution_count": 81,
   "metadata": {},
   "outputs": [],
   "source": [
    "from sklearn.preprocessing import StandardScaler\n",
    "sc = StandardScaler()\n",
    "X = sc.fit_transform(X)\n"
   ]
  },
  {
   "cell_type": "code",
   "execution_count": 82,
   "metadata": {},
   "outputs": [],
   "source": [
    "ann = tf.keras.models.Sequential()\n",
    "ann.add(tf.keras.layers.Dense(units=15, activation='relu'))\n",
    "ann.add(tf.keras.layers.Dense(units=60, activation='relu'))\n",
    "\n",
    "ann.add(tf.keras.layers.Dense(units=1, activation='sigmoid'))"
   ]
  },
  {
   "cell_type": "code",
   "execution_count": 83,
   "metadata": {},
   "outputs": [],
   "source": [
    "ann.compile(optimizer = 'adam', loss = 'binary_crossentropy', metrics = ['accuracy'])"
   ]
  },
  {
   "cell_type": "code",
   "execution_count": 84,
   "metadata": {},
   "outputs": [],
   "source": [
    "start_time = time.time()"
   ]
  },
  {
   "cell_type": "code",
   "execution_count": 85,
   "metadata": {},
   "outputs": [
    {
     "name": "stdout",
     "output_type": "stream",
     "text": [
      "Epoch 1/100\n",
      "3844/3844 [==============================] - 6s 1ms/step - loss: 0.3102 - accuracy: 0.8720\n",
      "Epoch 2/100\n",
      "3844/3844 [==============================] - 6s 1ms/step - loss: 0.1998 - accuracy: 0.9247\n",
      "Epoch 3/100\n",
      "3844/3844 [==============================] - 5s 1ms/step - loss: 0.1877 - accuracy: 0.9286\n",
      "Epoch 4/100\n",
      "3844/3844 [==============================] - 5s 1ms/step - loss: 0.1781 - accuracy: 0.9315\n",
      "Epoch 5/100\n",
      "3844/3844 [==============================] - 6s 2ms/step - loss: 0.1680 - accuracy: 0.9344\n",
      "Epoch 6/100\n",
      "3844/3844 [==============================] - 5s 1ms/step - loss: 0.1651 - accuracy: 0.9361\n",
      "Epoch 7/100\n",
      "3844/3844 [==============================] - 5s 1ms/step - loss: 0.1623 - accuracy: 0.9385\n",
      "Epoch 8/100\n",
      "3844/3844 [==============================] - 6s 1ms/step - loss: 0.1584 - accuracy: 0.9387\n",
      "Epoch 9/100\n",
      "3844/3844 [==============================] - ETA: 0s - loss: 0.1548 - accuracy: 0.94 - 5s 1ms/step - loss: 0.1548 - accuracy: 0.9402\n",
      "Epoch 10/100\n",
      "3844/3844 [==============================] - 6s 1ms/step - loss: 0.1497 - accuracy: 0.9417\n",
      "Epoch 11/100\n",
      "3844/3844 [==============================] - 6s 2ms/step - loss: 0.1480 - accuracy: 0.9424\n",
      "Epoch 12/100\n",
      "3844/3844 [==============================] - 5s 1ms/step - loss: 0.1476 - accuracy: 0.9425\n",
      "Epoch 13/100\n",
      "3844/3844 [==============================] - 5s 1ms/step - loss: 0.1464 - accuracy: 0.9425\n",
      "Epoch 14/100\n",
      "3844/3844 [==============================] - 6s 1ms/step - loss: 0.1414 - accuracy: 0.9443\n",
      "Epoch 15/100\n",
      "3844/3844 [==============================] - 5s 1ms/step - loss: 0.1396 - accuracy: 0.9460\n",
      "Epoch 16/100\n",
      "3844/3844 [==============================] - 6s 1ms/step - loss: 0.1392 - accuracy: 0.9460\n",
      "Epoch 17/100\n",
      "3844/3844 [==============================] - 6s 1ms/step - loss: 0.1366 - accuracy: 0.9468\n",
      "Epoch 18/100\n",
      "3844/3844 [==============================] - 5s 1ms/step - loss: 0.1370 - accuracy: 0.9464\n",
      "Epoch 19/100\n",
      "3844/3844 [==============================] - 6s 1ms/step - loss: 0.1345 - accuracy: 0.9481\n",
      "Epoch 20/100\n",
      "3844/3844 [==============================] - 5s 1ms/step - loss: 0.1338 - accuracy: 0.9483\n",
      "Epoch 21/100\n",
      "3844/3844 [==============================] - 5s 1ms/step - loss: 0.1340 - accuracy: 0.9484\n",
      "Epoch 22/100\n",
      "3844/3844 [==============================] - 6s 1ms/step - loss: 0.1340 - accuracy: 0.9483\n",
      "Epoch 23/100\n",
      "3844/3844 [==============================] - 5s 1ms/step - loss: 0.1330 - accuracy: 0.9485\n",
      "Epoch 24/100\n",
      "3844/3844 [==============================] - 5s 1ms/step - loss: 0.1308 - accuracy: 0.9494\n",
      "Epoch 25/100\n",
      "3844/3844 [==============================] - 6s 1ms/step - loss: 0.1292 - accuracy: 0.9497\n",
      "Epoch 26/100\n",
      "3844/3844 [==============================] - 5s 1ms/step - loss: 0.1316 - accuracy: 0.9485\n",
      "Epoch 27/100\n",
      "3844/3844 [==============================] - 5s 1ms/step - loss: 0.1307 - accuracy: 0.9491\n",
      "Epoch 28/100\n",
      "3844/3844 [==============================] - ETA: 0s - loss: 0.1295 - accuracy: 0.94 - 6s 1ms/step - loss: 0.1295 - accuracy: 0.9494\n",
      "Epoch 29/100\n",
      "3844/3844 [==============================] - 5s 1ms/step - loss: 0.1279 - accuracy: 0.9507\n",
      "Epoch 30/100\n",
      "3844/3844 [==============================] - 5s 1ms/step - loss: 0.1267 - accuracy: 0.9510\n",
      "Epoch 31/100\n",
      "3844/3844 [==============================] - 6s 1ms/step - loss: 0.1275 - accuracy: 0.9500\n",
      "Epoch 32/100\n",
      "3844/3844 [==============================] - 5s 1ms/step - loss: 0.1238 - accuracy: 0.9513\n",
      "Epoch 33/100\n",
      "3844/3844 [==============================] - 5s 1ms/step - loss: 0.1257 - accuracy: 0.9515\n",
      "Epoch 34/100\n",
      "3844/3844 [==============================] - 6s 1ms/step - loss: 0.1245 - accuracy: 0.9521\n",
      "Epoch 35/100\n",
      "3844/3844 [==============================] - 5s 1ms/step - loss: 0.1230 - accuracy: 0.9528\n",
      "Epoch 36/100\n",
      "3844/3844 [==============================] - 5s 1ms/step - loss: 0.1239 - accuracy: 0.9518\n",
      "Epoch 37/100\n",
      "3844/3844 [==============================] - 6s 1ms/step - loss: 0.1239 - accuracy: 0.9520\n",
      "Epoch 38/100\n",
      "3844/3844 [==============================] - 5s 1ms/step - loss: 0.1228 - accuracy: 0.9522\n",
      "Epoch 39/100\n",
      "3844/3844 [==============================] - 5s 1ms/step - loss: 0.1238 - accuracy: 0.9515\n",
      "Epoch 40/100\n",
      "3844/3844 [==============================] - 6s 1ms/step - loss: 0.1221 - accuracy: 0.9527\n",
      "Epoch 41/100\n",
      "3844/3844 [==============================] - 5s 1ms/step - loss: 0.1223 - accuracy: 0.9532\n",
      "Epoch 42/100\n",
      "3844/3844 [==============================] - 5s 1ms/step - loss: 0.1202 - accuracy: 0.9539\n",
      "Epoch 43/100\n",
      "3844/3844 [==============================] - 6s 1ms/step - loss: 0.1196 - accuracy: 0.9553\n",
      "Epoch 44/100\n",
      "3844/3844 [==============================] - 5s 1ms/step - loss: 0.1197 - accuracy: 0.9537\n",
      "Epoch 45/100\n",
      "3844/3844 [==============================] - 6s 2ms/step - loss: 0.1206 - accuracy: 0.9533\n",
      "Epoch 46/100\n",
      "3844/3844 [==============================] - 6s 1ms/step - loss: 0.1215 - accuracy: 0.9525\n",
      "Epoch 47/100\n",
      "3844/3844 [==============================] - 5s 1ms/step - loss: 0.1194 - accuracy: 0.9547\n",
      "Epoch 48/100\n",
      "3844/3844 [==============================] - 6s 1ms/step - loss: 0.1191 - accuracy: 0.9536\n",
      "Epoch 49/100\n",
      "3844/3844 [==============================] - 6s 1ms/step - loss: 0.1217 - accuracy: 0.9531\n",
      "Epoch 50/100\n",
      "3844/3844 [==============================] - 5s 1ms/step - loss: 0.1205 - accuracy: 0.9538\n",
      "Epoch 51/100\n",
      "3844/3844 [==============================] - 6s 2ms/step - loss: 0.1165 - accuracy: 0.9552\n",
      "Epoch 52/100\n",
      "3844/3844 [==============================] - 5s 1ms/step - loss: 0.1179 - accuracy: 0.9541\n",
      "Epoch 53/100\n",
      "3844/3844 [==============================] - 5s 1ms/step - loss: 0.1177 - accuracy: 0.9552\n",
      "Epoch 54/100\n",
      "3844/3844 [==============================] - 6s 2ms/step - loss: 0.1176 - accuracy: 0.9540\n",
      "Epoch 55/100\n",
      "3844/3844 [==============================] - 5s 1ms/step - loss: 0.1175 - accuracy: 0.9549\n",
      "Epoch 56/100\n",
      "3844/3844 [==============================] - 5s 1ms/step - loss: 0.1156 - accuracy: 0.9555\n",
      "Epoch 57/100\n",
      "3844/3844 [==============================] - 6s 2ms/step - loss: 0.1148 - accuracy: 0.9555\n",
      "Epoch 58/100\n",
      "3844/3844 [==============================] - 6s 1ms/step - loss: 0.1190 - accuracy: 0.9547\n",
      "Epoch 59/100\n",
      "3844/3844 [==============================] - 5s 1ms/step - loss: 0.1160 - accuracy: 0.9552\n",
      "Epoch 60/100\n",
      "3844/3844 [==============================] - 6s 2ms/step - loss: 0.1142 - accuracy: 0.9560\n",
      "Epoch 61/100\n",
      "3844/3844 [==============================] - 5s 1ms/step - loss: 0.1175 - accuracy: 0.9546\n",
      "Epoch 62/100\n",
      "3844/3844 [==============================] - 6s 1ms/step - loss: 0.1146 - accuracy: 0.9566\n",
      "Epoch 63/100\n",
      "3844/3844 [==============================] - 6s 2ms/step - loss: 0.1175 - accuracy: 0.9552\n",
      "Epoch 64/100\n",
      "3844/3844 [==============================] - 6s 2ms/step - loss: 0.1144 - accuracy: 0.9559\n",
      "Epoch 65/100\n",
      "3844/3844 [==============================] - 6s 2ms/step - loss: 0.1158 - accuracy: 0.9553\n",
      "Epoch 66/100\n",
      "3844/3844 [==============================] - 5s 1ms/step - loss: 0.1128 - accuracy: 0.9564\n",
      "Epoch 67/100\n",
      "3844/3844 [==============================] - 5s 1ms/step - loss: 0.1153 - accuracy: 0.9563\n",
      "Epoch 68/100\n",
      "3844/3844 [==============================] - 6s 2ms/step - loss: 0.1140 - accuracy: 0.9560\n",
      "Epoch 69/100\n",
      "3844/3844 [==============================] - 5s 1ms/step - loss: 0.1162 - accuracy: 0.9559\n",
      "Epoch 70/100\n",
      "3844/3844 [==============================] - 6s 1ms/step - loss: 0.1124 - accuracy: 0.9570\n",
      "Epoch 71/100\n",
      "3844/3844 [==============================] - 6s 2ms/step - loss: 0.1126 - accuracy: 0.9566\n",
      "Epoch 72/100\n",
      "3844/3844 [==============================] - 6s 1ms/step - loss: 0.1081 - accuracy: 0.9590\n",
      "Epoch 73/100\n",
      "3844/3844 [==============================] - 6s 1ms/step - loss: 0.1135 - accuracy: 0.9570\n",
      "Epoch 74/100\n",
      "3844/3844 [==============================] - 6s 2ms/step - loss: 0.1143 - accuracy: 0.9558\n",
      "Epoch 75/100\n",
      "3844/3844 [==============================] - 6s 1ms/step - loss: 0.1106 - accuracy: 0.9582\n",
      "Epoch 76/100\n",
      "3844/3844 [==============================] - 6s 2ms/step - loss: 0.1153 - accuracy: 0.9555\n",
      "Epoch 77/100\n",
      "3844/3844 [==============================] - 6s 2ms/step - loss: 0.1119 - accuracy: 0.9563\n",
      "Epoch 78/100\n",
      "3844/3844 [==============================] - 6s 1ms/step - loss: 0.1101 - accuracy: 0.9581\n",
      "Epoch 79/100\n",
      "3844/3844 [==============================] - 6s 1ms/step - loss: 0.1119 - accuracy: 0.9572\n",
      "Epoch 80/100\n",
      "3844/3844 [==============================] - 5s 1ms/step - loss: 0.1117 - accuracy: 0.9573\n",
      "Epoch 81/100\n",
      "3844/3844 [==============================] - 5s 1ms/step - loss: 0.1108 - accuracy: 0.9578\n",
      "Epoch 82/100\n",
      "3844/3844 [==============================] - 6s 1ms/step - loss: 0.1110 - accuracy: 0.9572\n",
      "Epoch 83/100\n",
      "3844/3844 [==============================] - 5s 1ms/step - loss: 0.1113 - accuracy: 0.9580\n",
      "Epoch 84/100\n",
      "3844/3844 [==============================] - 5s 1ms/step - loss: 0.1113 - accuracy: 0.9570\n",
      "Epoch 85/100\n",
      "3844/3844 [==============================] - 6s 2ms/step - loss: 0.1098 - accuracy: 0.9581\n",
      "Epoch 86/100\n",
      "3844/3844 [==============================] - 5s 1ms/step - loss: 0.1123 - accuracy: 0.9577\n",
      "Epoch 87/100\n",
      "3844/3844 [==============================] - 5s 1ms/step - loss: 0.1119 - accuracy: 0.9569\n",
      "Epoch 88/100\n",
      "3844/3844 [==============================] - 6s 1ms/step - loss: 0.1091 - accuracy: 0.9576\n",
      "Epoch 89/100\n",
      "3844/3844 [==============================] - 5s 1ms/step - loss: 0.1096 - accuracy: 0.9582\n",
      "Epoch 90/100\n",
      "3844/3844 [==============================] - 5s 1ms/step - loss: 0.1087 - accuracy: 0.9578\n",
      "Epoch 91/100\n",
      "3844/3844 [==============================] - 6s 1ms/step - loss: 0.1103 - accuracy: 0.9577\n",
      "Epoch 92/100\n",
      "3844/3844 [==============================] - 5s 1ms/step - loss: 0.1071 - accuracy: 0.9589\n",
      "Epoch 93/100\n",
      "3844/3844 [==============================] - 5s 1ms/step - loss: 0.1086 - accuracy: 0.9584\n",
      "Epoch 94/100\n",
      "3844/3844 [==============================] - 6s 2ms/step - loss: 0.1102 - accuracy: 0.9577\n",
      "Epoch 95/100\n",
      "3844/3844 [==============================] - 6s 2ms/step - loss: 0.1084 - accuracy: 0.9579\n",
      "Epoch 96/100\n",
      "3844/3844 [==============================] - 6s 2ms/step - loss: 0.1091 - accuracy: 0.9583\n",
      "Epoch 97/100\n",
      "3844/3844 [==============================] - 6s 1ms/step - loss: 0.1097 - accuracy: 0.9580\n",
      "Epoch 98/100\n",
      "3844/3844 [==============================] - 6s 1ms/step - loss: 0.1073 - accuracy: 0.9587\n",
      "Epoch 99/100\n",
      "3844/3844 [==============================] - 5s 1ms/step - loss: 0.1083 - accuracy: 0.9587\n",
      "Epoch 100/100\n",
      "3844/3844 [==============================] - 6s 1ms/step - loss: 0.1097 - accuracy: 0.9572\n"
     ]
    },
    {
     "data": {
      "text/plain": [
       "<tensorflow.python.keras.callbacks.History at 0x2bcc1623a48>"
      ]
     },
     "execution_count": 85,
     "metadata": {},
     "output_type": "execute_result"
    }
   ],
   "source": [
    "ann.fit(X, y, batch_size =32, epochs = 100)"
   ]
  },
  {
   "cell_type": "code",
   "execution_count": 86,
   "metadata": {},
   "outputs": [
    {
     "name": "stdout",
     "output_type": "stream",
     "text": [
      "557.2791697978973\n"
     ]
    }
   ],
   "source": [
    "print(time.time()-start_time)"
   ]
  },
  {
   "cell_type": "code",
   "execution_count": 46,
   "metadata": {},
   "outputs": [],
   "source": [
    "test_img_1=Image.open(r\"C:\\Users\\Surabhi\\OneDrive\\Pictures\\Images and Masks\\Image 10_contrast.jpg\")"
   ]
  },
  {
   "cell_type": "code",
   "execution_count": 47,
   "metadata": {},
   "outputs": [],
   "source": [
    "pixel_values_test = list(test_img_1.getdata())"
   ]
  },
  {
   "cell_type": "code",
   "execution_count": 48,
   "metadata": {},
   "outputs": [],
   "source": [
    "pixel_values_test = np.array(pixel_values_test).reshape((128,128, 3))"
   ]
  },
  {
   "cell_type": "code",
   "execution_count": 49,
   "metadata": {},
   "outputs": [],
   "source": [
    "data_test=np.empty((39,))"
   ]
  },
  {
   "cell_type": "code",
   "execution_count": 50,
   "metadata": {},
   "outputs": [
    {
     "data": {
      "text/plain": [
       "array([81.13442474, 84.25525859, 87.95452024, 81.07810584, 84.28373772,\n",
       "       88.02305409, 81.08857386, 84.31904728, 88.04500073, 81.09047829,\n",
       "       84.33994634, 88.05301066, 81.12554917, 84.22106071, 87.93513269,\n",
       "       81.13435336, 84.27464826, 87.95973082, 81.16517337, 84.14654956,\n",
       "       87.83882482, 81.17231107, 84.17937824, 87.85544581, 81.16965628,\n",
       "       84.19654037, 87.8575354 , 81.02143651, 84.30317028, 88.076857  ,\n",
       "       81.19689001, 84.03192416, 87.72484851, 81.05663832, 84.42501676,\n",
       "       88.15193745, 81.20142323, 84.12506426, 87.75542028])"
      ]
     },
     "execution_count": 50,
     "metadata": {},
     "output_type": "execute_result"
    }
   ],
   "source": [
    "data_test"
   ]
  },
  {
   "cell_type": "code",
   "execution_count": 51,
   "metadata": {},
   "outputs": [],
   "source": [
    "for i in range(2,126):\n",
    "    for j in range(2,126):\n",
    "        x= pixel_values_test[i,j,0:3]\n",
    "        x=np.hstack((x,pixel_values_test[i-1,j-1,0:3]))\n",
    "        x=np.hstack((x,pixel_values_test[i-1,j,0:3]))\n",
    "        x=np.hstack((x,pixel_values_test[i-1,j+1,0:3]))\n",
    "        x=np.hstack((x,pixel_values_test[i,j-1,0:3]))\n",
    "        x=np.hstack((x,pixel_values_test[i,j+1,0:3]))\n",
    "        x=np.hstack((x,pixel_values_test[i+1,j-1,0:3]))\n",
    "        x=np.hstack((x,pixel_values_test[i+1,j,0:3]))\n",
    "        x=np.hstack((x,pixel_values_test[i+1,j+1,0:3]))\n",
    "        x=np.hstack((x,pixel_values_test[i-2,j-2,0:3]))\n",
    "        x=np.hstack((x,pixel_values_test[i+2,j-2,0:3]))\n",
    "        x=np.hstack((x,pixel_values_test[i-2,j+2,0:3]))\n",
    "        x=np.hstack((x,pixel_values_test[i+2,j+2,0:3]))\n",
    "        data_test=np.vstack((data_test,x))"
   ]
  },
  {
   "cell_type": "code",
   "execution_count": 52,
   "metadata": {},
   "outputs": [
    {
     "data": {
      "text/plain": [
       "array([[ 81.13442474,  84.25525859,  87.95452024, ...,  81.20142323,\n",
       "         84.12506426,  87.75542028],\n",
       "       [ 11.        , 143.        , 119.        , ...,  12.        ,\n",
       "        121.        ,  92.        ],\n",
       "       [  7.        , 119.        ,  97.        , ...,   0.        ,\n",
       "         85.        ,  57.        ],\n",
       "       ...,\n",
       "       [ 11.        ,  90.        ,  59.        , ...,   0.        ,\n",
       "        121.        ,  64.        ],\n",
       "       [  7.        , 109.        ,  69.        , ...,   0.        ,\n",
       "        133.        ,  71.        ],\n",
       "       [  3.        , 125.        ,  74.        , ...,   0.        ,\n",
       "        136.        ,  69.        ]])"
      ]
     },
     "execution_count": 52,
     "metadata": {},
     "output_type": "execute_result"
    }
   ],
   "source": [
    "data_test"
   ]
  },
  {
   "cell_type": "code",
   "execution_count": 53,
   "metadata": {},
   "outputs": [],
   "source": [
    "data_test=np.delete(data_test,0,axis=0)"
   ]
  },
  {
   "cell_type": "code",
   "execution_count": 54,
   "metadata": {},
   "outputs": [
    {
     "data": {
      "text/plain": [
       "array([[ 11., 143., 119., ...,  12., 121.,  92.],\n",
       "       [  7., 119.,  97., ...,   0.,  85.,  57.],\n",
       "       [  0.,  83.,  63., ...,   0.,  52.,  26.],\n",
       "       ...,\n",
       "       [ 11.,  90.,  59., ...,   0., 121.,  64.],\n",
       "       [  7., 109.,  69., ...,   0., 133.,  71.],\n",
       "       [  3., 125.,  74., ...,   0., 136.,  69.]])"
      ]
     },
     "execution_count": 54,
     "metadata": {},
     "output_type": "execute_result"
    }
   ],
   "source": [
    "data_test"
   ]
  },
  {
   "cell_type": "code",
   "execution_count": 55,
   "metadata": {},
   "outputs": [
    {
     "data": {
      "text/plain": [
       "(15376, 39)"
      ]
     },
     "execution_count": 55,
     "metadata": {},
     "output_type": "execute_result"
    }
   ],
   "source": [
    "np.shape(data_test)"
   ]
  },
  {
   "cell_type": "code",
   "execution_count": 56,
   "metadata": {},
   "outputs": [],
   "source": [
    "prediction=ann.predict(sc.transform(data_test))\n",
    "final=(prediction>0.5)"
   ]
  },
  {
   "cell_type": "code",
   "execution_count": 57,
   "metadata": {},
   "outputs": [],
   "source": [
    "final=final.reshape(124,124)"
   ]
  },
  {
   "cell_type": "code",
   "execution_count": 58,
   "metadata": {},
   "outputs": [],
   "source": [
    "import matplotlib.pyplot as plt"
   ]
  },
  {
   "cell_type": "code",
   "execution_count": 59,
   "metadata": {},
   "outputs": [
    {
     "data": {
      "image/png": "[encoded data removed]",
      "text/plain": [
       "<Figure size 432x288 with 1 Axes>"
      ]
     },
     "metadata": {
      "needs_background": "light"
     },
     "output_type": "display_data"
    }
   ],
   "source": [
    "plt.imshow(final, cmap='gray')\n",
    "plt.show() "
   ]
  },
  {
   "cell_type": "markdown",
   "metadata": {},
   "source": [
    "Finding the test accuracy"
   ]
  },
  {
   "cell_type": "code",
   "execution_count": 60,
   "metadata": {},
   "outputs": [],
   "source": [
    "mask_test=Image.open(r\"C:\\Users\\Surabhi\\OneDrive\\Pictures\\Images and Masks\\segmentation\\Image 10_contrast.png\")"
   ]
  },
  {
   "cell_type": "code",
   "execution_count": 61,
   "metadata": {},
   "outputs": [],
   "source": [
    "pixel_test = list(mask_test.getdata())"
   ]
  },
  {
   "cell_type": "code",
   "execution_count": 62,
   "metadata": {},
   "outputs": [
    {
     "data": {
      "text/plain": [
       "[(255, 255, 255, 255),\n",
       " (255, 255, 255, 255),\n",
       " (255, 255, 255, 255),\n",
       " (255, 255, 255, 255),\n",
       " (255, 255, 255, 255),\n",
       " (255, 255, 255, 255),\n",
       " (255, 255, 255, 255),\n",
       " (255, 255, 255, 255),\n",
       " (255, 255, 255, 255),\n",
       " (255, 255, 255, 255),\n",
       " (255, 255, 255, 255),\n",
       " (255, 255, 255, 255),\n",
       " (255, 255, 255, 255),\n",
       " (255, 255, 255, 255),\n",
       " (255, 255, 255, 255),\n",
       " (255, 255, 255, 255),\n",
       " (255, 255, 255, 255),\n",
       " (255, 255, 255, 255),\n",
       " (255, 255, 255, 255),\n",
       " (255, 255, 255, 255),\n",
       " (255, 255, 255, 255),\n",
       " (255, 255, 255, 255),\n",
       " (255, 255, 255, 255),\n",
       " (255, 255, 255, 255),\n",
       " (255, 255, 255, 255),\n",
       " (255, 255, 255, 255),\n",
       " (255, 255, 255, 255),\n",
       " (255, 255, 255, 255),\n",
       " (255, 255, 255, 255),\n",
       " (255, 255, 255, 255),\n",
       " (255, 255, 255, 255),\n",
       " (255, 255, 255, 255),\n",
       " (255, 255, 255, 255),\n",
       " (255, 255, 255, 255),\n",
       " (255, 255, 255, 255),\n",
       " (255, 255, 255, 255),\n",
       " (255, 255, 255, 255),\n",
       " (255, 255, 255, 255),\n",
       " (255, 255, 255, 255),\n",
       " (255, 255, 255, 255),\n",
       " (0, 0, 0, 255),\n",
       " (0, 0, 0, 255),\n",
       " (0, 0, 0, 255),\n",
       " (0, 0, 0, 255),\n",
       " (0, 0, 0, 255),\n",
       " (0, 0, 0, 255),\n",
       " (0, 0, 0, 255),\n",
       " (0, 0, 0, 255),\n",
       " (0, 0, 0, 255),\n",
       " (0, 0, 0, 255),\n",
       " (255, 255, 255, 255),\n",
       " (255, 255, 255, 255),\n",
       " (255, 255, 255, 255),\n",
       " (255, 255, 255, 255),\n",
       " (255, 255, 255, 255),\n",
       " (255, 255, 255, 255),\n",
       " (255, 255, 255, 255),\n",
       " (255, 255, 255, 255),\n",
       " (255, 255, 255, 255),\n",
       " (255, 255, 255, 255),\n",
       " (255, 255, 255, 255),\n",
       " (255, 255, 255, 255),\n",
       " (255, 255, 255, 255),\n",
       " (255, 255, 255, 255),\n",
       " (255, 255, 255, 255),\n",
       " (255, 255, 255, 255),\n",
       " (255, 255, 255, 255),\n",
       " (255, 255, 255, 255),\n",
       " (255, 255, 255, 255),\n",
       " (255, 255, 255, 255),\n",
       " (255, 255, 255, 255),\n",
       " (255, 255, 255, 255),\n",
       " (255, 255, 255, 255),\n",
       " (255, 255, 255, 255),\n",
       " (255, 255, 255, 255),\n",
       " (255, 255, 255, 255),\n",
       " (255, 255, 255, 255),\n",
       " (255, 255, 255, 255),\n",
       " (255, 255, 255, 255),\n",
       " (255, 255, 255, 255),\n",
       " (255, 255, 255, 255),\n",
       " (255, 255, 255, 255),\n",
       " (255, 255, 255, 255),\n",
       " (255, 255, 255, 255),\n",
       " (255, 255, 255, 255),\n",
       " (255, 255, 255, 255),\n",
       " (255, 255, 255, 255),\n",
       " (255, 255, 255, 255),\n",
       " (255, 255, 255, 255),\n",
       " (255, 255, 255, 255),\n",
       " (255, 255, 255, 255),\n",
       " (255, 255, 255, 255),\n",
       " (255, 255, 255, 255),\n",
       " (255, 255, 255, 255),\n",
       " (255, 255, 255, 255),\n",
       " (255, 255, 255, 255),\n",
       " (255, 255, 255, 255),\n",
       " (255, 255, 255, 255),\n",
       " (255, 255, 255, 255),\n",
       " (255, 255, 255, 255),\n",
       " (255, 255, 255, 255),\n",
       " (255, 255, 255, 255),\n",
       " (255, 255, 255, 255),\n",
       " (255, 255, 255, 255),\n",
       " (255, 255, 255, 255),\n",
       " (255, 255, 255, 255),\n",
       " (255, 255, 255, 255),\n",
       " (255, 255, 255, 255),\n",
       " (255, 255, 255, 255),\n",
       " (0, 0, 0, 255),\n",
       " (0, 0, 0, 255),\n",
       " (0, 0, 0, 255),\n",
       " (0, 0, 0, 255),\n",
       " (255, 255, 255, 255),\n",
       " (255, 255, 255, 255),\n",
       " (255, 255, 255, 255),\n",
       " (255, 255, 255, 255),\n",
       " (255, 255, 255, 255),\n",
       " (255, 255, 255, 255),\n",
       " (255, 255, 255, 255),\n",
       " (255, 255, 255, 255),\n",
       " (255, 255, 255, 255),\n",
       " (255, 255, 255, 255),\n",
       " (255, 255, 255, 255),\n",
       " (255, 255, 255, 255),\n",
       " (255, 255, 255, 255),\n",
       " (255, 255, 255, 255),\n",
       " (255, 255, 255, 255),\n",
       " (255, 255, 255, 255),\n",
       " (255, 255, 255, 255),\n",
       " (255, 255, 255, 255),\n",
       " (255, 255, 255, 255),\n",
       " (255, 255, 255, 255),\n",
       " (255, 255, 255, 255),\n",
       " (255, 255, 255, 255),\n",
       " (255, 255, 255, 255),\n",
       " (255, 255, 255, 255),\n",
       " (255, 255, 255, 255),\n",
       " (255, 255, 255, 255),\n",
       " (255, 255, 255, 255),\n",
       " (255, 255, 255, 255),\n",
       " (255, 255, 255, 255),\n",
       " (255, 255, 255, 255),\n",
       " (255, 255, 255, 255),\n",
       " (255, 255, 255, 255),\n",
       " (255, 255, 255, 255),\n",
       " (255, 255, 255, 255),\n",
       " (255, 255, 255, 255),\n",
       " (255, 255, 255, 255),\n",
       " (255, 255, 255, 255),\n",
       " (255, 255, 255, 255),\n",
       " (255, 255, 255, 255),\n",
       " (255, 255, 255, 255),\n",
       " (255, 255, 255, 255),\n",
       " (255, 255, 255, 255),\n",
       " (255, 255, 255, 255),\n",
       " (255, 255, 255, 255),\n",
       " (255, 255, 255, 255),\n",
       " (255, 255, 255, 255),\n",
       " (255, 255, 255, 255),\n",
       " (255, 255, 255, 255),\n",
       " (255, 255, 255, 255),\n",
       " (255, 255, 255, 255),\n",
       " (255, 255, 255, 255),\n",
       " (255, 255, 255, 255),\n",
       " (255, 255, 255, 255),\n",
       " (255, 255, 255, 255),\n",
       " (255, 255, 255, 255),\n",
       " (0, 0, 0, 255),\n",
       " (0, 0, 0, 255),\n",
       " (0, 0, 0, 255),\n",
       " (0, 0, 0, 255),\n",
       " (0, 0, 0, 255),\n",
       " (0, 0, 0, 255),\n",
       " (0, 0, 0, 255),\n",
       " (0, 0, 0, 255),\n",
       " (0, 0, 0, 255),\n",
       " (0, 0, 0, 255),\n",
       " (255, 255, 255, 255),\n",
       " (255, 255, 255, 255),\n",
       " (255, 255, 255, 255),\n",
       " (255, 255, 255, 255),\n",
       " (255, 255, 255, 255),\n",
       " (255, 255, 255, 255),\n",
       " (255, 255, 255, 255),\n",
       " (255, 255, 255, 255),\n",
       " (255, 255, 255, 255),\n",
       " (255, 255, 255, 255),\n",
       " (255, 255, 255, 255),\n",
       " (255, 255, 255, 255),\n",
       " (255, 255, 255, 255),\n",
       " (255, 255, 255, 255),\n",
       " (255, 255, 255, 255),\n",
       " (255, 255, 255, 255),\n",
       " (255, 255, 255, 255),\n",
       " (255, 255, 255, 255),\n",
       " (255, 255, 255, 255),\n",
       " (255, 255, 255, 255),\n",
       " (255, 255, 255, 255),\n",
       " (255, 255, 255, 255),\n",
       " (255, 255, 255, 255),\n",
       " (255, 255, 255, 255),\n",
       " (255, 255, 255, 255),\n",
       " (255, 255, 255, 255),\n",
       " (255, 255, 255, 255),\n",
       " (255, 255, 255, 255),\n",
       " (255, 255, 255, 255),\n",
       " (255, 255, 255, 255),\n",
       " (255, 255, 255, 255),\n",
       " (255, 255, 255, 255),\n",
       " (255, 255, 255, 255),\n",
       " (255, 255, 255, 255),\n",
       " (255, 255, 255, 255),\n",
       " (255, 255, 255, 255),\n",
       " (255, 255, 255, 255),\n",
       " (255, 255, 255, 255),\n",
       " (255, 255, 255, 255),\n",
       " (255, 255, 255, 255),\n",
       " (255, 255, 255, 255),\n",
       " (255, 255, 255, 255),\n",
       " (255, 255, 255, 255),\n",
       " (255, 255, 255, 255),\n",
       " (255, 255, 255, 255),\n",
       " (255, 255, 255, 255),\n",
       " (255, 255, 255, 255),\n",
       " (255, 255, 255, 255),\n",
       " (255, 255, 255, 255),\n",
       " (255, 255, 255, 255),\n",
       " (255, 255, 255, 255),\n",
       " (255, 255, 255, 255),\n",
       " (255, 255, 255, 255),\n",
       " (255, 255, 255, 255),\n",
       " (255, 255, 255, 255),\n",
       " (255, 255, 255, 255),\n",
       " (255, 255, 255, 255),\n",
       " (0, 0, 0, 255),\n",
       " (0, 0, 0, 255),\n",
       " (0, 0, 0, 255),\n",
       " (0, 0, 0, 255),\n",
       " (0, 0, 0, 255),\n",
       " (0, 0, 0, 255),\n",
       " (0, 0, 0, 255),\n",
       " (255, 255, 255, 255),\n",
       " (255, 255, 255, 255),\n",
       " (255, 255, 255, 255),\n",
       " (255, 255, 255, 255),\n",
       " (255, 255, 255, 255),\n",
       " (255, 255, 255, 255),\n",
       " (255, 255, 255, 255),\n",
       " (255, 255, 255, 255),\n",
       " (255, 255, 255, 255),\n",
       " (255, 255, 255, 255),\n",
       " (255, 255, 255, 255),\n",
       " (255, 255, 255, 255),\n",
       " (255, 255, 255, 255),\n",
       " (255, 255, 255, 255),\n",
       " (255, 255, 255, 255),\n",
       " (255, 255, 255, 255),\n",
       " (255, 255, 255, 255),\n",
       " (255, 255, 255, 255),\n",
       " (255, 255, 255, 255),\n",
       " (255, 255, 255, 255),\n",
       " (255, 255, 255, 255),\n",
       " (255, 255, 255, 255),\n",
       " (255, 255, 255, 255),\n",
       " (255, 255, 255, 255),\n",
       " (255, 255, 255, 255),\n",
       " (255, 255, 255, 255),\n",
       " (255, 255, 255, 255),\n",
       " (255, 255, 255, 255),\n",
       " (255, 255, 255, 255),\n",
       " (255, 255, 255, 255),\n",
       " (255, 255, 255, 255),\n",
       " (255, 255, 255, 255),\n",
       " (255, 255, 255, 255),\n",
       " (255, 255, 255, 255),\n",
       " (255, 255, 255, 255),\n",
       " (255, 255, 255, 255),\n",
       " (255, 255, 255, 255),\n",
       " (255, 255, 255, 255),\n",
       " (255, 255, 255, 255),\n",
       " (255, 255, 255, 255),\n",
       " (255, 255, 255, 255),\n",
       " (255, 255, 255, 255),\n",
       " (255, 255, 255, 255),\n",
       " (255, 255, 255, 255),\n",
       " (255, 255, 255, 255),\n",
       " (255, 255, 255, 255),\n",
       " (255, 255, 255, 255),\n",
       " (255, 255, 255, 255),\n",
       " (255, 255, 255, 255),\n",
       " (255, 255, 255, 255),\n",
       " (255, 255, 255, 255),\n",
       " (255, 255, 255, 255),\n",
       " (255, 255, 255, 255),\n",
       " (255, 255, 255, 255),\n",
       " (0, 0, 0, 255),\n",
       " (0, 0, 0, 255),\n",
       " (0, 0, 0, 255),\n",
       " (0, 0, 0, 255),\n",
       " (0, 0, 0, 255),\n",
       " (0, 0, 0, 255),\n",
       " (0, 0, 0, 255),\n",
       " (0, 0, 0, 255),\n",
       " (0, 0, 0, 255),\n",
       " (0, 0, 0, 255),\n",
       " (255, 255, 255, 255),\n",
       " (255, 255, 255, 255),\n",
       " (255, 255, 255, 255),\n",
       " (255, 255, 255, 255),\n",
       " (255, 255, 255, 255),\n",
       " (255, 255, 255, 255),\n",
       " (255, 255, 255, 255),\n",
       " (255, 255, 255, 255),\n",
       " (255, 255, 255, 255),\n",
       " (255, 255, 255, 255),\n",
       " (255, 255, 255, 255),\n",
       " (255, 255, 255, 255),\n",
       " (255, 255, 255, 255),\n",
       " (255, 255, 255, 255),\n",
       " (255, 255, 255, 255),\n",
       " (255, 255, 255, 255),\n",
       " (255, 255, 255, 255),\n",
       " (255, 255, 255, 255),\n",
       " (255, 255, 255, 255),\n",
       " (255, 255, 255, 255),\n",
       " (255, 255, 255, 255),\n",
       " (255, 255, 255, 255),\n",
       " (255, 255, 255, 255),\n",
       " (255, 255, 255, 255),\n",
       " (255, 255, 255, 255),\n",
       " (255, 255, 255, 255),\n",
       " (255, 255, 255, 255),\n",
       " (255, 255, 255, 255),\n",
       " (255, 255, 255, 255),\n",
       " (255, 255, 255, 255),\n",
       " (255, 255, 255, 255),\n",
       " (255, 255, 255, 255),\n",
       " (255, 255, 255, 255),\n",
       " (255, 255, 255, 255),\n",
       " (255, 255, 255, 255),\n",
       " (255, 255, 255, 255),\n",
       " (255, 255, 255, 255),\n",
       " (255, 255, 255, 255),\n",
       " (255, 255, 255, 255),\n",
       " (255, 255, 255, 255),\n",
       " (255, 255, 255, 255),\n",
       " (255, 255, 255, 255),\n",
       " (255, 255, 255, 255),\n",
       " (255, 255, 255, 255),\n",
       " (255, 255, 255, 255),\n",
       " (255, 255, 255, 255),\n",
       " (255, 255, 255, 255),\n",
       " (255, 255, 255, 255),\n",
       " (255, 255, 255, 255),\n",
       " (255, 255, 255, 255),\n",
       " (255, 255, 255, 255),\n",
       " (255, 255, 255, 255),\n",
       " (255, 255, 255, 255),\n",
       " (255, 255, 255, 255),\n",
       " (255, 255, 255, 255),\n",
       " (0, 0, 0, 255),\n",
       " (0, 0, 0, 255),\n",
       " (0, 0, 0, 255),\n",
       " (0, 0, 0, 255),\n",
       " (0, 0, 0, 255),\n",
       " (0, 0, 0, 255),\n",
       " (0, 0, 0, 255),\n",
       " (0, 0, 0, 255),\n",
       " (0, 0, 0, 255),\n",
       " (255, 255, 255, 255),\n",
       " (255, 255, 255, 255),\n",
       " (255, 255, 255, 255),\n",
       " (255, 255, 255, 255),\n",
       " (255, 255, 255, 255),\n",
       " (255, 255, 255, 255),\n",
       " (255, 255, 255, 255),\n",
       " (255, 255, 255, 255),\n",
       " (255, 255, 255, 255),\n",
       " (255, 255, 255, 255),\n",
       " (255, 255, 255, 255),\n",
       " (255, 255, 255, 255),\n",
       " (255, 255, 255, 255),\n",
       " (255, 255, 255, 255),\n",
       " (255, 255, 255, 255),\n",
       " (255, 255, 255, 255),\n",
       " (255, 255, 255, 255),\n",
       " (255, 255, 255, 255),\n",
       " (255, 255, 255, 255),\n",
       " (255, 255, 255, 255),\n",
       " (255, 255, 255, 255),\n",
       " (255, 255, 255, 255),\n",
       " (255, 255, 255, 255),\n",
       " (255, 255, 255, 255),\n",
       " (255, 255, 255, 255),\n",
       " (255, 255, 255, 255),\n",
       " (255, 255, 255, 255),\n",
       " (255, 255, 255, 255),\n",
       " (255, 255, 255, 255),\n",
       " (255, 255, 255, 255),\n",
       " (255, 255, 255, 255),\n",
       " (255, 255, 255, 255),\n",
       " (255, 255, 255, 255),\n",
       " (255, 255, 255, 255),\n",
       " (255, 255, 255, 255),\n",
       " (255, 255, 255, 255),\n",
       " (255, 255, 255, 255),\n",
       " (255, 255, 255, 255),\n",
       " (255, 255, 255, 255),\n",
       " (255, 255, 255, 255),\n",
       " (255, 255, 255, 255),\n",
       " (255, 255, 255, 255),\n",
       " (255, 255, 255, 255),\n",
       " (255, 255, 255, 255),\n",
       " (255, 255, 255, 255),\n",
       " (255, 255, 255, 255),\n",
       " (255, 255, 255, 255),\n",
       " (255, 255, 255, 255),\n",
       " (255, 255, 255, 255),\n",
       " (255, 255, 255, 255),\n",
       " (255, 255, 255, 255),\n",
       " (255, 255, 255, 255),\n",
       " (255, 255, 255, 255),\n",
       " (255, 255, 255, 255),\n",
       " (0, 0, 0, 255),\n",
       " (0, 0, 0, 255),\n",
       " (0, 0, 0, 255),\n",
       " (0, 0, 0, 255),\n",
       " (0, 0, 0, 255),\n",
       " (0, 0, 0, 255),\n",
       " (0, 0, 0, 255),\n",
       " (0, 0, 0, 255),\n",
       " (0, 0, 0, 255),\n",
       " (0, 0, 0, 255),\n",
       " (255, 255, 255, 255),\n",
       " (255, 255, 255, 255),\n",
       " (255, 255, 255, 255),\n",
       " (255, 255, 255, 255),\n",
       " (255, 255, 255, 255),\n",
       " (255, 255, 255, 255),\n",
       " (255, 255, 255, 255),\n",
       " (255, 255, 255, 255),\n",
       " (255, 255, 255, 255),\n",
       " (255, 255, 255, 255),\n",
       " (255, 255, 255, 255),\n",
       " (255, 255, 255, 255),\n",
       " (255, 255, 255, 255),\n",
       " (255, 255, 255, 255),\n",
       " (255, 255, 255, 255),\n",
       " (255, 255, 255, 255),\n",
       " (255, 255, 255, 255),\n",
       " (255, 255, 255, 255),\n",
       " (255, 255, 255, 255),\n",
       " (255, 255, 255, 255),\n",
       " (255, 255, 255, 255),\n",
       " (255, 255, 255, 255),\n",
       " (255, 255, 255, 255),\n",
       " (255, 255, 255, 255),\n",
       " (255, 255, 255, 255),\n",
       " (255, 255, 255, 255),\n",
       " (255, 255, 255, 255),\n",
       " (255, 255, 255, 255),\n",
       " (255, 255, 255, 255),\n",
       " (255, 255, 255, 255),\n",
       " (255, 255, 255, 255),\n",
       " (255, 255, 255, 255),\n",
       " (255, 255, 255, 255),\n",
       " (255, 255, 255, 255),\n",
       " (255, 255, 255, 255),\n",
       " (255, 255, 255, 255),\n",
       " (255, 255, 255, 255),\n",
       " (255, 255, 255, 255),\n",
       " (255, 255, 255, 255),\n",
       " (255, 255, 255, 255),\n",
       " (255, 255, 255, 255),\n",
       " (255, 255, 255, 255),\n",
       " (255, 255, 255, 255),\n",
       " (255, 255, 255, 255),\n",
       " (255, 255, 255, 255),\n",
       " (255, 255, 255, 255),\n",
       " (255, 255, 255, 255),\n",
       " (255, 255, 255, 255),\n",
       " (255, 255, 255, 255),\n",
       " (255, 255, 255, 255),\n",
       " (255, 255, 255, 255),\n",
       " (255, 255, 255, 255),\n",
       " (255, 255, 255, 255),\n",
       " (255, 255, 255, 255),\n",
       " (0, 0, 0, 255),\n",
       " (0, 0, 0, 255),\n",
       " (0, 0, 0, 255),\n",
       " (0, 0, 0, 255),\n",
       " (0, 0, 0, 255),\n",
       " (0, 0, 0, 255),\n",
       " (0, 0, 0, 255),\n",
       " (0, 0, 0, 255),\n",
       " (0, 0, 0, 255),\n",
       " (0, 0, 0, 255),\n",
       " (255, 255, 255, 255),\n",
       " (255, 255, 255, 255),\n",
       " (255, 255, 255, 255),\n",
       " (255, 255, 255, 255),\n",
       " (255, 255, 255, 255),\n",
       " (255, 255, 255, 255),\n",
       " (255, 255, 255, 255),\n",
       " (255, 255, 255, 255),\n",
       " (255, 255, 255, 255),\n",
       " (255, 255, 255, 255),\n",
       " (255, 255, 255, 255),\n",
       " (255, 255, 255, 255),\n",
       " (255, 255, 255, 255),\n",
       " (255, 255, 255, 255),\n",
       " (255, 255, 255, 255),\n",
       " (255, 255, 255, 255),\n",
       " (255, 255, 255, 255),\n",
       " (255, 255, 255, 255),\n",
       " (255, 255, 255, 255),\n",
       " (255, 255, 255, 255),\n",
       " (255, 255, 255, 255),\n",
       " (255, 255, 255, 255),\n",
       " (255, 255, 255, 255),\n",
       " (255, 255, 255, 255),\n",
       " (255, 255, 255, 255),\n",
       " (255, 255, 255, 255),\n",
       " (255, 255, 255, 255),\n",
       " (255, 255, 255, 255),\n",
       " (255, 255, 255, 255),\n",
       " (255, 255, 255, 255),\n",
       " (255, 255, 255, 255),\n",
       " (255, 255, 255, 255),\n",
       " (255, 255, 255, 255),\n",
       " (255, 255, 255, 255),\n",
       " (255, 255, 255, 255),\n",
       " (255, 255, 255, 255),\n",
       " (255, 255, 255, 255),\n",
       " (255, 255, 255, 255),\n",
       " (255, 255, 255, 255),\n",
       " (255, 255, 255, 255),\n",
       " (255, 255, 255, 255),\n",
       " (255, 255, 255, 255),\n",
       " (255, 255, 255, 255),\n",
       " (255, 255, 255, 255),\n",
       " (255, 255, 255, 255),\n",
       " (255, 255, 255, 255),\n",
       " (255, 255, 255, 255),\n",
       " (255, 255, 255, 255),\n",
       " (255, 255, 255, 255),\n",
       " (255, 255, 255, 255),\n",
       " (255, 255, 255, 255),\n",
       " (255, 255, 255, 255),\n",
       " (255, 255, 255, 255),\n",
       " (255, 255, 255, 255),\n",
       " (0, 0, 0, 255),\n",
       " (0, 0, 0, 255),\n",
       " (0, 0, 0, 255),\n",
       " (0, 0, 0, 255),\n",
       " (0, 0, 0, 255),\n",
       " (0, 0, 0, 255),\n",
       " (0, 0, 0, 255),\n",
       " (0, 0, 0, 255),\n",
       " (0, 0, 0, 255),\n",
       " (0, 0, 0, 255),\n",
       " (255, 255, 255, 255),\n",
       " (255, 255, 255, 255),\n",
       " (255, 255, 255, 255),\n",
       " (255, 255, 255, 255),\n",
       " (255, 255, 255, 255),\n",
       " (255, 255, 255, 255),\n",
       " (255, 255, 255, 255),\n",
       " (255, 255, 255, 255),\n",
       " (255, 255, 255, 255),\n",
       " (255, 255, 255, 255),\n",
       " (255, 255, 255, 255),\n",
       " (255, 255, 255, 255),\n",
       " (255, 255, 255, 255),\n",
       " (255, 255, 255, 255),\n",
       " (255, 255, 255, 255),\n",
       " (255, 255, 255, 255),\n",
       " (255, 255, 255, 255),\n",
       " (255, 255, 255, 255),\n",
       " (255, 255, 255, 255),\n",
       " (255, 255, 255, 255),\n",
       " (255, 255, 255, 255),\n",
       " (255, 255, 255, 255),\n",
       " (255, 255, 255, 255),\n",
       " (255, 255, 255, 255),\n",
       " (255, 255, 255, 255),\n",
       " (255, 255, 255, 255),\n",
       " (255, 255, 255, 255),\n",
       " (255, 255, 255, 255),\n",
       " (255, 255, 255, 255),\n",
       " (255, 255, 255, 255),\n",
       " (255, 255, 255, 255),\n",
       " (255, 255, 255, 255),\n",
       " (255, 255, 255, 255),\n",
       " (255, 255, 255, 255),\n",
       " (255, 255, 255, 255),\n",
       " (255, 255, 255, 255),\n",
       " (0, 0, 0, 255),\n",
       " (0, 0, 0, 255),\n",
       " (0, 0, 0, 255),\n",
       " (0, 0, 0, 255),\n",
       " (0, 0, 0, 255),\n",
       " (255, 255, 255, 255),\n",
       " (255, 255, 255, 255),\n",
       " (255, 255, 255, 255),\n",
       " (255, 255, 255, 255),\n",
       " (255, 255, 255, 255),\n",
       " (255, 255, 255, 255),\n",
       " (255, 255, 255, 255),\n",
       " (255, 255, 255, 255),\n",
       " (255, 255, 255, 255),\n",
       " (255, 255, 255, 255),\n",
       " (255, 255, 255, 255),\n",
       " (0, 0, 0, 255),\n",
       " (0, 0, 0, 255),\n",
       " (0, 0, 0, 255),\n",
       " (0, 0, 0, 255),\n",
       " (0, 0, 0, 255),\n",
       " (0, 0, 0, 255),\n",
       " (0, 0, 0, 255),\n",
       " (0, 0, 0, 255),\n",
       " (0, 0, 0, 255),\n",
       " (0, 0, 0, 255),\n",
       " (0, 0, 0, 255),\n",
       " (0, 0, 0, 255),\n",
       " (255, 255, 255, 255),\n",
       " (255, 255, 255, 255),\n",
       " (255, 255, 255, 255),\n",
       " (255, 255, 255, 255),\n",
       " (255, 255, 255, 255),\n",
       " (255, 255, 255, 255),\n",
       " (255, 255, 255, 255),\n",
       " (255, 255, 255, 255),\n",
       " (255, 255, 255, 255),\n",
       " (255, 255, 255, 255),\n",
       " (255, 255, 255, 255),\n",
       " (255, 255, 255, 255),\n",
       " (255, 255, 255, 255),\n",
       " (255, 255, 255, 255),\n",
       " (255, 255, 255, 255),\n",
       " (255, 255, 255, 255),\n",
       " (255, 255, 255, 255),\n",
       " (255, 255, 255, 255),\n",
       " (255, 255, 255, 255),\n",
       " (255, 255, 255, 255),\n",
       " (255, 255, 255, 255),\n",
       " (255, 255, 255, 255),\n",
       " (255, 255, 255, 255),\n",
       " (255, 255, 255, 255),\n",
       " (255, 255, 255, 255),\n",
       " (255, 255, 255, 255),\n",
       " (255, 255, 255, 255),\n",
       " (255, 255, 255, 255),\n",
       " (255, 255, 255, 255),\n",
       " (255, 255, 255, 255),\n",
       " (255, 255, 255, 255),\n",
       " (255, 255, 255, 255),\n",
       " (255, 255, 255, 255),\n",
       " (255, 255, 255, 255),\n",
       " (255, 255, 255, 255),\n",
       " (255, 255, 255, 255),\n",
       " (255, 255, 255, 255),\n",
       " (255, 255, 255, 255),\n",
       " (255, 255, 255, 255),\n",
       " (255, 255, 255, 255),\n",
       " (255, 255, 255, 255),\n",
       " (255, 255, 255, 255),\n",
       " (255, 255, 255, 255),\n",
       " (255, 255, 255, 255),\n",
       " (255, 255, 255, 255),\n",
       " (255, 255, 255, 255),\n",
       " (255, 255, 255, 255),\n",
       " (255, 255, 255, 255),\n",
       " (255, 255, 255, 255),\n",
       " (255, 255, 255, 255),\n",
       " (255, 255, 255, 255),\n",
       " (255, 255, 255, 255),\n",
       " (255, 255, 255, 255),\n",
       " (0, 0, 0, 255),\n",
       " (0, 0, 0, 255),\n",
       " (0, 0, 0, 255),\n",
       " (0, 0, 0, 255),\n",
       " (0, 0, 0, 255),\n",
       " (0, 0, 0, 255),\n",
       " (0, 0, 0, 255),\n",
       " (0, 0, 0, 255),\n",
       " (0, 0, 0, 255),\n",
       " (0, 0, 0, 255),\n",
       " (0, 0, 0, 255),\n",
       " (255, 255, 255, 255),\n",
       " (255, 255, 255, 255),\n",
       " (255, 255, 255, 255),\n",
       " (255, 255, 255, 255),\n",
       " (255, 255, 255, 255),\n",
       " (255, 255, 255, 255),\n",
       " (255, 255, 255, 255),\n",
       " (255, 255, 255, 255),\n",
       " (255, 255, 255, 255),\n",
       " (255, 255, 255, 255),\n",
       " (255, 255, 255, 255),\n",
       " (255, 255, 255, 255),\n",
       " (255, 255, 255, 255),\n",
       " (255, 255, 255, 255),\n",
       " (255, 255, 255, 255),\n",
       " (255, 255, 255, 255),\n",
       " (255, 255, 255, 255),\n",
       " (255, 255, 255, 255),\n",
       " (255, 255, 255, 255),\n",
       " (255, 255, 255, 255),\n",
       " (255, 255, 255, 255),\n",
       " (255, 255, 255, 255),\n",
       " (255, 255, 255, 255),\n",
       " (255, 255, 255, 255),\n",
       " (255, 255, 255, 255),\n",
       " (255, 255, 255, 255),\n",
       " (255, 255, 255, 255),\n",
       " (255, 255, 255, 255),\n",
       " (255, 255, 255, 255),\n",
       " (255, 255, 255, 255),\n",
       " (255, 255, 255, 255),\n",
       " (255, 255, 255, 255),\n",
       " (255, 255, 255, 255),\n",
       " (255, 255, 255, 255),\n",
       " (255, 255, 255, 255),\n",
       " (0, 0, 0, 255),\n",
       " (0, 0, 0, 255),\n",
       " (0, 0, 0, 255),\n",
       " (0, 0, 0, 255),\n",
       " (0, 0, 0, 255),\n",
       " (0, 0, 0, 255),\n",
       " (0, 0, 0, 255),\n",
       " (255, 255, 255, 255),\n",
       " (255, 255, 255, 255),\n",
       " (255, 255, 255, 255),\n",
       " (255, 255, 255, 255),\n",
       " (255, 255, 255, 255),\n",
       " (255, 255, 255, 255),\n",
       " (255, 255, 255, 255),\n",
       " (255, 255, 255, 255),\n",
       " (0, 0, 0, 255),\n",
       " (0, 0, 0, 255),\n",
       " (0, 0, 0, 255),\n",
       " (0, 0, 0, 255),\n",
       " (0, 0, 0, 255),\n",
       " (0, 0, 0, 255),\n",
       " (0, 0, 0, 255),\n",
       " (0, 0, 0, 255),\n",
       " (0, 0, 0, 255),\n",
       " (0, 0, 0, 255),\n",
       " (0, 0, 0, 255),\n",
       " (0, 0, 0, 255),\n",
       " (0, 0, 0, 255),\n",
       " (0, 0, 0, 255),\n",
       " (255, 255, 255, 255),\n",
       " (255, 255, 255, 255),\n",
       " (255, 255, 255, 255),\n",
       " (255, 255, 255, 255),\n",
       " (255, 255, 255, 255),\n",
       " (255, 255, 255, 255),\n",
       " (255, 255, 255, 255),\n",
       " (255, 255, 255, 255),\n",
       " (255, 255, 255, 255),\n",
       " (255, 255, 255, 255),\n",
       " (255, 255, 255, 255),\n",
       " (255, 255, 255, 255),\n",
       " (255, 255, 255, 255),\n",
       " (255, 255, 255, 255),\n",
       " (255, 255, 255, 255),\n",
       " (255, 255, 255, 255),\n",
       " (255, 255, 255, 255),\n",
       " (255, 255, 255, 255),\n",
       " (255, 255, 255, 255),\n",
       " (255, 255, 255, 255),\n",
       " (255, 255, 255, 255),\n",
       " (255, 255, 255, 255),\n",
       " (255, 255, 255, 255),\n",
       " (255, 255, 255, 255),\n",
       " (255, 255, 255, 255),\n",
       " (255, 255, 255, 255),\n",
       " (255, 255, 255, 255),\n",
       " (255, 255, 255, 255),\n",
       " (255, 255, 255, 255),\n",
       " (255, 255, 255, 255),\n",
       " (255, 255, 255, 255),\n",
       " (255, 255, 255, 255),\n",
       " (255, 255, 255, 255),\n",
       " (255, 255, 255, 255),\n",
       " (255, 255, 255, 255),\n",
       " (255, 255, 255, 255),\n",
       " (255, 255, 255, 255),\n",
       " (255, 255, 255, 255),\n",
       " (255, 255, 255, 255),\n",
       " (255, 255, 255, 255),\n",
       " (255, 255, 255, 255),\n",
       " (255, 255, 255, 255),\n",
       " (255, 255, 255, 255),\n",
       " (255, 255, 255, 255),\n",
       " (255, 255, 255, 255),\n",
       " (255, 255, 255, 255),\n",
       " (255, 255, 255, 255),\n",
       " (255, 255, 255, 255),\n",
       " (255, 255, 255, 255),\n",
       " (255, 255, 255, 255),\n",
       " (255, 255, 255, 255),\n",
       " (255, 255, 255, 255),\n",
       " (255, 255, 255, 255),\n",
       " (0, 0, 0, 255),\n",
       " (0, 0, 0, 255),\n",
       " (0, 0, 0, 255),\n",
       " (0, 0, 0, 255),\n",
       " (0, 0, 0, 255),\n",
       " (0, 0, 0, 255),\n",
       " (0, 0, 0, 255),\n",
       " (0, 0, 0, 255),\n",
       " (0, 0, 0, 255),\n",
       " (0, 0, 0, 255),\n",
       " (0, 0, 0, 255),\n",
       " (255, 255, 255, 255),\n",
       " (255, 255, 255, 255),\n",
       " (255, 255, 255, 255),\n",
       " (255, 255, 255, 255),\n",
       " (255, 255, 255, 255),\n",
       " (255, 255, 255, 255),\n",
       " (255, 255, 255, 255),\n",
       " (255, 255, 255, 255),\n",
       " (255, 255, 255, 255),\n",
       " (255, 255, 255, 255),\n",
       " (255, 255, 255, 255),\n",
       " (255, 255, 255, 255),\n",
       " (255, 255, 255, 255),\n",
       " (255, 255, 255, 255),\n",
       " (255, 255, 255, 255),\n",
       " (255, 255, 255, 255),\n",
       " (255, 255, 255, 255),\n",
       " (255, 255, 255, 255),\n",
       " (255, 255, 255, 255),\n",
       " (255, 255, 255, 255),\n",
       " (255, 255, 255, 255),\n",
       " (255, 255, 255, 255),\n",
       " (255, 255, 255, 255),\n",
       " (255, 255, 255, 255),\n",
       " (255, 255, 255, 255),\n",
       " (255, 255, 255, 255),\n",
       " (255, 255, 255, 255),\n",
       " (255, 255, 255, 255),\n",
       " (255, 255, 255, 255),\n",
       " (255, 255, 255, 255),\n",
       " (255, 255, 255, 255),\n",
       " (255, 255, 255, 255),\n",
       " (255, 255, 255, 255),\n",
       " (255, 255, 255, 255),\n",
       " (0, 0, 0, 255),\n",
       " (0, 0, 0, 255),\n",
       " (0, 0, 0, 255),\n",
       " (0, 0, 0, 255),\n",
       " (0, 0, 0, 255),\n",
       " (0, 0, 0, 255),\n",
       " (0, 0, 0, 255),\n",
       " (0, 0, 0, 255),\n",
       " (255, 255, 255, 255),\n",
       " (255, 255, 255, 255),\n",
       " (255, 255, 255, 255),\n",
       " (255, 255, 255, 255),\n",
       " (255, 255, 255, 255),\n",
       " (255, 255, 255, 255),\n",
       " (255, 255, 255, 255),\n",
       " (0, 0, 0, 255),\n",
       " (0, 0, 0, 255),\n",
       " (0, 0, 0, 255),\n",
       " (0, 0, 0, 255),\n",
       " (0, 0, 0, 255),\n",
       " (0, 0, 0, 255),\n",
       " (0, 0, 0, 255),\n",
       " (0, 0, 0, 255),\n",
       " (0, 0, 0, 255),\n",
       " (0, 0, 0, 255),\n",
       " (0, 0, 0, 255),\n",
       " (0, 0, 0, 255),\n",
       " (0, 0, 0, 255),\n",
       " (0, 0, 0, 255),\n",
       " (0, 0, 0, 255),\n",
       " (255, 255, 255, 255),\n",
       " (255, 255, 255, 255),\n",
       " (255, 255, 255, 255),\n",
       " (255, 255, 255, 255),\n",
       " (255, 255, 255, 255),\n",
       " (255, 255, 255, 255),\n",
       " (255, 255, 255, 255),\n",
       " (255, 255, 255, 255),\n",
       " (255, 255, 255, 255),\n",
       " (255, 255, 255, 255),\n",
       " (255, 255, 255, 255),\n",
       " (255, 255, 255, 255),\n",
       " (255, 255, 255, 255),\n",
       " (255, 255, 255, 255),\n",
       " (255, 255, 255, 255),\n",
       " (255, 255, 255, 255),\n",
       " (255, 255, 255, 255),\n",
       " (255, 255, 255, 255),\n",
       " (255, 255, 255, 255),\n",
       " (255, 255, 255, 255),\n",
       " (255, 255, 255, 255),\n",
       " (255, 255, 255, 255),\n",
       " (255, 255, 255, 255),\n",
       " (255, 255, 255, 255),\n",
       " (255, 255, 255, 255),\n",
       " (255, 255, 255, 255),\n",
       " (255, 255, 255, 255),\n",
       " (255, 255, 255, 255),\n",
       " (255, 255, 255, 255),\n",
       " (255, 255, 255, 255),\n",
       " (255, 255, 255, 255),\n",
       " (255, 255, 255, 255),\n",
       " (255, 255, 255, 255),\n",
       " (255, 255, 255, 255),\n",
       " (255, 255, 255, 255),\n",
       " (255, 255, 255, 255),\n",
       " (255, 255, 255, 255),\n",
       " (255, 255, 255, 255),\n",
       " (255, 255, 255, 255),\n",
       " (255, 255, 255, 255),\n",
       " (255, 255, 255, 255),\n",
       " (255, 255, 255, 255),\n",
       " (255, 255, 255, 255),\n",
       " (255, 255, 255, 255),\n",
       " (255, 255, 255, 255),\n",
       " (255, 255, 255, 255),\n",
       " (255, 255, 255, 255),\n",
       " (255, 255, 255, 255),\n",
       " (255, 255, 255, 255),\n",
       " (255, 255, 255, 255),\n",
       " (255, 255, 255, 255),\n",
       " (255, 255, 255, 255),\n",
       " (255, 255, 255, 255),\n",
       " (0, 0, 0, 255),\n",
       " (0, 0, 0, 255),\n",
       " (0, 0, 0, 255),\n",
       " (0, 0, 0, 255),\n",
       " (0, 0, 0, 255),\n",
       " (0, 0, 0, 255),\n",
       " (0, 0, 0, 255),\n",
       " (0, 0, 0, 255),\n",
       " (0, 0, 0, 255),\n",
       " (0, 0, 0, 255),\n",
       " (0, 0, 0, 255),\n",
       " (255, 255, 255, 255),\n",
       " (255, 255, 255, 255),\n",
       " (255, 255, 255, 255),\n",
       " (255, 255, 255, 255),\n",
       " (255, 255, 255, 255),\n",
       " (255, 255, 255, 255),\n",
       " (255, 255, 255, 255),\n",
       " (255, 255, 255, 255),\n",
       " (255, 255, 255, 255),\n",
       " (255, 255, 255, 255),\n",
       " (255, 255, 255, 255),\n",
       " (255, 255, 255, 255),\n",
       " (255, 255, 255, 255),\n",
       " (255, 255, 255, 255),\n",
       " (255, 255, 255, 255),\n",
       " (255, 255, 255, 255),\n",
       " (255, 255, 255, 255),\n",
       " (255, 255, 255, 255),\n",
       " (255, 255, 255, 255),\n",
       " (255, 255, 255, 255),\n",
       " (255, 255, 255, 255),\n",
       " (255, 255, 255, 255),\n",
       " (255, 255, 255, 255),\n",
       " (255, 255, 255, 255),\n",
       " (255, 255, 255, 255),\n",
       " (255, 255, 255, 255),\n",
       " (255, 255, 255, 255),\n",
       " (255, 255, 255, 255),\n",
       " (255, 255, 255, 255),\n",
       " (255, 255, 255, 255),\n",
       " (255, 255, 255, 255),\n",
       " (255, 255, 255, 255),\n",
       " (255, 255, 255, 255),\n",
       " (255, 255, 255, 255),\n",
       " (0, 0, 0, 255),\n",
       " (0, 0, 0, 255),\n",
       " (0, 0, 0, 255),\n",
       " (0, 0, 0, 255),\n",
       " (0, 0, 0, 255),\n",
       " (0, 0, 0, 255),\n",
       " (0, 0, 0, 255),\n",
       " (0, 0, 0, 255),\n",
       " (255, 255, 255, 255),\n",
       " (255, 255, 255, 255),\n",
       " (255, 255, 255, 255),\n",
       " (255, 255, 255, 255),\n",
       " (255, 255, 255, 255),\n",
       " (0, 0, 0, 255),\n",
       " (0, 0, 0, 255),\n",
       " (0, 0, 0, 255),\n",
       " (0, 0, 0, 255),\n",
       " (0, 0, 0, 255),\n",
       " (0, 0, 0, 255),\n",
       " (0, 0, 0, 255),\n",
       " ...]"
      ]
     },
     "execution_count": 62,
     "metadata": {},
     "output_type": "execute_result"
    }
   ],
   "source": [
    "pixel_test"
   ]
  },
  {
   "cell_type": "code",
   "execution_count": 63,
   "metadata": {},
   "outputs": [],
   "source": [
    "pixel_test = np.array(pixel_test).reshape((128*128, 4))"
   ]
  },
  {
   "cell_type": "code",
   "execution_count": 64,
   "metadata": {},
   "outputs": [],
   "source": [
    "y_test=pixel_test[:,0].reshape(128,128)"
   ]
  },
  {
   "cell_type": "code",
   "execution_count": 65,
   "metadata": {},
   "outputs": [],
   "source": [
    "y_test=255-y_test"
   ]
  },
  {
   "cell_type": "code",
   "execution_count": 66,
   "metadata": {},
   "outputs": [],
   "source": [
    "y_test=np.delete(y_test,[0,1,126,127],axis=0)\n",
    "y_test=np.delete(y_test,[0,1,126,127],axis=1)"
   ]
  },
  {
   "cell_type": "code",
   "execution_count": 67,
   "metadata": {},
   "outputs": [],
   "source": [
    "y_test=y_test.reshape(15376,)"
   ]
  },
  {
   "cell_type": "code",
   "execution_count": 68,
   "metadata": {},
   "outputs": [],
   "source": [
    "y_pred=final.reshape(15376,)"
   ]
  },
  {
   "cell_type": "code",
   "execution_count": 69,
   "metadata": {},
   "outputs": [],
   "source": [
    "from sklearn.metrics import confusion_matrix,accuracy_score"
   ]
  },
  {
   "cell_type": "code",
   "execution_count": 70,
   "metadata": {},
   "outputs": [
    {
     "name": "stdout",
     "output_type": "stream",
     "text": [
      "[[8692   20    0]\n",
      " [   0    0    0]\n",
      " [4240 2424    0]]\n"
     ]
    },
    {
     "data": {
      "text/plain": [
       "0.5652965660770031"
      ]
     },
     "execution_count": 70,
     "metadata": {},
     "output_type": "execute_result"
    }
   ],
   "source": [
    "\n",
    "cm = confusion_matrix(y_test, y_pred)\n",
    "print(cm)\n",
    "accuracy_score(y_test, y_pred)"
   ]
  },
  {
   "cell_type": "code",
   "execution_count": 71,
   "metadata": {},
   "outputs": [],
   "source": [
    "final=Image.fromarray(final)"
   ]
  },
  {
   "cell_type": "code",
   "execution_count": 72,
   "metadata": {},
   "outputs": [],
   "source": [
    "final.save(r\"C:\\Users\\Surabhi\\Downloads\\final.jpg\")"
   ]
  },
  {
   "cell_type": "markdown",
   "metadata": {},
   "source": [
    "Erosion and Dilation"
   ]
  },
  {
   "cell_type": "code",
   "execution_count": 73,
   "metadata": {},
   "outputs": [
    {
     "data": {
      "text/plain": [
       "array([[0, 0, 0, ..., 0, 0, 0],\n",
       "       [0, 0, 0, ..., 0, 0, 0],\n",
       "       [0, 0, 0, ..., 0, 0, 0],\n",
       "       ...,\n",
       "       [0, 0, 0, ..., 0, 0, 0],\n",
       "       [0, 0, 0, ..., 0, 0, 0],\n",
       "       [0, 0, 0, ..., 0, 0, 0]], dtype=uint8)"
      ]
     },
     "execution_count": 73,
     "metadata": {},
     "output_type": "execute_result"
    }
   ],
   "source": [
    "import cv2\n",
    "import numpy as np\n",
    "  \n",
    "input_img=cv2.imread(r\"C:\\Users\\Surabhi\\Downloads\\final.jpg\",0)\n",
    "  \n",
    "# Taking a matrix of size 5 as the kernel\n",
    "kernel = np.ones((5,5), np.uint8)\n",
    "  \n",
    "# The first parameter is the original image,\n",
    "# kernel is the matrix with which image is \n",
    "# convolved and third parameter is the number \n",
    "# of iterations, which will determine how much \n",
    "# you want to erode/dilate a given image. \n",
    "img_erosion = cv2.erode(input_img, kernel, iterations=1)\n",
    "img_dilation = cv2.dilate(input_img, kernel, iterations=1)\n",
    "img_morph=cv2.morphologyEx(input_img, cv2.MORPH_OPEN, kernel)\n",
    "img_close=cv2.morphologyEx(input_img, cv2.MORPH_CLOSE, kernel)\n",
    "img_erosion"
   ]
  },
  {
   "cell_type": "code",
   "execution_count": 74,
   "metadata": {},
   "outputs": [
    {
     "data": {
      "image/png": "[encoded data removed]",
      "text/plain": [
       "<Figure size 432x288 with 1 Axes>"
      ]
     },
     "metadata": {
      "needs_background": "light"
     },
     "output_type": "display_data"
    }
   ],
   "source": [
    "plt.imshow(img_close, cmap='gray')\n",
    "plt.show() "
   ]
  },
  {
   "cell_type": "code",
   "execution_count": 75,
   "metadata": {},
   "outputs": [
    {
     "data": {
      "image/png": "[encoded data removed]",
      "text/plain": [
       "<Figure size 432x288 with 1 Axes>"
      ]
     },
     "metadata": {
      "needs_background": "light"
     },
     "output_type": "display_data"
    }
   ],
   "source": [
    "plt.imshow(img_dilation, cmap='gray')\n",
    "plt.show() "
   ]
  },
  {
   "cell_type": "code",
   "execution_count": 76,
   "metadata": {},
   "outputs": [
    {
     "data": {
      "image/png": "[encoded data removed]",
      "text/plain": [
       "<Figure size 432x288 with 1 Axes>"
      ]
     },
     "metadata": {
      "needs_background": "light"
     },
     "output_type": "display_data"
    }
   ],
   "source": [
    "plt.imshow(img_erosion, cmap='gray')\n",
    "plt.show() "
   ]
  },
  {
   "cell_type": "code",
   "execution_count": null,
   "metadata": {},
   "outputs": [],
   "source": []
  }
 ],
 "metadata": {
  "kernelspec": {
   "display_name": "Python 3",
   "language": "python",
   "name": "python3"
  },
  "language_info": {
   "codemirror_mode": {
    "name": "ipython",
    "version": 3
   },
   "file_extension": ".py",
   "mimetype": "text/x-python",
   "name": "python",
   "nbconvert_exporter": "python",
   "pygments_lexer": "ipython3",
   "version": "3.7.6"
  }
 },
 "nbformat": 4,
 "nbformat_minor": 4
}
