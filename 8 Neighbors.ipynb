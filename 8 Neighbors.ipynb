{
 "cells": [
  {
   "cell_type": "markdown",
   "metadata": {},
   "source": [
    "First consider an image "
   ]
  },
  {
   "cell_type": "code",
   "execution_count": 75,
   "metadata": {},
   "outputs": [],
   "source": [
    "from PIL import Image\n",
    "import numpy as np\n",
    "import time"
   ]
  },
  {
   "cell_type": "markdown",
   "metadata": {},
   "source": [
    "First considering the images I will consider in my training set"
   ]
  },
  {
   "cell_type": "code",
   "execution_count": 76,
   "metadata": {},
   "outputs": [],
   "source": [
    "img_2=Image.open(r\"C:\\Users\\Surabhi\\OneDrive\\Pictures\\Images and Masks\\Image 2_contrast.jpg\")\n",
    "img_3=Image.open(r\"C:\\Users\\Surabhi\\OneDrive\\Pictures\\Images and Masks\\Image 3_contrast.jpg\")\n",
    "img_4=Image.open(r\"C:\\Users\\Surabhi\\OneDrive\\Pictures\\Images and Masks\\Image 4_contrast.jpg\")\n",
    "img_5=Image.open(r\"C:\\Users\\Surabhi\\OneDrive\\Pictures\\Images and Masks\\Image 5_contrast.jpg\")\n",
    "img_6=Image.open(r\"C:\\Users\\Surabhi\\OneDrive\\Pictures\\Images and Masks\\Image 6_contrast.jpg\")\n",
    "img_7=Image.open(r\"C:\\Users\\Surabhi\\OneDrive\\Pictures\\Images and Masks\\Image 7_contrast.jpg\")\n",
    "img_8=Image.open(r\"C:\\Users\\Surabhi\\OneDrive\\Pictures\\Images and Masks\\Image 8_contrast.jpg\")\n",
    "img_9=Image.open(r\"C:\\Users\\Surabhi\\OneDrive\\Pictures\\Images and Masks\\Image 9_contrast.jpg\")\n"
   ]
  },
  {
   "cell_type": "code",
   "execution_count": 77,
   "metadata": {},
   "outputs": [],
   "source": [
    "pixel_values_2 = list(img_2.getdata())\n",
    "pixel_values_3 = list(img_3.getdata())\n",
    "pixel_values_4 = list(img_4.getdata())\n",
    "pixel_values_5= list(img_5.getdata())\n",
    "pixel_values_6 = list(img_6.getdata())\n",
    "pixel_values_7 = list(img_7.getdata())\n",
    "pixel_values_8 = list(img_8.getdata())\n",
    "pixel_values_9 = list(img_9.getdata())\n"
   ]
  },
  {
   "cell_type": "code",
   "execution_count": 78,
   "metadata": {},
   "outputs": [],
   "source": [
    "\n",
    "pixel_values_2 = np.array(pixel_values_2).reshape((128,128, 3))\n",
    "pixel_values_3 = np.array(pixel_values_3).reshape((128,128, 3))\n",
    "pixel_values_4 = np.array(pixel_values_4).reshape((128,128, 3))\n",
    "pixel_values_5 = np.array(pixel_values_5).reshape((128,128, 3))\n",
    "pixel_values_6 = np.array(pixel_values_6).reshape((128,128, 3))\n",
    "pixel_values_7 = np.array(pixel_values_7).reshape((128,128, 3))\n",
    "pixel_values_8 = np.array(pixel_values_8).reshape((128,128, 3))\n",
    "pixel_values_9 = np.array(pixel_values_9).reshape((128,128, 3))"
   ]
  },
  {
   "cell_type": "code",
   "execution_count": 79,
   "metadata": {},
   "outputs": [
    {
     "data": {
      "text/plain": [
       "array([[[140,  29, 160],\n",
       "        [136,  25, 156],\n",
       "        [132,  20, 156],\n",
       "        ...,\n",
       "        [ 83,   0,  90],\n",
       "        [ 79,   0,  86],\n",
       "        [ 73,   0,  80]],\n",
       "\n",
       "       [[121,  10, 141],\n",
       "        [124,  12, 146],\n",
       "        [129,  17, 153],\n",
       "        ...,\n",
       "        [ 86,   3,  93],\n",
       "        [ 83,   0,  90],\n",
       "        [ 78,   0,  85]],\n",
       "\n",
       "       [[118,   6, 140],\n",
       "        [131,  19, 153],\n",
       "        [145,  33, 169],\n",
       "        ...,\n",
       "        [ 85,   2,  90],\n",
       "        [ 82,   0,  87],\n",
       "        [ 77,   0,  82]],\n",
       "\n",
       "       ...,\n",
       "\n",
       "       [[ 32,  15,  21],\n",
       "        [131, 114, 120],\n",
       "        [199, 182, 190],\n",
       "        ...,\n",
       "        [  0,   0,   0],\n",
       "        [  0,   0,   0],\n",
       "        [  0,   0,   0]],\n",
       "\n",
       "       [[ 16,   0,   1],\n",
       "        [ 85,  66,  72],\n",
       "        [168, 151, 159],\n",
       "        ...,\n",
       "        [  0,   0,   0],\n",
       "        [  0,   0,   0],\n",
       "        [  0,   0,   0]],\n",
       "\n",
       "       [[ 13,   0,   0],\n",
       "        [ 53,  34,  38],\n",
       "        [142, 125, 133],\n",
       "        ...,\n",
       "        [  0,   0,   0],\n",
       "        [  0,   0,   0],\n",
       "        [  0,   0,   0]]])"
      ]
     },
     "execution_count": 79,
     "metadata": {},
     "output_type": "execute_result"
    }
   ],
   "source": [
    "pixel_values_2"
   ]
  },
  {
   "cell_type": "code",
   "execution_count": 80,
   "metadata": {},
   "outputs": [],
   "source": [
    "\n",
    "x= pixel_values_2[1,1,0:3]\n",
    "x=np.hstack((x,pixel_values_2[0,0,0:3]))\n",
    "x=np.hstack((x,pixel_values_2[0,1,0:3]))\n",
    "x=np.hstack((x,pixel_values_2[0,2,0:3]))\n",
    "x=np.hstack((x,pixel_values_2[1,0,0:3]))\n",
    "x=np.hstack((x,pixel_values_2[1,2,0:3]))\n",
    "x=np.hstack((x,pixel_values_2[2,0,0:3]))\n",
    "x=np.hstack((x,pixel_values_2[2,1,0:3]))\n",
    "x=np.hstack((x,pixel_values_2[2,2,0:3]))\n",
    "data=np.array(x)"
   ]
  },
  {
   "cell_type": "code",
   "execution_count": 81,
   "metadata": {},
   "outputs": [
    {
     "data": {
      "text/plain": [
       "array([124,  12, 146, 140,  29, 160, 136,  25, 156, 132,  20, 156, 121,\n",
       "        10, 141, 129,  17, 153, 118,   6, 140, 131,  19, 153, 145,  33,\n",
       "       169])"
      ]
     },
     "execution_count": 81,
     "metadata": {},
     "output_type": "execute_result"
    }
   ],
   "source": [
    "data"
   ]
  },
  {
   "cell_type": "code",
   "execution_count": 82,
   "metadata": {},
   "outputs": [
    {
     "data": {
      "text/plain": [
       "array([124,  12, 146, 140,  29, 160, 136,  25, 156, 132,  20, 156, 121,\n",
       "        10, 141, 129,  17, 153, 118,   6, 140, 131,  19, 153, 145,  33,\n",
       "       169])"
      ]
     },
     "execution_count": 82,
     "metadata": {},
     "output_type": "execute_result"
    }
   ],
   "source": [
    "x"
   ]
  },
  {
   "cell_type": "code",
   "execution_count": 83,
   "metadata": {},
   "outputs": [],
   "source": [
    "for i in range(1,127):\n",
    "    for j in range(1,127):\n",
    "        x= pixel_values_2[i,j,0:3]\n",
    "        x=np.hstack((x,pixel_values_2[i-1,j-1,0:3]))\n",
    "        x=np.hstack((x,pixel_values_2[i-1,j,0:3]))\n",
    "        x=np.hstack((x,pixel_values_2[i-1,j+1,0:3]))\n",
    "        x=np.hstack((x,pixel_values_2[i,j-1,0:3]))\n",
    "        x=np.hstack((x,pixel_values_2[i,j+1,0:3]))\n",
    "        x=np.hstack((x,pixel_values_2[i+1,j-1,0:3]))\n",
    "        x=np.hstack((x,pixel_values_2[i+1,j,0:3]))\n",
    "        x=np.hstack((x,pixel_values_2[i+1,j+1,0:3]))\n",
    "        data=np.vstack((data,x))\n",
    "        \n",
    "        "
   ]
  },
  {
   "cell_type": "code",
   "execution_count": 84,
   "metadata": {},
   "outputs": [
    {
     "data": {
      "text/plain": [
       "array([[124,  12, 146, ..., 145,  33, 169],\n",
       "       [124,  12, 146, ..., 145,  33, 169],\n",
       "       [129,  17, 153, ..., 153,  41, 177],\n",
       "       ...,\n",
       "       [  0,   0,   0, ...,   0,   0,   0],\n",
       "       [  0,   0,   0, ...,   0,   0,   0],\n",
       "       [  0,   0,   0, ...,   0,   0,   0]])"
      ]
     },
     "execution_count": 84,
     "metadata": {},
     "output_type": "execute_result"
    }
   ],
   "source": [
    "data"
   ]
  },
  {
   "cell_type": "code",
   "execution_count": 85,
   "metadata": {},
   "outputs": [],
   "source": [
    "for i in range(1,127):\n",
    "    for j in range(1,127):\n",
    "        x= pixel_values_3[i,j,0:3]\n",
    "        x=np.hstack((x,pixel_values_3[i-1,j-1,0:3]))\n",
    "        x=np.hstack((x,pixel_values_3[i-1,j,0:3]))\n",
    "        x=np.hstack((x,pixel_values_3[i-1,j+1,0:3]))\n",
    "        x=np.hstack((x,pixel_values_3[i,j-1,0:3]))\n",
    "        x=np.hstack((x,pixel_values_3[i,j+1,0:3]))\n",
    "        x=np.hstack((x,pixel_values_3[i+1,j-1,0:3]))\n",
    "        x=np.hstack((x,pixel_values_3[i+1,j,0:3]))\n",
    "        x=np.hstack((x,pixel_values_3[i+1,j+1,0:3]))\n",
    "        data=np.vstack((data,x))\n",
    "       "
   ]
  },
  {
   "cell_type": "code",
   "execution_count": 86,
   "metadata": {},
   "outputs": [
    {
     "data": {
      "text/plain": [
       "array([[124,  12, 146, ..., 145,  33, 169],\n",
       "       [124,  12, 146, ..., 145,  33, 169],\n",
       "       [129,  17, 153, ..., 153,  41, 177],\n",
       "       ...,\n",
       "       [ 12,   2,   1, ...,   8,   0,   0],\n",
       "       [  6,   0,   0, ...,  12,   3,   4],\n",
       "       [  9,   0,   1, ...,  10,   1,   2]])"
      ]
     },
     "execution_count": 86,
     "metadata": {},
     "output_type": "execute_result"
    }
   ],
   "source": [
    "data"
   ]
  },
  {
   "cell_type": "code",
   "execution_count": 87,
   "metadata": {},
   "outputs": [],
   "source": [
    "for i in range(1,127):\n",
    "    for j in range(1,127):\n",
    "        x= pixel_values_4[i,j,0:3]\n",
    "        x=np.hstack((x,pixel_values_4[i-1,j-1,0:3]))\n",
    "        x=np.hstack((x,pixel_values_4[i-1,j,0:3]))\n",
    "        x=np.hstack((x,pixel_values_4[i-1,j+1,0:3]))\n",
    "        x=np.hstack((x,pixel_values_4[i,j-1,0:3]))\n",
    "        x=np.hstack((x,pixel_values_4[i,j+1,0:3]))\n",
    "        x=np.hstack((x,pixel_values_4[i+1,j-1,0:3]))\n",
    "        x=np.hstack((x,pixel_values_4[i+1,j,0:3]))\n",
    "        x=np.hstack((x,pixel_values_4[i+1,j+1,0:3]))\n",
    "        data=np.vstack((data,x))\n",
    "       "
   ]
  },
  {
   "cell_type": "code",
   "execution_count": 88,
   "metadata": {},
   "outputs": [],
   "source": [
    "for i in range(1,127):\n",
    "    for j in range(1,127):\n",
    "        x= pixel_values_5[i,j,0:3]\n",
    "        x=np.hstack((x,pixel_values_5[i-1,j-1,0:3]))\n",
    "        x=np.hstack((x,pixel_values_5[i-1,j,0:3]))\n",
    "        x=np.hstack((x,pixel_values_5[i-1,j+1,0:3]))\n",
    "        x=np.hstack((x,pixel_values_5[i,j-1,0:3]))\n",
    "        x=np.hstack((x,pixel_values_5[i,j+1,0:3]))\n",
    "        x=np.hstack((x,pixel_values_5[i+1,j-1,0:3]))\n",
    "        x=np.hstack((x,pixel_values_5[i+1,j,0:3]))\n",
    "        x=np.hstack((x,pixel_values_5[i+1,j+1,0:3]))\n",
    "        data=np.vstack((data,x))\n",
    "        "
   ]
  },
  {
   "cell_type": "code",
   "execution_count": 89,
   "metadata": {},
   "outputs": [],
   "source": [
    "for i in range(1,127):\n",
    "    for j in range(1,127):\n",
    "        x= pixel_values_6[i,j,0:3]\n",
    "        x=np.hstack((x,pixel_values_6[i-1,j-1,0:3]))\n",
    "        x=np.hstack((x,pixel_values_6[i-1,j,0:3]))\n",
    "        x=np.hstack((x,pixel_values_6[i-1,j+1,0:3]))\n",
    "        x=np.hstack((x,pixel_values_6[i,j-1,0:3]))\n",
    "        x=np.hstack((x,pixel_values_6[i,j+1,0:3]))\n",
    "        x=np.hstack((x,pixel_values_6[i+1,j-1,0:3]))\n",
    "        x=np.hstack((x,pixel_values_6[i+1,j,0:3]))\n",
    "        x=np.hstack((x,pixel_values_6[i+1,j+1,0:3]))\n",
    "        data=np.vstack((data,x))\n",
    "        "
   ]
  },
  {
   "cell_type": "code",
   "execution_count": 90,
   "metadata": {},
   "outputs": [],
   "source": [
    "for i in range(1,127):\n",
    "    for j in range(1,127):\n",
    "        x= pixel_values_7[i,j,0:3]\n",
    "        x=np.hstack((x,pixel_values_7[i-1,j-1,0:3]))\n",
    "        x=np.hstack((x,pixel_values_7[i-1,j,0:3]))\n",
    "        x=np.hstack((x,pixel_values_7[i-1,j+1,0:3]))\n",
    "        x=np.hstack((x,pixel_values_7[i,j-1,0:3]))\n",
    "        x=np.hstack((x,pixel_values_7[i,j+1,0:3]))\n",
    "        x=np.hstack((x,pixel_values_7[i+1,j-1,0:3]))\n",
    "        x=np.hstack((x,pixel_values_7[i+1,j,0:3]))\n",
    "        x=np.hstack((x,pixel_values_7[i+1,j+1,0:3]))\n",
    "        data=np.vstack((data,x))\n",
    "        "
   ]
  },
  {
   "cell_type": "code",
   "execution_count": 91,
   "metadata": {},
   "outputs": [],
   "source": [
    "for i in range(1,127):\n",
    "    for j in range(1,127):\n",
    "        x= pixel_values_8[i,j,0:3]\n",
    "        x=np.hstack((x,pixel_values_8[i-1,j-1,0:3]))\n",
    "        x=np.hstack((x,pixel_values_8[i-1,j,0:3]))\n",
    "        x=np.hstack((x,pixel_values_8[i-1,j+1,0:3]))\n",
    "        x=np.hstack((x,pixel_values_8[i,j-1,0:3]))\n",
    "        x=np.hstack((x,pixel_values_8[i,j+1,0:3]))\n",
    "        x=np.hstack((x,pixel_values_8[i+1,j-1,0:3]))\n",
    "        x=np.hstack((x,pixel_values_8[i+1,j,0:3]))\n",
    "        x=np.hstack((x,pixel_values_8[i+1,j+1,0:3]))\n",
    "        data=np.vstack((data,x))\n",
    "        "
   ]
  },
  {
   "cell_type": "code",
   "execution_count": 92,
   "metadata": {},
   "outputs": [],
   "source": [
    "for i in range(1,127):\n",
    "    for j in range(1,127):\n",
    "        x= pixel_values_9[i,j,0:3]\n",
    "        x=np.hstack((x,pixel_values_9[i-1,j-1,0:3]))\n",
    "        x=np.hstack((x,pixel_values_9[i-1,j,0:3]))\n",
    "        x=np.hstack((x,pixel_values_9[i-1,j+1,0:3]))\n",
    "        x=np.hstack((x,pixel_values_9[i,j-1,0:3]))\n",
    "        x=np.hstack((x,pixel_values_9[i,j+1,0:3]))\n",
    "        x=np.hstack((x,pixel_values_9[i+1,j-1,0:3]))\n",
    "        x=np.hstack((x,pixel_values_9[i+1,j,0:3]))\n",
    "        x=np.hstack((x,pixel_values_9[i+1,j+1,0:3]))\n",
    "        data=np.vstack((data,x))\n",
    "       "
   ]
  },
  {
   "cell_type": "code",
   "execution_count": 93,
   "metadata": {},
   "outputs": [
    {
     "data": {
      "text/plain": [
       "array([[124,  12, 146, ..., 145,  33, 169],\n",
       "       [124,  12, 146, ..., 145,  33, 169],\n",
       "       [129,  17, 153, ..., 153,  41, 177],\n",
       "       ...,\n",
       "       [ 68,  66,  53, ...,  79,  77,  64],\n",
       "       [ 62,  60,  47, ...,  71,  69,  56],\n",
       "       [ 62,  60,  47, ...,  63,  61,  48]])"
      ]
     },
     "execution_count": 93,
     "metadata": {},
     "output_type": "execute_result"
    }
   ],
   "source": [
    "data"
   ]
  },
  {
   "cell_type": "code",
   "execution_count": 94,
   "metadata": {},
   "outputs": [],
   "source": [
    "data=np.delete(data,0,axis=0)"
   ]
  },
  {
   "cell_type": "code",
   "execution_count": 95,
   "metadata": {},
   "outputs": [
    {
     "data": {
      "text/plain": [
       "(127008, 27)"
      ]
     },
     "execution_count": 95,
     "metadata": {},
     "output_type": "execute_result"
    }
   ],
   "source": [
    "np.shape(data)"
   ]
  },
  {
   "cell_type": "code",
   "execution_count": 96,
   "metadata": {},
   "outputs": [],
   "source": [
    "mask_2=Image.open(r\"C:\\Users\\Surabhi\\OneDrive\\Pictures\\Images and Masks\\Image 2.png\")\n",
    "mask_3=Image.open(r\"C:\\Users\\Surabhi\\OneDrive\\Pictures\\Images and Masks\\Image 3.png\")\n",
    "mask_4=Image.open(r\"C:\\Users\\Surabhi\\OneDrive\\Pictures\\Images and Masks\\Image 4.png\")\n",
    "mask_5=Image.open(r\"C:\\Users\\Surabhi\\OneDrive\\Pictures\\Images and Masks\\Image 5.png\")\n",
    "mask_6=Image.open(r\"C:\\Users\\Surabhi\\OneDrive\\Pictures\\Images and Masks\\Image 6.png\")\n",
    "mask_7=Image.open(r\"C:\\Users\\Surabhi\\OneDrive\\Pictures\\Images and Masks\\Image 7.png\")\n",
    "mask_8=Image.open(r\"C:\\Users\\Surabhi\\OneDrive\\Pictures\\Images and Masks\\Image 8.png\")\n",
    "mask_9=Image.open(r\"C:\\Users\\Surabhi\\OneDrive\\Pictures\\Images and Masks\\Image 9.png\")\n"
   ]
  },
  {
   "cell_type": "code",
   "execution_count": 97,
   "metadata": {},
   "outputs": [],
   "source": [
    "pixel_2 = list(mask_2.getdata())\n",
    "pixel_3 = list(mask_3.getdata())\n",
    "pixel_4 = list(mask_4.getdata())\n",
    "pixel_5 = list(mask_5.getdata())\n",
    "pixel_6 = list(mask_6.getdata())\n",
    "pixel_7 = list(mask_7.getdata())\n",
    "pixel_8 = list(mask_8.getdata())\n",
    "pixel_9 = list(mask_9.getdata())"
   ]
  },
  {
   "cell_type": "code",
   "execution_count": 98,
   "metadata": {},
   "outputs": [],
   "source": [
    "pixel_2 = np.array(pixel_2).reshape((128*128, 4))\n",
    "pixel_3 = np.array(pixel_3).reshape((128*128, 4))\n",
    "pixel_4 = np.array(pixel_4).reshape((128*128, 4))\n",
    "pixel_5 = np.array(pixel_5).reshape((128*128, 4))\n",
    "pixel_6 = np.array(pixel_6).reshape((128*128, 4))\n",
    "pixel_7 = np.array(pixel_7).reshape((128*128, 4))\n",
    "pixel_8 = np.array(pixel_8).reshape((128*128, 4))\n",
    "pixel_9 = np.array(pixel_9).reshape((128*128, 4))"
   ]
  },
  {
   "cell_type": "code",
   "execution_count": 99,
   "metadata": {},
   "outputs": [],
   "source": [
    "y_2=pixel_2[:,0].reshape(128,128)\n",
    "y_3=pixel_3[:,0].reshape(128,128)\n",
    "y_4=pixel_4[:,0].reshape(128,128)\n",
    "y_5=pixel_5[:,0].reshape(128,128)\n",
    "y_6=pixel_6[:,0].reshape(128,128)\n",
    "y_7=pixel_7[:,0].reshape(128,128)\n",
    "y_8=pixel_8[:,0].reshape(128,128)\n",
    "y_9=pixel_9[:,0].reshape(128,128)"
   ]
  },
  {
   "cell_type": "code",
   "execution_count": 100,
   "metadata": {},
   "outputs": [
    {
     "data": {
      "text/plain": [
       "array([[  0,   0,   0, ...,   0,   0,   0],\n",
       "       [  0,   0,   0, ...,   0,   0,   0],\n",
       "       [  0,   0,   0, ...,   0,   0,   0],\n",
       "       ...,\n",
       "       [255, 255, 255, ...,   0,   0,   0],\n",
       "       [255, 255, 255, ...,   0,   0,   0],\n",
       "       [255, 255, 255, ...,   0,   0,   0]])"
      ]
     },
     "execution_count": 100,
     "metadata": {},
     "output_type": "execute_result"
    }
   ],
   "source": [
    "y_2"
   ]
  },
  {
   "cell_type": "code",
   "execution_count": 101,
   "metadata": {},
   "outputs": [],
   "source": [
    "y_2=np.delete(y_2,[0,127],axis=0)\n",
    "y_2=np.delete(y_2,[0,127],axis=1)\n",
    "y_3=np.delete(y_3,[0,127],axis=0)\n",
    "y_3=np.delete(y_3,[0,127],axis=1)\n",
    "y_4=np.delete(y_4,[0,127],axis=0)\n",
    "y_4=np.delete(y_4,[0,127],axis=1)\n",
    "y_5=np.delete(y_5,[0,127],axis=0)\n",
    "y_5=np.delete(y_5,[0,127],axis=1)\n",
    "y_6=np.delete(y_6,[0,127],axis=0)\n",
    "y_6=np.delete(y_6,[0,127],axis=1)\n",
    "y_7=np.delete(y_7,[0,127],axis=0)\n",
    "y_7=np.delete(y_7,[0,127],axis=1)\n",
    "y_8=np.delete(y_8,[0,127],axis=0)\n",
    "y_8=np.delete(y_8,[0,127],axis=1)\n",
    "y_9=np.delete(y_9,[0,127],axis=0)\n",
    "y_9=np.delete(y_9,[0,127],axis=1)"
   ]
  },
  {
   "cell_type": "code",
   "execution_count": 102,
   "metadata": {},
   "outputs": [],
   "source": [
    "y_2=y_2.reshape(15876,)\n",
    "y_3=y_3.reshape(15876,)\n",
    "y_4=y_4.reshape(15876,)\n",
    "y_5=y_5.reshape(15876,)\n",
    "y_6=y_6.reshape(15876,)\n",
    "y_7=y_7.reshape(15876,)\n",
    "y_8=y_8.reshape(15876,)\n",
    "y_9=y_9.reshape(15876,)"
   ]
  },
  {
   "cell_type": "code",
   "execution_count": 103,
   "metadata": {},
   "outputs": [],
   "source": [
    "import itertools"
   ]
  },
  {
   "cell_type": "code",
   "execution_count": 104,
   "metadata": {},
   "outputs": [],
   "source": [
    "y = list(itertools.chain(y_2,y_3,y_4,y_5,y_6,y_7,y_8,y_9))"
   ]
  },
  {
   "cell_type": "code",
   "execution_count": 105,
   "metadata": {},
   "outputs": [],
   "source": [
    "y = np.array(y).reshape(127008, )"
   ]
  },
  {
   "cell_type": "code",
   "execution_count": 106,
   "metadata": {},
   "outputs": [
    {
     "data": {
      "text/plain": [
       "array([0, 0, 0, ..., 0, 0, 0])"
      ]
     },
     "execution_count": 106,
     "metadata": {},
     "output_type": "execute_result"
    }
   ],
   "source": [
    "y"
   ]
  },
  {
   "cell_type": "code",
   "execution_count": 107,
   "metadata": {},
   "outputs": [],
   "source": [
    "y=y//255"
   ]
  },
  {
   "cell_type": "code",
   "execution_count": 108,
   "metadata": {},
   "outputs": [
    {
     "data": {
      "text/plain": [
       "array([0, 0, 0, ..., 0, 0, 0], dtype=int32)"
      ]
     },
     "execution_count": 108,
     "metadata": {},
     "output_type": "execute_result"
    }
   ],
   "source": [
    "y"
   ]
  },
  {
   "cell_type": "code",
   "execution_count": 109,
   "metadata": {},
   "outputs": [],
   "source": [
    "import tensorflow as tf"
   ]
  },
  {
   "cell_type": "code",
   "execution_count": 110,
   "metadata": {},
   "outputs": [],
   "source": [
    "X=data"
   ]
  },
  {
   "cell_type": "code",
   "execution_count": 111,
   "metadata": {},
   "outputs": [
    {
     "data": {
      "text/plain": [
       "(127008, 27)"
      ]
     },
     "execution_count": 111,
     "metadata": {},
     "output_type": "execute_result"
    }
   ],
   "source": [
    "np.shape(data)"
   ]
  },
  {
   "cell_type": "code",
   "execution_count": 112,
   "metadata": {},
   "outputs": [
    {
     "data": {
      "text/plain": [
       "(127008, 27)"
      ]
     },
     "execution_count": 112,
     "metadata": {},
     "output_type": "execute_result"
    }
   ],
   "source": [
    "np.shape(X)"
   ]
  },
  {
   "cell_type": "code",
   "execution_count": 113,
   "metadata": {},
   "outputs": [],
   "source": [
    "from sklearn.preprocessing import StandardScaler\n",
    "sc = StandardScaler()\n",
    "X = sc.fit_transform(X)\n",
    "\n"
   ]
  },
  {
   "cell_type": "code",
   "execution_count": 114,
   "metadata": {},
   "outputs": [],
   "source": [
    "ann = tf.keras.models.Sequential()\n",
    "ann.add(tf.keras.layers.Dense(units=15, activation='relu'))\n",
    "ann.add(tf.keras.layers.Dense(units=60, activation='relu'))\n",
    "ann.add(tf.keras.layers.Dense(units=1, activation='sigmoid'))"
   ]
  },
  {
   "cell_type": "code",
   "execution_count": 115,
   "metadata": {},
   "outputs": [],
   "source": [
    "ann.compile(optimizer = 'adam', loss = 'binary_crossentropy', metrics = ['accuracy'])"
   ]
  },
  {
   "cell_type": "code",
   "execution_count": 116,
   "metadata": {},
   "outputs": [],
   "source": [
    "start_time = time.time()\n"
   ]
  },
  {
   "cell_type": "code",
   "execution_count": 117,
   "metadata": {},
   "outputs": [
    {
     "name": "stdout",
     "output_type": "stream",
     "text": [
      "Epoch 1/100\n",
      "3969/3969 [==============================] - 7s 2ms/step - loss: 0.3117 - accuracy: 0.8786\n",
      "Epoch 2/100\n",
      "3969/3969 [==============================] - 6s 2ms/step - loss: 0.2245 - accuracy: 0.9144\n",
      "Epoch 3/100\n",
      "3969/3969 [==============================] - 6s 2ms/step - loss: 0.2047 - accuracy: 0.9224\n",
      "Epoch 4/100\n",
      "3969/3969 [==============================] - 6s 2ms/step - loss: 0.2012 - accuracy: 0.9227\n",
      "Epoch 5/100\n",
      "3969/3969 [==============================] - 7s 2ms/step - loss: 0.1924 - accuracy: 0.9264\n",
      "Epoch 6/100\n",
      "3969/3969 [==============================] - 7s 2ms/step - loss: 0.1903 - accuracy: 0.9266\n",
      "Epoch 7/100\n",
      "3969/3969 [==============================] - 6s 2ms/step - loss: 0.1897 - accuracy: 0.9257\n",
      "Epoch 8/100\n",
      "3969/3969 [==============================] - 6s 1ms/step - loss: 0.1864 - accuracy: 0.9282\n",
      "Epoch 9/100\n",
      "3969/3969 [==============================] - 5s 1ms/step - loss: 0.1829 - accuracy: 0.9292\n",
      "Epoch 10/100\n",
      "3969/3969 [==============================] - 5s 1ms/step - loss: 0.1808 - accuracy: 0.9299\n",
      "Epoch 11/100\n",
      "3969/3969 [==============================] - 5s 1ms/step - loss: 0.1803 - accuracy: 0.9300\n",
      "Epoch 12/100\n",
      "3969/3969 [==============================] - 5s 1ms/step - loss: 0.1750 - accuracy: 0.9323\n",
      "Epoch 13/100\n",
      "3969/3969 [==============================] - 5s 1ms/step - loss: 0.1783 - accuracy: 0.9316\n",
      "Epoch 14/100\n",
      "3969/3969 [==============================] - 5s 1ms/step - loss: 0.1754 - accuracy: 0.9324\n",
      "Epoch 15/100\n",
      "3969/3969 [==============================] - 5s 1ms/step - loss: 0.1726 - accuracy: 0.9332\n",
      "Epoch 16/100\n",
      "3969/3969 [==============================] - 5s 1ms/step - loss: 0.1741 - accuracy: 0.9326\n",
      "Epoch 17/100\n",
      "3969/3969 [==============================] - 5s 1ms/step - loss: 0.1736 - accuracy: 0.9341\n",
      "Epoch 18/100\n",
      "3969/3969 [==============================] - 5s 1ms/step - loss: 0.1700 - accuracy: 0.9343\n",
      "Epoch 19/100\n",
      "3969/3969 [==============================] - 5s 1ms/step - loss: 0.1691 - accuracy: 0.9345\n",
      "Epoch 20/100\n",
      "3969/3969 [==============================] - 5s 1ms/step - loss: 0.1689 - accuracy: 0.9348\n",
      "Epoch 21/100\n",
      "3969/3969 [==============================] - 5s 1ms/step - loss: 0.1666 - accuracy: 0.9356\n",
      "Epoch 22/100\n",
      "3969/3969 [==============================] - 5s 1ms/step - loss: 0.1665 - accuracy: 0.9346\n",
      "Epoch 23/100\n",
      "3969/3969 [==============================] - 6s 1ms/step - loss: 0.1668 - accuracy: 0.9355\n",
      "Epoch 24/100\n",
      "3969/3969 [==============================] - 6s 1ms/step - loss: 0.1667 - accuracy: 0.9358\n",
      "Epoch 25/100\n",
      "3969/3969 [==============================] - 6s 2ms/step - loss: 0.1650 - accuracy: 0.9362\n",
      "Epoch 26/100\n",
      "3969/3969 [==============================] - 6s 2ms/step - loss: 0.1619 - accuracy: 0.9376\n",
      "Epoch 27/100\n",
      "3969/3969 [==============================] - 6s 1ms/step - loss: 0.1654 - accuracy: 0.9357\n",
      "Epoch 28/100\n",
      "3969/3969 [==============================] - 6s 1ms/step - loss: 0.1600 - accuracy: 0.9387\n",
      "Epoch 29/100\n",
      "3969/3969 [==============================] - 6s 1ms/step - loss: 0.1606 - accuracy: 0.9382\n",
      "Epoch 30/100\n",
      "3969/3969 [==============================] - 5s 1ms/step - loss: 0.1606 - accuracy: 0.9379\n",
      "Epoch 31/100\n",
      "3969/3969 [==============================] - 5s 1ms/step - loss: 0.1586 - accuracy: 0.9384\n",
      "Epoch 32/100\n",
      "3969/3969 [==============================] - 5s 1ms/step - loss: 0.1585 - accuracy: 0.9396\n",
      "Epoch 33/100\n",
      "3969/3969 [==============================] - 5s 1ms/step - loss: 0.1567 - accuracy: 0.9385\n",
      "Epoch 34/100\n",
      "3969/3969 [==============================] - 5s 1ms/step - loss: 0.1575 - accuracy: 0.9382\n",
      "Epoch 35/100\n",
      "3969/3969 [==============================] - 5s 1ms/step - loss: 0.1575 - accuracy: 0.9393\n",
      "Epoch 36/100\n",
      "3969/3969 [==============================] - 5s 1ms/step - loss: 0.1587 - accuracy: 0.9379\n",
      "Epoch 37/100\n",
      "3969/3969 [==============================] - 5s 1ms/step - loss: 0.1579 - accuracy: 0.9391\n",
      "Epoch 38/100\n",
      "3969/3969 [==============================] - 5s 1ms/step - loss: 0.1541 - accuracy: 0.9408\n",
      "Epoch 39/100\n",
      "3969/3969 [==============================] - 5s 1ms/step - loss: 0.1550 - accuracy: 0.9403\n",
      "Epoch 40/100\n",
      "3969/3969 [==============================] - 5s 1ms/step - loss: 0.1568 - accuracy: 0.9393\n",
      "Epoch 41/100\n",
      "3969/3969 [==============================] - 5s 1ms/step - loss: 0.1577 - accuracy: 0.9387\n",
      "Epoch 42/100\n",
      "3969/3969 [==============================] - 5s 1ms/step - loss: 0.1528 - accuracy: 0.9403\n",
      "Epoch 43/100\n",
      "3969/3969 [==============================] - 7s 2ms/step - loss: 0.1544 - accuracy: 0.9390\n",
      "Epoch 44/100\n",
      "3969/3969 [==============================] - 8s 2ms/step - loss: 0.1519 - accuracy: 0.9420\n",
      "Epoch 45/100\n",
      "3969/3969 [==============================] - 5s 1ms/step - loss: 0.1542 - accuracy: 0.9403\n",
      "Epoch 46/100\n",
      "3969/3969 [==============================] - 6s 2ms/step - loss: 0.1509 - accuracy: 0.9411\n",
      "Epoch 47/100\n",
      "3969/3969 [==============================] - 6s 1ms/step - loss: 0.1532 - accuracy: 0.9402\n",
      "Epoch 48/100\n",
      "3969/3969 [==============================] - 5s 1ms/step - loss: 0.1499 - accuracy: 0.9407\n",
      "Epoch 49/100\n",
      "3969/3969 [==============================] - 5s 1ms/step - loss: 0.1510 - accuracy: 0.9410\n",
      "Epoch 50/100\n",
      "3969/3969 [==============================] - 5s 1ms/step - loss: 0.1516 - accuracy: 0.9416\n",
      "Epoch 51/100\n",
      "3969/3969 [==============================] - 5s 1ms/step - loss: 0.1489 - accuracy: 0.9419\n",
      "Epoch 52/100\n",
      "3969/3969 [==============================] - 5s 1ms/step - loss: 0.1506 - accuracy: 0.9414\n",
      "Epoch 53/100\n",
      "3969/3969 [==============================] - 5s 1ms/step - loss: 0.1494 - accuracy: 0.9418\n",
      "Epoch 54/100\n",
      "3969/3969 [==============================] - 5s 1ms/step - loss: 0.1466 - accuracy: 0.9429\n",
      "Epoch 55/100\n",
      "3969/3969 [==============================] - 5s 1ms/step - loss: 0.1504 - accuracy: 0.9422\n",
      "Epoch 56/100\n",
      "3969/3969 [==============================] - 5s 1ms/step - loss: 0.1511 - accuracy: 0.9409\n",
      "Epoch 57/100\n",
      "3969/3969 [==============================] - 5s 1ms/step - loss: 0.1506 - accuracy: 0.9407\n",
      "Epoch 58/100\n",
      "3969/3969 [==============================] - 5s 1ms/step - loss: 0.1474 - accuracy: 0.9430\n",
      "Epoch 59/100\n",
      "3969/3969 [==============================] - 5s 1ms/step - loss: 0.1515 - accuracy: 0.9405\n",
      "Epoch 60/100\n",
      "3969/3969 [==============================] - 6s 1ms/step - loss: 0.1509 - accuracy: 0.9411\n",
      "Epoch 61/100\n",
      "3969/3969 [==============================] - 6s 1ms/step - loss: 0.1502 - accuracy: 0.9409\n",
      "Epoch 62/100\n",
      "3969/3969 [==============================] - 6s 2ms/step - loss: 0.1498 - accuracy: 0.9419\n",
      "Epoch 63/100\n",
      "3969/3969 [==============================] - 6s 1ms/step - loss: 0.1452 - accuracy: 0.9429\n",
      "Epoch 64/100\n",
      "3969/3969 [==============================] - 6s 1ms/step - loss: 0.1495 - accuracy: 0.9425\n",
      "Epoch 65/100\n",
      "3969/3969 [==============================] - 6s 2ms/step - loss: 0.1484 - accuracy: 0.9422\n",
      "Epoch 66/100\n",
      "3969/3969 [==============================] - 6s 2ms/step - loss: 0.1495 - accuracy: 0.9412\n",
      "Epoch 67/100\n",
      "3969/3969 [==============================] - 6s 2ms/step - loss: 0.1469 - accuracy: 0.9434\n",
      "Epoch 68/100\n",
      "3969/3969 [==============================] - 6s 1ms/step - loss: 0.1467 - accuracy: 0.9429\n",
      "Epoch 69/100\n",
      "3969/3969 [==============================] - 6s 1ms/step - loss: 0.1466 - accuracy: 0.9420\n",
      "Epoch 70/100\n",
      "3969/3969 [==============================] - 6s 2ms/step - loss: 0.1452 - accuracy: 0.9421\n",
      "Epoch 71/100\n",
      "3969/3969 [==============================] - 6s 1ms/step - loss: 0.1445 - accuracy: 0.9440\n",
      "Epoch 72/100\n",
      "3969/3969 [==============================] - 6s 1ms/step - loss: 0.1476 - accuracy: 0.9426\n",
      "Epoch 73/100\n",
      "3969/3969 [==============================] - 6s 2ms/step - loss: 0.1458 - accuracy: 0.9445\n",
      "Epoch 74/100\n",
      "3969/3969 [==============================] - 6s 1ms/step - loss: 0.1473 - accuracy: 0.9421\n",
      "Epoch 75/100\n",
      "3969/3969 [==============================] - 6s 2ms/step - loss: 0.1467 - accuracy: 0.9434\n",
      "Epoch 76/100\n",
      "3969/3969 [==============================] - 6s 1ms/step - loss: 0.1452 - accuracy: 0.9427\n",
      "Epoch 77/100\n",
      "3969/3969 [==============================] - 6s 1ms/step - loss: 0.1477 - accuracy: 0.9422\n",
      "Epoch 78/100\n",
      "3969/3969 [==============================] - 6s 1ms/step - loss: 0.1449 - accuracy: 0.9447\n",
      "Epoch 79/100\n",
      "3969/3969 [==============================] - 5s 1ms/step - loss: 0.1467 - accuracy: 0.9425\n",
      "Epoch 80/100\n",
      "3969/3969 [==============================] - 5s 1ms/step - loss: 0.1451 - accuracy: 0.9439\n",
      "Epoch 81/100\n",
      "3969/3969 [==============================] - 6s 1ms/step - loss: 0.1447 - accuracy: 0.9436\n",
      "Epoch 82/100\n",
      "3969/3969 [==============================] - 5s 1ms/step - loss: 0.1457 - accuracy: 0.9429\n",
      "Epoch 83/100\n",
      "3969/3969 [==============================] - 6s 1ms/step - loss: 0.1465 - accuracy: 0.9427\n",
      "Epoch 84/100\n",
      "3969/3969 [==============================] - 6s 1ms/step - loss: 0.1447 - accuracy: 0.9436\n",
      "Epoch 85/100\n",
      "3969/3969 [==============================] - 5s 1ms/step - loss: 0.1454 - accuracy: 0.9436\n",
      "Epoch 86/100\n",
      "3969/3969 [==============================] - 5s 1ms/step - loss: 0.1429 - accuracy: 0.9436\n",
      "Epoch 87/100\n",
      "3969/3969 [==============================] - 6s 1ms/step - loss: 0.1419 - accuracy: 0.9452\n",
      "Epoch 88/100\n",
      "3969/3969 [==============================] - 5s 1ms/step - loss: 0.1427 - accuracy: 0.9444\n",
      "Epoch 89/100\n",
      "3969/3969 [==============================] - 5s 1ms/step - loss: 0.1446 - accuracy: 0.9439\n",
      "Epoch 90/100\n",
      "3969/3969 [==============================] - 6s 1ms/step - loss: 0.1433 - accuracy: 0.9451\n",
      "Epoch 91/100\n",
      "3969/3969 [==============================] - 5s 1ms/step - loss: 0.1429 - accuracy: 0.9441\n",
      "Epoch 92/100\n",
      "3969/3969 [==============================] - 5s 1ms/step - loss: 0.1409 - accuracy: 0.9452\n",
      "Epoch 93/100\n",
      "3969/3969 [==============================] - 6s 1ms/step - loss: 0.1418 - accuracy: 0.9445\n",
      "Epoch 94/100\n",
      "3969/3969 [==============================] - 5s 1ms/step - loss: 0.1414 - accuracy: 0.9452\n",
      "Epoch 95/100\n",
      "3969/3969 [==============================] - 5s 1ms/step - loss: 0.1428 - accuracy: 0.9448\n",
      "Epoch 96/100\n",
      "3969/3969 [==============================] - 6s 1ms/step - loss: 0.1443 - accuracy: 0.9434\n",
      "Epoch 97/100\n",
      "3969/3969 [==============================] - 5s 1ms/step - loss: 0.1430 - accuracy: 0.9444\n",
      "Epoch 98/100\n",
      "3969/3969 [==============================] - 6s 1ms/step - loss: 0.1417 - accuracy: 0.9448\n",
      "Epoch 99/100\n",
      "3969/3969 [==============================] - 6s 1ms/step - loss: 0.1424 - accuracy: 0.9443\n",
      "Epoch 100/100\n",
      "3969/3969 [==============================] - 5s 1ms/step - loss: 0.1419 - accuracy: 0.9442\n"
     ]
    }
   ],
   "source": [
    "model_fit=ann.fit(X, y, batch_size = 32, epochs = 100)"
   ]
  },
  {
   "cell_type": "code",
   "execution_count": 118,
   "metadata": {},
   "outputs": [
    {
     "name": "stdout",
     "output_type": "stream",
     "text": [
      "554.2655305862427\n"
     ]
    }
   ],
   "source": [
    "print(time.time()-start_time)"
   ]
  },
  {
   "cell_type": "code",
   "execution_count": 119,
   "metadata": {},
   "outputs": [],
   "source": [
    "import matplotlib.pyplot as plt"
   ]
  },
  {
   "cell_type": "code",
   "execution_count": 120,
   "metadata": {},
   "outputs": [],
   "source": [
    "test_img_1=Image.open(r\"C:\\Users\\Surabhi\\OneDrive\\Pictures\\Images and Masks\\Image 10_contrast.jpg\")"
   ]
  },
  {
   "cell_type": "code",
   "execution_count": 121,
   "metadata": {},
   "outputs": [],
   "source": [
    "pixel_values_test = list(test_img_1.getdata())"
   ]
  },
  {
   "cell_type": "code",
   "execution_count": 122,
   "metadata": {},
   "outputs": [],
   "source": [
    "pixel_values_test = np.array(pixel_values_test).reshape((128,128, 3))"
   ]
  },
  {
   "cell_type": "code",
   "execution_count": 123,
   "metadata": {},
   "outputs": [],
   "source": [
    "data_test=np.empty((27,))"
   ]
  },
  {
   "cell_type": "code",
   "execution_count": 124,
   "metadata": {},
   "outputs": [
    {
     "data": {
      "text/plain": [
       "array([81.07711245, 84.20733723, 87.87007592, 81.03268519, 84.24351869,\n",
       "       87.93864135, 81.03299324, 84.27220584, 87.95544767, 81.04043425,\n",
       "       84.29853454, 87.97128646, 81.07948892, 84.1807224 , 87.85605328,\n",
       "       81.08214019, 84.23161797, 87.88294261, 81.12711813, 84.11788041,\n",
       "       87.77282052, 81.12137222, 84.14178804, 87.78337866, 81.1235589 ,\n",
       "       84.16345529, 87.79277636])"
      ]
     },
     "execution_count": 124,
     "metadata": {},
     "output_type": "execute_result"
    }
   ],
   "source": [
    "data_test"
   ]
  },
  {
   "cell_type": "code",
   "execution_count": 125,
   "metadata": {},
   "outputs": [],
   "source": [
    "for i in range(1,127):\n",
    "    for j in range(1,127):\n",
    "        x= pixel_values_test[i,j,0:3]\n",
    "        x=np.hstack((x,pixel_values_test[i-1,j-1,0:3]))\n",
    "        x=np.hstack((x,pixel_values_test[i-1,j,0:3]))\n",
    "        x=np.hstack((x,pixel_values_test[i-1,j+1,0:3]))\n",
    "        x=np.hstack((x,pixel_values_test[i,j-1,0:3]))\n",
    "        x=np.hstack((x,pixel_values_test[i,j+1,0:3]))\n",
    "        x=np.hstack((x,pixel_values_test[i+1,j-1,0:3]))\n",
    "        x=np.hstack((x,pixel_values_test[i+1,j,0:3]))\n",
    "        x=np.hstack((x,pixel_values_test[i+1,j+1,0:3]))\n",
    "        data_test=np.vstack((data_test,x))"
   ]
  },
  {
   "cell_type": "code",
   "execution_count": 126,
   "metadata": {},
   "outputs": [
    {
     "data": {
      "text/plain": [
       "array([[ 81.07711245,  84.20733723,  87.87007592, ...,  81.1235589 ,\n",
       "         84.16345529,  87.79277636],\n",
       "       [  9.        , 159.        , 132.        , ...,  11.        ,\n",
       "        143.        , 119.        ],\n",
       "       [  8.        , 136.        , 113.        , ...,   7.        ,\n",
       "        119.        ,  97.        ],\n",
       "       ...,\n",
       "       [  4.        , 105.        ,  61.        , ...,   0.        ,\n",
       "        121.        ,  64.        ],\n",
       "       [  0.        , 120.        ,  66.        , ...,   0.        ,\n",
       "        133.        ,  71.        ],\n",
       "       [  0.        , 131.        ,  72.        , ...,   0.        ,\n",
       "        136.        ,  69.        ]])"
      ]
     },
     "execution_count": 126,
     "metadata": {},
     "output_type": "execute_result"
    }
   ],
   "source": [
    "data_test"
   ]
  },
  {
   "cell_type": "code",
   "execution_count": 127,
   "metadata": {},
   "outputs": [],
   "source": [
    "data_test=np.delete(data_test,0,axis=0)"
   ]
  },
  {
   "cell_type": "code",
   "execution_count": 128,
   "metadata": {},
   "outputs": [
    {
     "data": {
      "text/plain": [
       "array([[  9., 159., 132., ...,  11., 143., 119.],\n",
       "       [  8., 136., 113., ...,   7., 119.,  97.],\n",
       "       [  0., 103.,  83., ...,   0.,  83.,  63.],\n",
       "       ...,\n",
       "       [  4., 105.,  61., ...,   0., 121.,  64.],\n",
       "       [  0., 120.,  66., ...,   0., 133.,  71.],\n",
       "       [  0., 131.,  72., ...,   0., 136.,  69.]])"
      ]
     },
     "execution_count": 128,
     "metadata": {},
     "output_type": "execute_result"
    }
   ],
   "source": [
    "data_test"
   ]
  },
  {
   "cell_type": "code",
   "execution_count": 129,
   "metadata": {},
   "outputs": [
    {
     "data": {
      "text/plain": [
       "(15876, 27)"
      ]
     },
     "execution_count": 129,
     "metadata": {},
     "output_type": "execute_result"
    }
   ],
   "source": [
    "np.shape(data_test)"
   ]
  },
  {
   "cell_type": "code",
   "execution_count": 130,
   "metadata": {},
   "outputs": [],
   "source": [
    "prediction=ann.predict(sc.transform(data_test))\n",
    "final=(prediction>0.5)"
   ]
  },
  {
   "cell_type": "code",
   "execution_count": 131,
   "metadata": {},
   "outputs": [],
   "source": [
    "final=final.reshape(126,126)"
   ]
  },
  {
   "cell_type": "code",
   "execution_count": 132,
   "metadata": {},
   "outputs": [],
   "source": [
    "import matplotlib.pyplot as plt"
   ]
  },
  {
   "cell_type": "code",
   "execution_count": 133,
   "metadata": {},
   "outputs": [
    {
     "data": {
      "image/png": "[encoded data removed]",
      "text/plain": [
       "<Figure size 432x288 with 1 Axes>"
      ]
     },
     "metadata": {
      "needs_background": "light"
     },
     "output_type": "display_data"
    }
   ],
   "source": [
    "plt.imshow(final, cmap='gray')\n",
    "plt.show() "
   ]
  },
  {
   "cell_type": "code",
   "execution_count": 134,
   "metadata": {},
   "outputs": [],
   "source": [
    "mask_test=Image.open(r\"C:\\Users\\Surabhi\\OneDrive\\Pictures\\Images and Masks\\segmentation\\Image 10_contrast.png\")"
   ]
  },
  {
   "cell_type": "code",
   "execution_count": 135,
   "metadata": {},
   "outputs": [],
   "source": [
    "pixel_test = list(mask_test.getdata())"
   ]
  },
  {
   "cell_type": "code",
   "execution_count": 136,
   "metadata": {},
   "outputs": [],
   "source": [
    "pixel_test = np.array(pixel_test).reshape((128*128, 4))"
   ]
  },
  {
   "cell_type": "code",
   "execution_count": 137,
   "metadata": {},
   "outputs": [],
   "source": [
    "y_test=pixel_test[:,0].reshape(128,128)"
   ]
  },
  {
   "cell_type": "code",
   "execution_count": 138,
   "metadata": {},
   "outputs": [],
   "source": [
    "y_test=255-y_test"
   ]
  },
  {
   "cell_type": "code",
   "execution_count": 139,
   "metadata": {},
   "outputs": [],
   "source": [
    "y_test=np.delete(y_test,[0,127],axis=0)\n",
    "y_test=np.delete(y_test,[0,127],axis=1)"
   ]
  },
  {
   "cell_type": "code",
   "execution_count": 140,
   "metadata": {},
   "outputs": [],
   "source": [
    "y_test=y_test.reshape(15876,)"
   ]
  },
  {
   "cell_type": "code",
   "execution_count": 141,
   "metadata": {},
   "outputs": [],
   "source": [
    "y_pred=final.reshape(15876,)"
   ]
  },
  {
   "cell_type": "code",
   "execution_count": 142,
   "metadata": {},
   "outputs": [],
   "source": [
    "from sklearn.metrics import confusion_matrix,accuracy_score"
   ]
  },
  {
   "cell_type": "code",
   "execution_count": 143,
   "metadata": {},
   "outputs": [
    {
     "name": "stdout",
     "output_type": "stream",
     "text": [
      "[[9117   78    0]\n",
      " [   0    0    0]\n",
      " [4009 2672    0]]\n"
     ]
    },
    {
     "data": {
      "text/plain": [
       "0.5742630385487528"
      ]
     },
     "execution_count": 143,
     "metadata": {},
     "output_type": "execute_result"
    }
   ],
   "source": [
    "cm = confusion_matrix(y_test, y_pred)\n",
    "print(cm)\n",
    "accuracy_score(y_test, y_pred)"
   ]
  },
  {
   "cell_type": "code",
   "execution_count": 144,
   "metadata": {},
   "outputs": [],
   "source": [
    "final=Image.fromarray(final)"
   ]
  },
  {
   "cell_type": "code",
   "execution_count": 145,
   "metadata": {},
   "outputs": [],
   "source": [
    "final.save(r\"C:\\Users\\Surabhi\\Downloads\\final.jpg\")"
   ]
  },
  {
   "cell_type": "markdown",
   "metadata": {},
   "source": [
    "Erosion and Dilation"
   ]
  },
  {
   "cell_type": "code",
   "execution_count": 146,
   "metadata": {},
   "outputs": [
    {
     "data": {
      "text/plain": [
       "array([[255, 255, 255, ..., 255, 255, 255],\n",
       "       [255, 255, 255, ..., 255, 255, 255],\n",
       "       [255, 255, 255, ..., 255, 255, 255],\n",
       "       ...,\n",
       "       [255, 255, 255, ..., 255, 255, 255],\n",
       "       [255, 255, 255, ..., 255, 255, 255],\n",
       "       [255, 255, 255, ..., 255, 255, 255]], dtype=uint8)"
      ]
     },
     "execution_count": 146,
     "metadata": {},
     "output_type": "execute_result"
    }
   ],
   "source": [
    "import cv2\n",
    "import numpy as np\n",
    "  \n",
    "input_img=cv2.imread(r\"C:\\Users\\Surabhi\\Downloads\\attempt 2.png\",0)\n",
    "  \n",
    "# Taking a matrix of size 5 as the kernel\n",
    "kernel = np.ones((5,5), np.uint8)\n",
    "  \n",
    "# The first parameter is the original image,\n",
    "# kernel is the matrix with which image is \n",
    "# convolved and third parameter is the number \n",
    "# of iterations, which will determine how much \n",
    "# you want to erode/dilate a given image. \n",
    "img_erosion = cv2.erode(input_img, kernel, iterations=1)\n",
    "img_dilation = cv2.dilate(input_img, kernel, iterations=1)\n",
    "img_morph=cv2.morphologyEx(input_img, cv2.MORPH_OPEN, kernel)\n",
    "img_close=cv2.morphologyEx(input_img, cv2.MORPH_CLOSE, kernel)\n",
    "img_erosion"
   ]
  },
  {
   "cell_type": "code",
   "execution_count": 147,
   "metadata": {},
   "outputs": [
    {
     "data": {
      "image/png": "[encoded data removed]",
      "text/plain": [
       "<Figure size 432x288 with 1 Axes>"
      ]
     },
     "metadata": {
      "needs_background": "light"
     },
     "output_type": "display_data"
    }
   ],
   "source": [
    "plt.imshow(img_close, cmap='gray')\n",
    "plt.show() "
   ]
  },
  {
   "cell_type": "code",
   "execution_count": 148,
   "metadata": {},
   "outputs": [
    {
     "data": {
      "image/png": "[encoded data removed]",
      "text/plain": [
       "<Figure size 432x288 with 1 Axes>"
      ]
     },
     "metadata": {
      "needs_background": "light"
     },
     "output_type": "display_data"
    }
   ],
   "source": [
    "plt.imshow(img_dilation, cmap='gray')\n",
    "plt.show() "
   ]
  },
  {
   "cell_type": "code",
   "execution_count": null,
   "metadata": {},
   "outputs": [],
   "source": []
  }
 ],
 "metadata": {
  "kernelspec": {
   "display_name": "Python 3",
   "language": "python",
   "name": "python3"
  },
  "language_info": {
   "codemirror_mode": {
    "name": "ipython",
    "version": 3
   },
   "file_extension": ".py",
   "mimetype": "text/x-python",
   "name": "python",
   "nbconvert_exporter": "python",
   "pygments_lexer": "ipython3",
   "version": "3.7.6"
  }
 },
 "nbformat": 4,
 "nbformat_minor": 4
}
