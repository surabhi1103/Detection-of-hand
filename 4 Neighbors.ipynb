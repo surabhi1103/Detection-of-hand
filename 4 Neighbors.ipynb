{
 "cells": [
  {
   "cell_type": "markdown",
   "metadata": {},
   "source": [
    "First consider an image "
   ]
  },
  {
   "cell_type": "code",
   "execution_count": 2,
   "metadata": {},
   "outputs": [],
   "source": [
    "import time"
   ]
  },
  {
   "cell_type": "code",
   "execution_count": 3,
   "metadata": {},
   "outputs": [],
   "source": [
    "from PIL import Image\n",
    "import numpy as np"
   ]
  },
  {
   "cell_type": "markdown",
   "metadata": {},
   "source": [
    "First considering the images I will consider in my training set"
   ]
  },
  {
   "cell_type": "code",
   "execution_count": 4,
   "metadata": {},
   "outputs": [],
   "source": [
    "img_2=Image.open(r\"C:\\Users\\Surabhi\\OneDrive\\Pictures\\Images and Masks\\Image 2_contrast.jpg\")\n",
    "img_3=Image.open(r\"C:\\Users\\Surabhi\\OneDrive\\Pictures\\Images and Masks\\Image 3_contrast.jpg\")\n",
    "img_4=Image.open(r\"C:\\Users\\Surabhi\\OneDrive\\Pictures\\Images and Masks\\Image 4_contrast.jpg\")\n",
    "img_5=Image.open(r\"C:\\Users\\Surabhi\\OneDrive\\Pictures\\Images and Masks\\Image 5_contrast.jpg\")\n",
    "img_6=Image.open(r\"C:\\Users\\Surabhi\\OneDrive\\Pictures\\Images and Masks\\Image 6_contrast.jpg\")\n",
    "img_7=Image.open(r\"C:\\Users\\Surabhi\\OneDrive\\Pictures\\Images and Masks\\Image 7_contrast.jpg\")\n",
    "img_8=Image.open(r\"C:\\Users\\Surabhi\\OneDrive\\Pictures\\Images and Masks\\Image 8_contrast.jpg\")\n",
    "img_9=Image.open(r\"C:\\Users\\Surabhi\\OneDrive\\Pictures\\Images and Masks\\Image 9_contrast.jpg\")\n"
   ]
  },
  {
   "cell_type": "code",
   "execution_count": 5,
   "metadata": {},
   "outputs": [],
   "source": [
    "pixel_values_2 = list(img_2.getdata())\n",
    "pixel_values_3 = list(img_3.getdata())\n",
    "pixel_values_4 = list(img_4.getdata())\n",
    "pixel_values_5= list(img_5.getdata())\n",
    "pixel_values_6 = list(img_6.getdata())\n",
    "pixel_values_7 = list(img_7.getdata())\n",
    "pixel_values_8 = list(img_8.getdata())\n",
    "pixel_values_9 = list(img_9.getdata())\n"
   ]
  },
  {
   "cell_type": "code",
   "execution_count": 6,
   "metadata": {},
   "outputs": [],
   "source": [
    "\n",
    "pixel_values_2 = np.array(pixel_values_2).reshape((128,128, 3))\n",
    "pixel_values_3 = np.array(pixel_values_3).reshape((128,128, 3))\n",
    "pixel_values_4 = np.array(pixel_values_4).reshape((128,128, 3))\n",
    "pixel_values_5 = np.array(pixel_values_5).reshape((128,128, 3))\n",
    "pixel_values_6 = np.array(pixel_values_6).reshape((128,128, 3))\n",
    "pixel_values_7 = np.array(pixel_values_7).reshape((128,128, 3))\n",
    "pixel_values_8 = np.array(pixel_values_8).reshape((128,128, 3))\n",
    "pixel_values_9 = np.array(pixel_values_9).reshape((128,128, 3))"
   ]
  },
  {
   "cell_type": "code",
   "execution_count": 7,
   "metadata": {},
   "outputs": [
    {
     "data": {
      "text/plain": [
       "array([[[140,  29, 160],\n",
       "        [136,  25, 156],\n",
       "        [132,  20, 156],\n",
       "        ...,\n",
       "        [ 83,   0,  90],\n",
       "        [ 79,   0,  86],\n",
       "        [ 73,   0,  80]],\n",
       "\n",
       "       [[121,  10, 141],\n",
       "        [124,  12, 146],\n",
       "        [129,  17, 153],\n",
       "        ...,\n",
       "        [ 86,   3,  93],\n",
       "        [ 83,   0,  90],\n",
       "        [ 78,   0,  85]],\n",
       "\n",
       "       [[118,   6, 140],\n",
       "        [131,  19, 153],\n",
       "        [145,  33, 169],\n",
       "        ...,\n",
       "        [ 85,   2,  90],\n",
       "        [ 82,   0,  87],\n",
       "        [ 77,   0,  82]],\n",
       "\n",
       "       ...,\n",
       "\n",
       "       [[ 32,  15,  21],\n",
       "        [131, 114, 120],\n",
       "        [199, 182, 190],\n",
       "        ...,\n",
       "        [  0,   0,   0],\n",
       "        [  0,   0,   0],\n",
       "        [  0,   0,   0]],\n",
       "\n",
       "       [[ 16,   0,   1],\n",
       "        [ 85,  66,  72],\n",
       "        [168, 151, 159],\n",
       "        ...,\n",
       "        [  0,   0,   0],\n",
       "        [  0,   0,   0],\n",
       "        [  0,   0,   0]],\n",
       "\n",
       "       [[ 13,   0,   0],\n",
       "        [ 53,  34,  38],\n",
       "        [142, 125, 133],\n",
       "        ...,\n",
       "        [  0,   0,   0],\n",
       "        [  0,   0,   0],\n",
       "        [  0,   0,   0]]])"
      ]
     },
     "execution_count": 7,
     "metadata": {},
     "output_type": "execute_result"
    }
   ],
   "source": [
    "pixel_values_2"
   ]
  },
  {
   "cell_type": "code",
   "execution_count": 8,
   "metadata": {},
   "outputs": [],
   "source": [
    "\n",
    "x= pixel_values_2[1,1,0:3]\n",
    "x=np.hstack((x,pixel_values_2[0,1,0:3]))\n",
    "\n",
    "x=np.hstack((x,pixel_values_2[1,2,0:3]))\n",
    "\n",
    "x=np.hstack((x,pixel_values_2[2,1,0:3]))\n",
    "\n",
    "x=np.hstack((x,pixel_values_2[1,0,0:3]))\n",
    "data=np.array(x)"
   ]
  },
  {
   "cell_type": "code",
   "execution_count": 9,
   "metadata": {},
   "outputs": [
    {
     "data": {
      "text/plain": [
       "array([124,  12, 146, 136,  25, 156, 129,  17, 153, 131,  19, 153, 121,\n",
       "        10, 141])"
      ]
     },
     "execution_count": 9,
     "metadata": {},
     "output_type": "execute_result"
    }
   ],
   "source": [
    "data"
   ]
  },
  {
   "cell_type": "code",
   "execution_count": 10,
   "metadata": {},
   "outputs": [
    {
     "data": {
      "text/plain": [
       "array([124,  12, 146, 136,  25, 156, 129,  17, 153, 131,  19, 153, 121,\n",
       "        10, 141])"
      ]
     },
     "execution_count": 10,
     "metadata": {},
     "output_type": "execute_result"
    }
   ],
   "source": [
    "x"
   ]
  },
  {
   "cell_type": "code",
   "execution_count": 11,
   "metadata": {},
   "outputs": [],
   "source": [
    "for i in range(1,127):\n",
    "    for j in range(1,127):\n",
    "        x= pixel_values_2[i,j,0:3]\n",
    "        x=np.hstack((x,pixel_values_2[i-1,j,0:3]))\n",
    "        \n",
    "        x=np.hstack((x,pixel_values_2[i,j+1,0:3]))\n",
    "       \n",
    "        \n",
    "        x=np.hstack((x,pixel_values_2[i+1,j,0:3]))\n",
    "        \n",
    "        x=np.hstack((x,pixel_values_2[i,j-1,0:3]))\n",
    "        data=np.vstack((data,x))\n",
    "        \n",
    "        "
   ]
  },
  {
   "cell_type": "code",
   "execution_count": 12,
   "metadata": {},
   "outputs": [
    {
     "data": {
      "text/plain": [
       "array([[124,  12, 146, ..., 121,  10, 141],\n",
       "       [124,  12, 146, ..., 121,  10, 141],\n",
       "       [129,  17, 153, ..., 124,  12, 146],\n",
       "       ...,\n",
       "       [  0,   0,   0, ...,   0,   0,   0],\n",
       "       [  0,   0,   0, ...,   0,   0,   0],\n",
       "       [  0,   0,   0, ...,   0,   0,   0]])"
      ]
     },
     "execution_count": 12,
     "metadata": {},
     "output_type": "execute_result"
    }
   ],
   "source": [
    "data"
   ]
  },
  {
   "cell_type": "code",
   "execution_count": 13,
   "metadata": {},
   "outputs": [],
   "source": [
    "for i in range(1,127):\n",
    "    for j in range(1,127):\n",
    "        x= pixel_values_3[i,j,0:3]\n",
    "        x=np.hstack((x,pixel_values_3[i-1,j,0:3]))\n",
    "       \n",
    "        x=np.hstack((x,pixel_values_3[i,j+1,0:3]))\n",
    "       \n",
    "        x=np.hstack((x,pixel_values_3[i+1,j,0:3]))\n",
    "       \n",
    "        x=np.hstack((x,pixel_values_3[i,j-1,0:3]))\n",
    "        data=np.vstack((data,x))\n",
    "       "
   ]
  },
  {
   "cell_type": "code",
   "execution_count": 14,
   "metadata": {},
   "outputs": [
    {
     "data": {
      "text/plain": [
       "array([[124,  12, 146, ..., 121,  10, 141],\n",
       "       [124,  12, 146, ..., 121,  10, 141],\n",
       "       [129,  17, 153, ..., 124,  12, 146],\n",
       "       ...,\n",
       "       [ 12,   2,   1, ...,  28,  18,  16],\n",
       "       [  6,   0,   0, ...,  12,   2,   1],\n",
       "       [  9,   0,   1, ...,   6,   0,   0]])"
      ]
     },
     "execution_count": 14,
     "metadata": {},
     "output_type": "execute_result"
    }
   ],
   "source": [
    "data"
   ]
  },
  {
   "cell_type": "code",
   "execution_count": 15,
   "metadata": {},
   "outputs": [],
   "source": [
    "for i in range(1,127):\n",
    "    for j in range(1,127):\n",
    "        x= pixel_values_4[i,j,0:3]\n",
    "        x=np.hstack((x,pixel_values_4[i-1,j,0:3]))\n",
    "        \n",
    "        x=np.hstack((x,pixel_values_4[i,j+1,0:3]))\n",
    "       \n",
    "        x=np.hstack((x,pixel_values_4[i+1,j,0:3]))\n",
    "        \n",
    "        x=np.hstack((x,pixel_values_4[i,j-1,0:3]))\n",
    "        data=np.vstack((data,x))\n",
    "       "
   ]
  },
  {
   "cell_type": "code",
   "execution_count": 16,
   "metadata": {},
   "outputs": [],
   "source": [
    "for i in range(1,127):\n",
    "    for j in range(1,127):\n",
    "        x= pixel_values_5[i,j,0:3]\n",
    "        x=np.hstack((x,pixel_values_5[i-1,j,0:3]))\n",
    "        \n",
    "        x=np.hstack((x,pixel_values_5[i,j+1,0:3]))\n",
    "        \n",
    "        x=np.hstack((x,pixel_values_5[i+1,j,0:3]))\n",
    "        \n",
    "        x=np.hstack((x,pixel_values_5[i,j-1,0:3]))\n",
    "        data=np.vstack((data,x))\n",
    "        "
   ]
  },
  {
   "cell_type": "code",
   "execution_count": 17,
   "metadata": {},
   "outputs": [],
   "source": [
    "for i in range(1,127):\n",
    "    for j in range(1,127):\n",
    "        x= pixel_values_6[i,j,0:3]\n",
    "        x=np.hstack((x,pixel_values_6[i-1,j,0:3]))\n",
    "        \n",
    "        x=np.hstack((x,pixel_values_6[i,j+1,0:3]))\n",
    "        \n",
    "        x=np.hstack((x,pixel_values_6[i+1,j,0:3]))\n",
    "        \n",
    "        x=np.hstack((x,pixel_values_6[i,j-1,0:3]))\n",
    "        data=np.vstack((data,x))\n",
    "        "
   ]
  },
  {
   "cell_type": "code",
   "execution_count": 18,
   "metadata": {},
   "outputs": [],
   "source": [
    "for i in range(1,127):\n",
    "    for j in range(1,127):\n",
    "        x= pixel_values_7[i,j,0:3]\n",
    "        x=np.hstack((x,pixel_values_7[i-1,j,0:3]))\n",
    "        \n",
    "        x=np.hstack((x,pixel_values_7[i,j+1,0:3]))\n",
    "       \n",
    "        x=np.hstack((x,pixel_values_7[i+1,j,0:3]))\n",
    "        \n",
    "        x=np.hstack((x,pixel_values_7[i,j-1,0:3]))\n",
    "        data=np.vstack((data,x))\n",
    "        "
   ]
  },
  {
   "cell_type": "code",
   "execution_count": 19,
   "metadata": {},
   "outputs": [],
   "source": [
    "for i in range(1,127):\n",
    "    for j in range(1,127):\n",
    "        x= pixel_values_8[i,j,0:3]\n",
    "        x=np.hstack((x,pixel_values_8[i-1,j,0:3]))\n",
    "        \n",
    "        x=np.hstack((x,pixel_values_8[i,j+1,0:3]))\n",
    "        \n",
    "        x=np.hstack((x,pixel_values_8[i+1,j,0:3]))\n",
    "        \n",
    "        x=np.hstack((x,pixel_values_8[i,j-1,0:3]))\n",
    "        data=np.vstack((data,x))\n",
    "        "
   ]
  },
  {
   "cell_type": "code",
   "execution_count": 20,
   "metadata": {},
   "outputs": [],
   "source": [
    "for i in range(1,127):\n",
    "    for j in range(1,127):\n",
    "        x= pixel_values_9[i,j,0:3]\n",
    "        x=np.hstack((x,pixel_values_9[i-1,j,0:3]))\n",
    "        \n",
    "        x=np.hstack((x,pixel_values_9[i,j+1,0:3]))\n",
    "        \n",
    "        x=np.hstack((x,pixel_values_9[i+1,j,0:3]))\n",
    "        \n",
    "        x=np.hstack((x,pixel_values_9[i,j-1,0:3]))\n",
    "        data=np.vstack((data,x))\n",
    "       "
   ]
  },
  {
   "cell_type": "code",
   "execution_count": 21,
   "metadata": {},
   "outputs": [
    {
     "data": {
      "text/plain": [
       "array([[124,  12, 146, ..., 121,  10, 141],\n",
       "       [124,  12, 146, ..., 121,  10, 141],\n",
       "       [129,  17, 153, ..., 124,  12, 146],\n",
       "       ...,\n",
       "       [ 68,  66,  53, ...,  76,  74,  61],\n",
       "       [ 62,  60,  47, ...,  68,  66,  53],\n",
       "       [ 62,  60,  47, ...,  62,  60,  47]])"
      ]
     },
     "execution_count": 21,
     "metadata": {},
     "output_type": "execute_result"
    }
   ],
   "source": [
    "data"
   ]
  },
  {
   "cell_type": "code",
   "execution_count": 22,
   "metadata": {},
   "outputs": [],
   "source": [
    "data=np.delete(data,0,axis=0)"
   ]
  },
  {
   "cell_type": "code",
   "execution_count": 23,
   "metadata": {},
   "outputs": [
    {
     "data": {
      "text/plain": [
       "(127008, 15)"
      ]
     },
     "execution_count": 23,
     "metadata": {},
     "output_type": "execute_result"
    }
   ],
   "source": [
    "np.shape(data)"
   ]
  },
  {
   "cell_type": "code",
   "execution_count": 24,
   "metadata": {},
   "outputs": [],
   "source": [
    "mask_2=Image.open(r\"C:\\Users\\Surabhi\\OneDrive\\Pictures\\Images and Masks\\Image 2.png\")\n",
    "mask_3=Image.open(r\"C:\\Users\\Surabhi\\OneDrive\\Pictures\\Images and Masks\\Image 3.png\")\n",
    "mask_4=Image.open(r\"C:\\Users\\Surabhi\\OneDrive\\Pictures\\Images and Masks\\Image 4.png\")\n",
    "mask_5=Image.open(r\"C:\\Users\\Surabhi\\OneDrive\\Pictures\\Images and Masks\\Image 5.png\")\n",
    "mask_6=Image.open(r\"C:\\Users\\Surabhi\\OneDrive\\Pictures\\Images and Masks\\Image 6.png\")\n",
    "mask_7=Image.open(r\"C:\\Users\\Surabhi\\OneDrive\\Pictures\\Images and Masks\\Image 7.png\")\n",
    "mask_8=Image.open(r\"C:\\Users\\Surabhi\\OneDrive\\Pictures\\Images and Masks\\Image 8.png\")\n",
    "mask_9=Image.open(r\"C:\\Users\\Surabhi\\OneDrive\\Pictures\\Images and Masks\\Image 9.png\")\n"
   ]
  },
  {
   "cell_type": "code",
   "execution_count": 25,
   "metadata": {},
   "outputs": [],
   "source": [
    "pixel_2 = list(mask_2.getdata())\n",
    "pixel_3 = list(mask_3.getdata())\n",
    "pixel_4 = list(mask_4.getdata())\n",
    "pixel_5 = list(mask_5.getdata())\n",
    "pixel_6 = list(mask_6.getdata())\n",
    "pixel_7 = list(mask_7.getdata())\n",
    "pixel_8 = list(mask_8.getdata())\n",
    "pixel_9 = list(mask_9.getdata())"
   ]
  },
  {
   "cell_type": "code",
   "execution_count": 26,
   "metadata": {},
   "outputs": [],
   "source": [
    "pixel_2 = np.array(pixel_2).reshape((128*128, 4))\n",
    "pixel_3 = np.array(pixel_3).reshape((128*128, 4))\n",
    "pixel_4 = np.array(pixel_4).reshape((128*128, 4))\n",
    "pixel_5 = np.array(pixel_5).reshape((128*128, 4))\n",
    "pixel_6 = np.array(pixel_6).reshape((128*128, 4))\n",
    "pixel_7 = np.array(pixel_7).reshape((128*128, 4))\n",
    "pixel_8 = np.array(pixel_8).reshape((128*128, 4))\n",
    "pixel_9 = np.array(pixel_9).reshape((128*128, 4))"
   ]
  },
  {
   "cell_type": "code",
   "execution_count": 27,
   "metadata": {},
   "outputs": [],
   "source": [
    "y_2=pixel_2[:,0].reshape(128,128)\n",
    "y_3=pixel_3[:,0].reshape(128,128)\n",
    "y_4=pixel_4[:,0].reshape(128,128)\n",
    "y_5=pixel_5[:,0].reshape(128,128)\n",
    "y_6=pixel_6[:,0].reshape(128,128)\n",
    "y_7=pixel_7[:,0].reshape(128,128)\n",
    "y_8=pixel_8[:,0].reshape(128,128)\n",
    "y_9=pixel_9[:,0].reshape(128,128)"
   ]
  },
  {
   "cell_type": "code",
   "execution_count": 28,
   "metadata": {},
   "outputs": [
    {
     "data": {
      "text/plain": [
       "array([[  0,   0,   0, ...,   0,   0,   0],\n",
       "       [  0,   0,   0, ...,   0,   0,   0],\n",
       "       [  0,   0,   0, ...,   0,   0,   0],\n",
       "       ...,\n",
       "       [255, 255, 255, ...,   0,   0,   0],\n",
       "       [255, 255, 255, ...,   0,   0,   0],\n",
       "       [255, 255, 255, ...,   0,   0,   0]])"
      ]
     },
     "execution_count": 28,
     "metadata": {},
     "output_type": "execute_result"
    }
   ],
   "source": [
    "y_2"
   ]
  },
  {
   "cell_type": "code",
   "execution_count": 29,
   "metadata": {},
   "outputs": [],
   "source": [
    "y_2=np.delete(y_2,[0,127],axis=0)\n",
    "y_2=np.delete(y_2,[0,127],axis=1)\n",
    "y_3=np.delete(y_3,[0,127],axis=0)\n",
    "y_3=np.delete(y_3,[0,127],axis=1)\n",
    "y_4=np.delete(y_4,[0,127],axis=0)\n",
    "y_4=np.delete(y_4,[0,127],axis=1)\n",
    "y_5=np.delete(y_5,[0,127],axis=0)\n",
    "y_5=np.delete(y_5,[0,127],axis=1)\n",
    "y_6=np.delete(y_6,[0,127],axis=0)\n",
    "y_6=np.delete(y_6,[0,127],axis=1)\n",
    "y_7=np.delete(y_7,[0,127],axis=0)\n",
    "y_7=np.delete(y_7,[0,127],axis=1)\n",
    "y_8=np.delete(y_8,[0,127],axis=0)\n",
    "y_8=np.delete(y_8,[0,127],axis=1)\n",
    "y_9=np.delete(y_9,[0,127],axis=0)\n",
    "y_9=np.delete(y_9,[0,127],axis=1)"
   ]
  },
  {
   "cell_type": "code",
   "execution_count": 30,
   "metadata": {},
   "outputs": [],
   "source": [
    "y_2=y_2.reshape(15876,)\n",
    "y_3=y_3.reshape(15876,)\n",
    "y_4=y_4.reshape(15876,)\n",
    "y_5=y_5.reshape(15876,)\n",
    "y_6=y_6.reshape(15876,)\n",
    "y_7=y_7.reshape(15876,)\n",
    "y_8=y_8.reshape(15876,)\n",
    "y_9=y_9.reshape(15876,)"
   ]
  },
  {
   "cell_type": "code",
   "execution_count": 31,
   "metadata": {},
   "outputs": [],
   "source": [
    "import itertools"
   ]
  },
  {
   "cell_type": "code",
   "execution_count": 32,
   "metadata": {},
   "outputs": [],
   "source": [
    "y = list(itertools.chain(y_2,y_3,y_4,y_5,y_6,y_7,y_8,y_9))"
   ]
  },
  {
   "cell_type": "code",
   "execution_count": 33,
   "metadata": {},
   "outputs": [],
   "source": [
    "y = np.array(y).reshape(127008, )"
   ]
  },
  {
   "cell_type": "code",
   "execution_count": 34,
   "metadata": {},
   "outputs": [
    {
     "data": {
      "text/plain": [
       "array([0, 0, 0, ..., 0, 0, 0])"
      ]
     },
     "execution_count": 34,
     "metadata": {},
     "output_type": "execute_result"
    }
   ],
   "source": [
    "y"
   ]
  },
  {
   "cell_type": "code",
   "execution_count": 35,
   "metadata": {},
   "outputs": [],
   "source": [
    "y=y//255"
   ]
  },
  {
   "cell_type": "code",
   "execution_count": 36,
   "metadata": {},
   "outputs": [
    {
     "data": {
      "text/plain": [
       "array([0, 0, 0, ..., 0, 0, 0], dtype=int32)"
      ]
     },
     "execution_count": 36,
     "metadata": {},
     "output_type": "execute_result"
    }
   ],
   "source": [
    "y"
   ]
  },
  {
   "cell_type": "code",
   "execution_count": 37,
   "metadata": {},
   "outputs": [],
   "source": [
    "import tensorflow as tf"
   ]
  },
  {
   "cell_type": "code",
   "execution_count": 38,
   "metadata": {},
   "outputs": [],
   "source": [
    "X=data"
   ]
  },
  {
   "cell_type": "code",
   "execution_count": 39,
   "metadata": {},
   "outputs": [
    {
     "data": {
      "text/plain": [
       "(127008, 15)"
      ]
     },
     "execution_count": 39,
     "metadata": {},
     "output_type": "execute_result"
    }
   ],
   "source": [
    "np.shape(data)"
   ]
  },
  {
   "cell_type": "code",
   "execution_count": 40,
   "metadata": {},
   "outputs": [
    {
     "data": {
      "text/plain": [
       "(127008, 15)"
      ]
     },
     "execution_count": 40,
     "metadata": {},
     "output_type": "execute_result"
    }
   ],
   "source": [
    "np.shape(X)"
   ]
  },
  {
   "cell_type": "code",
   "execution_count": 41,
   "metadata": {},
   "outputs": [],
   "source": [
    "from sklearn.model_selection import train_test_split\n",
    "X_train, X_val, y_train, y_val = train_test_split(X, y, test_size = 0.1, random_state = 0)"
   ]
  },
  {
   "cell_type": "code",
   "execution_count": 42,
   "metadata": {},
   "outputs": [],
   "source": [
    "from sklearn.preprocessing import StandardScaler\n",
    "sc = StandardScaler()\n",
    "X_train = sc.fit_transform(X_train)\n",
    "X_val = sc.transform(X_val)"
   ]
  },
  {
   "cell_type": "code",
   "execution_count": 43,
   "metadata": {},
   "outputs": [],
   "source": [
    "ann = tf.keras.models.Sequential()\n",
    "ann.add(tf.keras.layers.Dense(units=15, activation='relu'))\n",
    "ann.add(tf.keras.layers.Dense(units=60, activation='relu'))\n",
    "ann.add(tf.keras.layers.Dense(units=1, activation='sigmoid'))"
   ]
  },
  {
   "cell_type": "code",
   "execution_count": 44,
   "metadata": {},
   "outputs": [],
   "source": [
    "ann.compile(optimizer = 'adam', loss = 'binary_crossentropy', metrics = ['accuracy'])"
   ]
  },
  {
   "cell_type": "code",
   "execution_count": 45,
   "metadata": {},
   "outputs": [],
   "source": [
    "start_time = time.time()\n",
    "\n"
   ]
  },
  {
   "cell_type": "code",
   "execution_count": 46,
   "metadata": {},
   "outputs": [
    {
     "name": "stdout",
     "output_type": "stream",
     "text": [
      "Epoch 1/50\n",
      "3573/3573 [==============================] - 8s 2ms/step - loss: 0.3304 - accuracy: 0.8629 - val_loss: 0.2284 - val_accuracy: 0.9141\n",
      "Epoch 2/50\n",
      "3573/3573 [==============================] - 8s 2ms/step - loss: 0.2246 - accuracy: 0.9128 - val_loss: 0.2214 - val_accuracy: 0.9128\n",
      "Epoch 3/50\n",
      "3573/3573 [==============================] - 7s 2ms/step - loss: 0.2154 - accuracy: 0.9157 - val_loss: 0.2084 - val_accuracy: 0.9187\n",
      "Epoch 4/50\n",
      "3573/3573 [==============================] - 7s 2ms/step - loss: 0.2094 - accuracy: 0.9174 - val_loss: 0.2030 - val_accuracy: 0.9226\n",
      "Epoch 5/50\n",
      "3573/3573 [==============================] - 6s 2ms/step - loss: 0.2039 - accuracy: 0.9195 - val_loss: 0.2043 - val_accuracy: 0.9176\n",
      "Epoch 6/50\n",
      "3573/3573 [==============================] - 6s 2ms/step - loss: 0.2031 - accuracy: 0.9203 - val_loss: 0.2042 - val_accuracy: 0.9192\n",
      "Epoch 7/50\n",
      "3573/3573 [==============================] - 6s 2ms/step - loss: 0.2006 - accuracy: 0.9213 - val_loss: 0.2065 - val_accuracy: 0.9221\n",
      "Epoch 8/50\n",
      "3573/3573 [==============================] - 6s 2ms/step - loss: 0.1987 - accuracy: 0.9226 - val_loss: 0.1965 - val_accuracy: 0.9250\n",
      "Epoch 9/50\n",
      "3573/3573 [==============================] - 6s 2ms/step - loss: 0.1986 - accuracy: 0.9223 - val_loss: 0.1950 - val_accuracy: 0.9269\n",
      "Epoch 10/50\n",
      "3573/3573 [==============================] - 6s 2ms/step - loss: 0.1929 - accuracy: 0.9244 - val_loss: 0.1967 - val_accuracy: 0.9258\n",
      "Epoch 11/50\n",
      "3573/3573 [==============================] - 6s 2ms/step - loss: 0.1953 - accuracy: 0.9233 - val_loss: 0.1914 - val_accuracy: 0.9241\n",
      "Epoch 12/50\n",
      "3573/3573 [==============================] - 6s 2ms/step - loss: 0.1931 - accuracy: 0.9239 - val_loss: 0.1944 - val_accuracy: 0.9241\n",
      "Epoch 13/50\n",
      "3573/3573 [==============================] - 6s 2ms/step - loss: 0.1876 - accuracy: 0.9271 - val_loss: 0.1901 - val_accuracy: 0.9260\n",
      "Epoch 14/50\n",
      "3573/3573 [==============================] - 6s 2ms/step - loss: 0.1922 - accuracy: 0.9250 - val_loss: 0.1887 - val_accuracy: 0.9262\n",
      "Epoch 15/50\n",
      "3573/3573 [==============================] - 6s 2ms/step - loss: 0.1884 - accuracy: 0.9263 - val_loss: 0.1874 - val_accuracy: 0.9284\n",
      "Epoch 16/50\n",
      "3573/3573 [==============================] - 6s 2ms/step - loss: 0.1878 - accuracy: 0.9261 - val_loss: 0.1858 - val_accuracy: 0.9283\n",
      "Epoch 17/50\n",
      "3573/3573 [==============================] - 6s 2ms/step - loss: 0.1890 - accuracy: 0.9265 - val_loss: 0.1859 - val_accuracy: 0.9287\n",
      "Epoch 18/50\n",
      "3573/3573 [==============================] - 6s 2ms/step - loss: 0.1847 - accuracy: 0.9281 - val_loss: 0.1888 - val_accuracy: 0.9256\n",
      "Epoch 19/50\n",
      "3573/3573 [==============================] - 7s 2ms/step - loss: 0.1840 - accuracy: 0.9288 - val_loss: 0.1996 - val_accuracy: 0.9253\n",
      "Epoch 20/50\n",
      "3573/3573 [==============================] - 8s 2ms/step - loss: 0.1850 - accuracy: 0.9271 - val_loss: 0.1866 - val_accuracy: 0.9293\n",
      "Epoch 21/50\n",
      "3573/3573 [==============================] - 6s 2ms/step - loss: 0.1803 - accuracy: 0.9292 - val_loss: 0.1852 - val_accuracy: 0.9293\n",
      "Epoch 22/50\n",
      "3573/3573 [==============================] - 6s 2ms/step - loss: 0.1829 - accuracy: 0.9292 - val_loss: 0.1798 - val_accuracy: 0.9300\n",
      "Epoch 23/50\n",
      "3573/3573 [==============================] - 6s 2ms/step - loss: 0.1831 - accuracy: 0.9278 - val_loss: 0.1811 - val_accuracy: 0.9312\n",
      "Epoch 24/50\n",
      "3573/3573 [==============================] - 6s 2ms/step - loss: 0.1827 - accuracy: 0.9287 - val_loss: 0.1909 - val_accuracy: 0.9228\n",
      "Epoch 25/50\n",
      "3573/3573 [==============================] - 6s 2ms/step - loss: 0.1804 - accuracy: 0.9295 - val_loss: 0.1804 - val_accuracy: 0.9298\n",
      "Epoch 26/50\n",
      "3573/3573 [==============================] - 6s 2ms/step - loss: 0.1771 - accuracy: 0.9311 - val_loss: 0.1952 - val_accuracy: 0.9239\n",
      "Epoch 27/50\n",
      "3573/3573 [==============================] - 6s 2ms/step - loss: 0.1780 - accuracy: 0.9306 - val_loss: 0.1823 - val_accuracy: 0.9300\n",
      "Epoch 28/50\n",
      "3573/3573 [==============================] - 6s 2ms/step - loss: 0.1778 - accuracy: 0.9305 - val_loss: 0.1806 - val_accuracy: 0.9311\n",
      "Epoch 29/50\n",
      "3573/3573 [==============================] - 6s 2ms/step - loss: 0.1793 - accuracy: 0.9302 - val_loss: 0.1799 - val_accuracy: 0.9298\n",
      "Epoch 30/50\n",
      "3573/3573 [==============================] - 6s 2ms/step - loss: 0.1751 - accuracy: 0.9310 - val_loss: 0.1770 - val_accuracy: 0.9320\n",
      "Epoch 31/50\n",
      "3573/3573 [==============================] - 6s 2ms/step - loss: 0.1750 - accuracy: 0.9321 - val_loss: 0.1840 - val_accuracy: 0.9285\n",
      "Epoch 32/50\n",
      "3573/3573 [==============================] - 6s 2ms/step - loss: 0.1765 - accuracy: 0.9310 - val_loss: 0.1777 - val_accuracy: 0.9323\n",
      "Epoch 33/50\n",
      "3573/3573 [==============================] - 6s 2ms/step - loss: 0.1761 - accuracy: 0.9309 - val_loss: 0.1799 - val_accuracy: 0.9282\n",
      "Epoch 34/50\n",
      "3573/3573 [==============================] - 6s 2ms/step - loss: 0.1751 - accuracy: 0.9318 - val_loss: 0.1839 - val_accuracy: 0.9271\n",
      "Epoch 35/50\n",
      "3573/3573 [==============================] - 6s 2ms/step - loss: 0.1754 - accuracy: 0.9310 - val_loss: 0.1747 - val_accuracy: 0.9333\n",
      "Epoch 36/50\n",
      "3573/3573 [==============================] - 6s 2ms/step - loss: 0.1726 - accuracy: 0.9323 - val_loss: 0.1753 - val_accuracy: 0.9350\n",
      "Epoch 37/50\n",
      "3573/3573 [==============================] - 6s 2ms/step - loss: 0.1736 - accuracy: 0.9320 - val_loss: 0.1763 - val_accuracy: 0.9328\n",
      "Epoch 38/50\n",
      "3573/3573 [==============================] - 6s 2ms/step - loss: 0.1746 - accuracy: 0.9309 - val_loss: 0.1758 - val_accuracy: 0.9321\n",
      "Epoch 39/50\n",
      "3573/3573 [==============================] - 6s 2ms/step - loss: 0.1739 - accuracy: 0.9318 - val_loss: 0.1757 - val_accuracy: 0.9332\n",
      "Epoch 40/50\n",
      "3573/3573 [==============================] - 6s 2ms/step - loss: 0.1721 - accuracy: 0.9331 - val_loss: 0.1773 - val_accuracy: 0.9324\n",
      "Epoch 41/50\n",
      "3573/3573 [==============================] - 9s 2ms/step - loss: 0.1714 - accuracy: 0.9331 - val_loss: 0.1796 - val_accuracy: 0.9287\n",
      "Epoch 42/50\n",
      "3573/3573 [==============================] - 8s 2ms/step - loss: 0.1720 - accuracy: 0.9332 - val_loss: 0.1738 - val_accuracy: 0.9339\n",
      "Epoch 43/50\n",
      "3573/3573 [==============================] - 8s 2ms/step - loss: 0.1722 - accuracy: 0.9325 - val_loss: 0.1770 - val_accuracy: 0.9335\n",
      "Epoch 44/50\n",
      "3573/3573 [==============================] - 9s 2ms/step - loss: 0.1702 - accuracy: 0.9340 - val_loss: 0.1760 - val_accuracy: 0.9328\n",
      "Epoch 45/50\n",
      "3573/3573 [==============================] - 9s 2ms/step - loss: 0.1701 - accuracy: 0.9341 - val_loss: 0.1716 - val_accuracy: 0.9332\n",
      "Epoch 46/50\n",
      "3573/3573 [==============================] - 9s 3ms/step - loss: 0.1691 - accuracy: 0.9337 - val_loss: 0.1748 - val_accuracy: 0.9321\n",
      "Epoch 47/50\n",
      "3573/3573 [==============================] - 10s 3ms/step - loss: 0.1722 - accuracy: 0.9330 - val_loss: 0.1824 - val_accuracy: 0.9302\n",
      "Epoch 48/50\n",
      "3573/3573 [==============================] - 10s 3ms/step - loss: 0.1662 - accuracy: 0.9361 - val_loss: 0.1737 - val_accuracy: 0.9332\n",
      "Epoch 49/50\n",
      "3573/3573 [==============================] - 10s 3ms/step - loss: 0.1696 - accuracy: 0.9342 - val_loss: 0.1740 - val_accuracy: 0.9332\n",
      "Epoch 50/50\n",
      "3573/3573 [==============================] - 10s 3ms/step - loss: 0.1662 - accuracy: 0.9347 - val_loss: 0.1723 - val_accuracy: 0.9335\n"
     ]
    }
   ],
   "source": [
    "model_fit=ann.fit(X_train, y_train, batch_size = 32, epochs = 50,validation_data=(X_val,y_val))"
   ]
  },
  {
   "cell_type": "code",
   "execution_count": 47,
   "metadata": {},
   "outputs": [
    {
     "name": "stdout",
     "output_type": "stream",
     "text": [
      "343.6718900203705\n"
     ]
    }
   ],
   "source": [
    "print(time.time()-start_time)"
   ]
  },
  {
   "cell_type": "code",
   "execution_count": 49,
   "metadata": {},
   "outputs": [],
   "source": [
    "import matplotlib.pyplot as plt"
   ]
  },
  {
   "cell_type": "code",
   "execution_count": 50,
   "metadata": {},
   "outputs": [
    {
     "data": {
      "image/png": "[encoded data removed]",
      "text/plain": [
       "<Figure size 432x288 with 1 Axes>"
      ]
     },
     "metadata": {
      "needs_background": "light"
     },
     "output_type": "display_data"
    }
   ],
   "source": [
    "loss_train =model_fit.history['accuracy']\n",
    "loss_val = model_fit.history['val_accuracy']\n",
    "epochs = range(1,51)\n",
    "\n",
    "plt.plot(epochs, loss_train, 'g', label='Training accuracy')\n",
    "plt.plot(epochs, loss_val, 'b', label='validation accuracy')\n",
    "plt.title('Training and Validation accuracy')\n",
    "plt.xlabel('Epochs')\n",
    "plt.ylabel('Accuracy')\n",
    "plt.legend()\n",
    "plt.show()"
   ]
  },
  {
   "cell_type": "code",
   "execution_count": 51,
   "metadata": {},
   "outputs": [],
   "source": [
    "test_img_1=Image.open(r\"C:\\Users\\Surabhi\\OneDrive\\Pictures\\Images and Masks\\Image 10_contrast.jpg\")"
   ]
  },
  {
   "cell_type": "code",
   "execution_count": 52,
   "metadata": {},
   "outputs": [],
   "source": [
    "pixel_values_test = list(test_img_1.getdata())"
   ]
  },
  {
   "cell_type": "code",
   "execution_count": 53,
   "metadata": {},
   "outputs": [],
   "source": [
    "pixel_values_test = np.array(pixel_values_test).reshape((128,128, 3))"
   ]
  },
  {
   "cell_type": "code",
   "execution_count": 54,
   "metadata": {},
   "outputs": [],
   "source": [
    "data_test=np.empty((15,))"
   ]
  },
  {
   "cell_type": "code",
   "execution_count": 55,
   "metadata": {},
   "outputs": [
    {
     "data": {
      "text/plain": [
       "array([81.06490908, 84.18516313, 87.84253018, 80.98833288, 84.22075024,\n",
       "       87.9001413 , 81.09430227, 84.22678272, 87.87026606, 81.12575772,\n",
       "       84.13338862, 87.76667729, 81.06918948, 84.16066738, 87.83509848])"
      ]
     },
     "execution_count": 55,
     "metadata": {},
     "output_type": "execute_result"
    }
   ],
   "source": [
    "data_test"
   ]
  },
  {
   "cell_type": "code",
   "execution_count": 56,
   "metadata": {},
   "outputs": [],
   "source": [
    "for i in range(1,127):\n",
    "    for j in range(1,127):\n",
    "        x= pixel_values_test[i,j,0:3]\n",
    "        x=np.hstack((x,pixel_values_test[i-1,j,0:3]))\n",
    "        \n",
    "        x=np.hstack((x,pixel_values_test[i,j+1,0:3]))\n",
    "        \n",
    "        x=np.hstack((x,pixel_values_test[i+1,j,0:3]))\n",
    "        \n",
    "        x=np.hstack((x,pixel_values_test[i,j-1,0:3]))\n",
    "        data_test=np.vstack((data_test,x))"
   ]
  },
  {
   "cell_type": "code",
   "execution_count": 57,
   "metadata": {},
   "outputs": [
    {
     "data": {
      "text/plain": [
       "array([[ 81.06490908,  84.18516313,  87.84253018, ...,  81.06918948,\n",
       "         84.16066738,  87.83509848],\n",
       "       [  9.        , 159.        , 132.        , ...,   3.        ,\n",
       "        166.        , 137.        ],\n",
       "       [  8.        , 136.        , 113.        , ...,   9.        ,\n",
       "        159.        , 132.        ],\n",
       "       ...,\n",
       "       [  4.        , 105.        ,  61.        , ...,  10.        ,\n",
       "         85.        ,  52.        ],\n",
       "       [  0.        , 120.        ,  66.        , ...,   4.        ,\n",
       "        105.        ,  61.        ],\n",
       "       [  0.        , 131.        ,  72.        , ...,   0.        ,\n",
       "        120.        ,  66.        ]])"
      ]
     },
     "execution_count": 57,
     "metadata": {},
     "output_type": "execute_result"
    }
   ],
   "source": [
    "data_test"
   ]
  },
  {
   "cell_type": "code",
   "execution_count": 58,
   "metadata": {},
   "outputs": [],
   "source": [
    "data_test=np.delete(data_test,0,axis=0)"
   ]
  },
  {
   "cell_type": "code",
   "execution_count": 59,
   "metadata": {},
   "outputs": [
    {
     "data": {
      "text/plain": [
       "array([[  9., 159., 132., ...,   3., 166., 137.],\n",
       "       [  8., 136., 113., ...,   9., 159., 132.],\n",
       "       [  0., 103.,  83., ...,   8., 136., 113.],\n",
       "       ...,\n",
       "       [  4., 105.,  61., ...,  10.,  85.,  52.],\n",
       "       [  0., 120.,  66., ...,   4., 105.,  61.],\n",
       "       [  0., 131.,  72., ...,   0., 120.,  66.]])"
      ]
     },
     "execution_count": 59,
     "metadata": {},
     "output_type": "execute_result"
    }
   ],
   "source": [
    "data_test"
   ]
  },
  {
   "cell_type": "code",
   "execution_count": 60,
   "metadata": {},
   "outputs": [
    {
     "data": {
      "text/plain": [
       "(15876, 15)"
      ]
     },
     "execution_count": 60,
     "metadata": {},
     "output_type": "execute_result"
    }
   ],
   "source": [
    "np.shape(data_test)"
   ]
  },
  {
   "cell_type": "code",
   "execution_count": 61,
   "metadata": {},
   "outputs": [],
   "source": [
    "prediction=ann.predict(sc.transform(data_test))\n",
    "final=(prediction>0.5)"
   ]
  },
  {
   "cell_type": "code",
   "execution_count": 62,
   "metadata": {},
   "outputs": [],
   "source": [
    "final=final.reshape(126,126)"
   ]
  },
  {
   "cell_type": "code",
   "execution_count": 63,
   "metadata": {},
   "outputs": [],
   "source": [
    "import matplotlib.pyplot as plt"
   ]
  },
  {
   "cell_type": "code",
   "execution_count": 64,
   "metadata": {},
   "outputs": [
    {
     "data": {
      "image/png": "[encoded data removed]",
      "text/plain": [
       "<Figure size 432x288 with 1 Axes>"
      ]
     },
     "metadata": {
      "needs_background": "light"
     },
     "output_type": "display_data"
    }
   ],
   "source": [
    "plt.imshow(final, cmap='gray')\n",
    "plt.show() "
   ]
  },
  {
   "cell_type": "code",
   "execution_count": 65,
   "metadata": {},
   "outputs": [],
   "source": [
    "final=Image.fromarray(final)"
   ]
  },
  {
   "cell_type": "code",
   "execution_count": 66,
   "metadata": {},
   "outputs": [],
   "source": [
    "final.save(r\"C:\\Users\\Surabhi\\Downloads\\final.jpg\")"
   ]
  },
  {
   "cell_type": "markdown",
   "metadata": {},
   "source": [
    "Finding the test accuracy"
   ]
  },
  {
   "cell_type": "code",
   "execution_count": 67,
   "metadata": {},
   "outputs": [],
   "source": [
    "mask_test=Image.open(r\"C:\\Users\\Surabhi\\OneDrive\\Pictures\\Images and Masks\\segmentation\\Image 10_contrast.png\")"
   ]
  },
  {
   "cell_type": "code",
   "execution_count": 68,
   "metadata": {},
   "outputs": [],
   "source": [
    "pixel_test = list(mask_test.getdata())"
   ]
  },
  {
   "cell_type": "code",
   "execution_count": 69,
   "metadata": {},
   "outputs": [],
   "source": [
    "pixel_test = np.array(pixel_test).reshape((128*128, 4))"
   ]
  },
  {
   "cell_type": "code",
   "execution_count": 70,
   "metadata": {},
   "outputs": [],
   "source": [
    "y_test=pixel_test[:,0].reshape(128,128)"
   ]
  },
  {
   "cell_type": "code",
   "execution_count": 71,
   "metadata": {},
   "outputs": [],
   "source": [
    "y_test=255-y_test"
   ]
  },
  {
   "cell_type": "code",
   "execution_count": 73,
   "metadata": {},
   "outputs": [
    {
     "data": {
      "image/png": "[encoded data removed]",
      "text/plain": [
       "<Figure size 432x288 with 1 Axes>"
      ]
     },
     "metadata": {
      "needs_background": "light"
     },
     "output_type": "display_data"
    }
   ],
   "source": [
    "plt.imshow(y_test,cmap=\"gray\")\n",
    "plt.show()"
   ]
  },
  {
   "cell_type": "code",
   "execution_count": 74,
   "metadata": {},
   "outputs": [],
   "source": [
    "y_test=np.delete(y_test,[0,127],axis=0)\n",
    "y_test=np.delete(y_test,[0,127],axis=1)"
   ]
  },
  {
   "cell_type": "code",
   "execution_count": 75,
   "metadata": {},
   "outputs": [],
   "source": [
    "y_test=y_test.reshape(15876,)"
   ]
  },
  {
   "cell_type": "code",
   "execution_count": 76,
   "metadata": {},
   "outputs": [
    {
     "ename": "AttributeError",
     "evalue": "'Image' object has no attribute 'reshape'",
     "output_type": "error",
     "traceback": [
      "\u001b[1;31m---------------------------------------------------------------------------\u001b[0m",
      "\u001b[1;31mAttributeError\u001b[0m                            Traceback (most recent call last)",
      "\u001b[1;32m<ipython-input-76-08be2b67de7c>\u001b[0m in \u001b[0;36m<module>\u001b[1;34m\u001b[0m\n\u001b[1;32m----> 1\u001b[1;33m \u001b[0my_pred\u001b[0m\u001b[1;33m=\u001b[0m\u001b[0mfinal\u001b[0m\u001b[1;33m.\u001b[0m\u001b[0mreshape\u001b[0m\u001b[1;33m(\u001b[0m\u001b[1;36m15876\u001b[0m\u001b[1;33m,\u001b[0m\u001b[1;33m)\u001b[0m\u001b[1;33m\u001b[0m\u001b[1;33m\u001b[0m\u001b[0m\n\u001b[0m",
      "\u001b[1;31mAttributeError\u001b[0m: 'Image' object has no attribute 'reshape'"
     ]
    }
   ],
   "source": [
    "y_pred=final.reshape(15876,)"
   ]
  },
  {
   "cell_type": "code",
   "execution_count": 115,
   "metadata": {},
   "outputs": [],
   "source": [
    "y_test=y_test//255"
   ]
  },
  {
   "cell_type": "code",
   "execution_count": 116,
   "metadata": {},
   "outputs": [
    {
     "name": "stdout",
     "output_type": "stream",
     "text": [
      "[[9133   62]\n",
      " [3925 2756]]\n"
     ]
    },
    {
     "data": {
      "text/plain": [
       "0.7488662131519275"
      ]
     },
     "execution_count": 116,
     "metadata": {},
     "output_type": "execute_result"
    }
   ],
   "source": [
    "from sklearn.metrics import confusion_matrix, accuracy_score\n",
    "cm = confusion_matrix(y_test, y_pred)\n",
    "print(cm)\n",
    "accuracy_score(y_test, y_pred)"
   ]
  },
  {
   "cell_type": "markdown",
   "metadata": {},
   "source": [
    "Erosion and Dilation"
   ]
  },
  {
   "cell_type": "code",
   "execution_count": null,
   "metadata": {},
   "outputs": [],
   "source": [
    "import cv2\n",
    "import numpy as np\n",
    "  \n",
    "input_img=cv2.imread(r\"C:\\Users\\Surabhi\\Downloads\\final.jpg\",0)\n",
    "  \n",
    "# Taking a matrix of size 5 as the kernel\n",
    "kernel = np.ones((5,5), np.uint8)\n",
    "  \n",
    "# The first parameter is the original image,\n",
    "# kernel is the matrix with which image is \n",
    "# convolved and third parameter is the number \n",
    "# of iterations, which will determine how much \n",
    "# you want to erode/dilate a given image. \n",
    "img_erosion = cv2.erode(input_img, kernel, iterations=1)\n",
    "img_dilation = cv2.dilate(input_img, kernel, iterations=1)\n",
    "img_morph=cv2.morphologyEx(input_img, cv2.MORPH_OPEN, kernel)\n",
    "img_close=cv2.morphologyEx(input_img, cv2.MORPH_CLOSE, kernel)\n",
    "img_erosion"
   ]
  },
  {
   "cell_type": "code",
   "execution_count": null,
   "metadata": {},
   "outputs": [],
   "source": [
    "plt.imshow(img_close, cmap='gray')\n",
    "plt.show() "
   ]
  },
  {
   "cell_type": "code",
   "execution_count": null,
   "metadata": {},
   "outputs": [],
   "source": [
    "plt.imshow(img_dilation, cmap='gray')\n",
    "plt.show() "
   ]
  }
 ],
 "metadata": {
  "kernelspec": {
   "display_name": "Python 3",
   "language": "python",
   "name": "python3"
  },
  "language_info": {
   "codemirror_mode": {
    "name": "ipython",
    "version": 3
   },
   "file_extension": ".py",
   "mimetype": "text/x-python",
   "name": "python",
   "nbconvert_exporter": "python",
   "pygments_lexer": "ipython3",
   "version": "3.7.6"
  }
 },
 "nbformat": 4,
 "nbformat_minor": 4
}
