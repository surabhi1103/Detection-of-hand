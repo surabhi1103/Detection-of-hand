{
 "cells": [
  {
   "cell_type": "markdown",
   "metadata": {},
   "source": [
    "First consider an image "
   ]
  },
  {
   "cell_type": "code",
   "execution_count": 2,
   "metadata": {},
   "outputs": [],
   "source": [
    "from PIL import Image\n",
    "import numpy as np\n",
    "import time"
   ]
  },
  {
   "cell_type": "markdown",
   "metadata": {},
   "source": [
    "First considering the images I will consider in my training set"
   ]
  },
  {
   "cell_type": "code",
   "execution_count": 3,
   "metadata": {},
   "outputs": [],
   "source": [
    "img_1=Image.open(r\"C:\\Users\\Surabhi\\OneDrive\\Pictures\\Images and masks 2.0\\new_image_1_con.jpg\")\n",
    "img_2=Image.open(r\"C:\\Users\\Surabhi\\OneDrive\\Pictures\\Images and masks 2.0\\new_image_2_con.jpg\")\n",
    "img_3=Image.open(r\"C:\\Users\\Surabhi\\OneDrive\\Pictures\\Images and masks 2.0\\new_image_3_con.jpg\")\n",
    "img_4=Image.open(r\"C:\\Users\\Surabhi\\OneDrive\\Pictures\\Images and masks 2.0\\new_image_4_con.jpg\")\n",
    "img_5=Image.open(r\"C:\\Users\\Surabhi\\OneDrive\\Pictures\\Images and masks 2.0\\new_image_5_con.jpg\")\n",
    "img_6=Image.open(r\"C:\\Users\\Surabhi\\OneDrive\\Pictures\\Images and masks 2.0\\new_image_6_con.jpg\")\n",
    "img_7=Image.open(r\"C:\\Users\\Surabhi\\OneDrive\\Pictures\\Images and masks 2.0\\new_image_7_con.jpg\")\n",
    "img_8=Image.open(r\"C:\\Users\\Surabhi\\OneDrive\\Pictures\\Images and masks 2.0\\new_image_8_con.jpg\")\n"
   ]
  },
  {
   "cell_type": "code",
   "execution_count": 4,
   "metadata": {},
   "outputs": [],
   "source": [
    "pixel_values_1 = list(img_1.getdata())\n",
    "pixel_values_2 = list(img_2.getdata())\n",
    "pixel_values_3 = list(img_3.getdata())\n",
    "pixel_values_4= list(img_4.getdata())\n",
    "pixel_values_5 = list(img_5.getdata())\n",
    "pixel_values_6 = list(img_6.getdata())\n",
    "pixel_values_7 = list(img_7.getdata())\n",
    "pixel_values_8 = list(img_8.getdata())\n"
   ]
  },
  {
   "cell_type": "code",
   "execution_count": 5,
   "metadata": {},
   "outputs": [],
   "source": [
    "\n",
    "pixel_values_1 = np.array(pixel_values_1).reshape((128,128, 3))\n",
    "pixel_values_2 = np.array(pixel_values_2).reshape((128,128, 3))\n",
    "pixel_values_3 = np.array(pixel_values_3).reshape((128,128, 3))\n",
    "pixel_values_4 = np.array(pixel_values_4).reshape((128,128, 3))\n",
    "pixel_values_5 = np.array(pixel_values_5).reshape((128,128, 3))\n",
    "pixel_values_6 = np.array(pixel_values_6).reshape((128,128, 3))\n",
    "pixel_values_7 = np.array(pixel_values_7).reshape((128,128, 3))\n",
    "pixel_values_8 = np.array(pixel_values_8).reshape((128,128, 3))"
   ]
  },
  {
   "cell_type": "code",
   "execution_count": 6,
   "metadata": {},
   "outputs": [
    {
     "data": {
      "text/plain": [
       "array([[[192, 178, 129],\n",
       "        [195, 181, 132],\n",
       "        [198, 184, 135],\n",
       "        ...,\n",
       "        [141, 124,  72],\n",
       "        [136, 119,  67],\n",
       "        [132, 115,  63]],\n",
       "\n",
       "       [[198, 184, 139],\n",
       "        [196, 184, 136],\n",
       "        [196, 182, 137],\n",
       "        ...,\n",
       "        [135, 118,  66],\n",
       "        [131, 114,  62],\n",
       "        [127, 110,  58]],\n",
       "\n",
       "       [[203, 189, 150],\n",
       "        [199, 187, 145],\n",
       "        [196, 182, 143],\n",
       "        ...,\n",
       "        [131, 115,  64],\n",
       "        [127, 111,  60],\n",
       "        [124, 108,  57]],\n",
       "\n",
       "       ...,\n",
       "\n",
       "       [[ 97,  87,  75],\n",
       "        [101,  91,  79],\n",
       "        [103,  93,  81],\n",
       "        ...,\n",
       "        [ 39,  26,   7],\n",
       "        [ 34,  21,   4],\n",
       "        [ 31,  18,   1]],\n",
       "\n",
       "       [[ 94,  85,  70],\n",
       "        [ 99,  90,  75],\n",
       "        [ 99,  90,  75],\n",
       "        ...,\n",
       "        [ 38,  25,   6],\n",
       "        [ 33,  20,   3],\n",
       "        [ 30,  17,   0]],\n",
       "\n",
       "       [[ 91,  82,  67],\n",
       "        [ 95,  86,  71],\n",
       "        [ 93,  84,  69],\n",
       "        ...,\n",
       "        [ 38,  25,   6],\n",
       "        [ 33,  20,   3],\n",
       "        [ 29,  16,   0]]])"
      ]
     },
     "execution_count": 6,
     "metadata": {},
     "output_type": "execute_result"
    }
   ],
   "source": [
    "pixel_values_1"
   ]
  },
  {
   "cell_type": "code",
   "execution_count": 7,
   "metadata": {},
   "outputs": [],
   "source": [
    "\n",
    "x= pixel_values_1[2,2,0:3]\n",
    "x=np.hstack((x,pixel_values_1[1,1,0:3]))\n",
    "x=np.hstack((x,pixel_values_1[1,2,0:3]))\n",
    "x=np.hstack((x,pixel_values_1[1,3,0:3]))\n",
    "x=np.hstack((x,pixel_values_1[2,1,0:3]))\n",
    "x=np.hstack((x,pixel_values_1[2,3,0:3]))\n",
    "x=np.hstack((x,pixel_values_1[3,1,0:3]))\n",
    "x=np.hstack((x,pixel_values_1[3,2,0:3]))\n",
    "x=np.hstack((x,pixel_values_1[3,3,0:3]))\n",
    "x=np.hstack((x,pixel_values_1[1,1,0:3]))\n",
    "x=np.hstack((x,pixel_values_1[4,0,0:3]))\n",
    "x=np.hstack((x,pixel_values_1[0,4,0:3]))\n",
    "x=np.hstack((x,pixel_values_1[4,4,0:3]))\n",
    "\n",
    "data=np.array(x)"
   ]
  },
  {
   "cell_type": "code",
   "execution_count": 8,
   "metadata": {},
   "outputs": [
    {
     "data": {
      "text/plain": [
       "array([196, 182, 143, 196, 184, 136, 196, 182, 137, 195, 183, 135, 199,\n",
       "       187, 145, 192, 180, 138, 187, 177, 142, 186, 173, 139, 183, 173,\n",
       "       138, 196, 184, 136, 190, 178, 154, 201, 187, 138, 196, 184, 160])"
      ]
     },
     "execution_count": 8,
     "metadata": {},
     "output_type": "execute_result"
    }
   ],
   "source": [
    "data"
   ]
  },
  {
   "cell_type": "code",
   "execution_count": 9,
   "metadata": {},
   "outputs": [
    {
     "data": {
      "text/plain": [
       "array([196, 182, 143, 196, 184, 136, 196, 182, 137, 195, 183, 135, 199,\n",
       "       187, 145, 192, 180, 138, 187, 177, 142, 186, 173, 139, 183, 173,\n",
       "       138, 196, 184, 136, 190, 178, 154, 201, 187, 138, 196, 184, 160])"
      ]
     },
     "execution_count": 9,
     "metadata": {},
     "output_type": "execute_result"
    }
   ],
   "source": [
    "x"
   ]
  },
  {
   "cell_type": "code",
   "execution_count": 10,
   "metadata": {},
   "outputs": [],
   "source": [
    "for i in range(2,126):\n",
    "    for j in range(2,126):\n",
    "        x= pixel_values_1[i,j,0:3]\n",
    "        x=np.hstack((x,pixel_values_1[i-1,j-1,0:3]))\n",
    "        x=np.hstack((x,pixel_values_1[i-1,j,0:3]))\n",
    "        x=np.hstack((x,pixel_values_1[i-1,j+1,0:3]))\n",
    "        x=np.hstack((x,pixel_values_1[i,j-1,0:3]))\n",
    "        x=np.hstack((x,pixel_values_1[i,j+1,0:3]))\n",
    "        x=np.hstack((x,pixel_values_1[i+1,j-1,0:3]))\n",
    "        x=np.hstack((x,pixel_values_1[i+1,j,0:3]))\n",
    "        x=np.hstack((x,pixel_values_1[i+1,j+1,0:3]))\n",
    "        x=np.hstack((x,pixel_values_1[i-2,j-2,0:3]))\n",
    "        x=np.hstack((x,pixel_values_1[i+2,j-2,0:3]))\n",
    "        x=np.hstack((x,pixel_values_1[i-2,j+2,0:3]))\n",
    "        x=np.hstack((x,pixel_values_1[i+2,j+2,0:3]))\n",
    "        data=np.vstack((data,x))\n",
    "        \n",
    "        "
   ]
  },
  {
   "cell_type": "code",
   "execution_count": 11,
   "metadata": {},
   "outputs": [
    {
     "data": {
      "text/plain": [
       "array([[196, 182, 143, ..., 196, 184, 160],\n",
       "       [196, 182, 143, ..., 196, 184, 160],\n",
       "       [192, 180, 138, ..., 193, 183, 158],\n",
       "       ...,\n",
       "       [ 45,  33,   9, ...,  38,  25,   6],\n",
       "       [ 43,  30,  11, ...,  33,  20,   3],\n",
       "       [ 39,  26,   7, ...,  29,  16,   0]])"
      ]
     },
     "execution_count": 11,
     "metadata": {},
     "output_type": "execute_result"
    }
   ],
   "source": [
    "data"
   ]
  },
  {
   "cell_type": "code",
   "execution_count": 12,
   "metadata": {},
   "outputs": [],
   "source": [
    "for i in range(2,126):\n",
    "    for j in range(2,126):\n",
    "        x= pixel_values_2[i,j,0:3]\n",
    "        x=np.hstack((x,pixel_values_2[i-1,j-1,0:3]))\n",
    "        x=np.hstack((x,pixel_values_2[i-1,j,0:3]))\n",
    "        x=np.hstack((x,pixel_values_2[i-1,j+1,0:3]))\n",
    "        x=np.hstack((x,pixel_values_2[i,j-1,0:3]))\n",
    "        x=np.hstack((x,pixel_values_2[i,j+1,0:3]))\n",
    "        x=np.hstack((x,pixel_values_2[i+1,j-1,0:3]))\n",
    "        x=np.hstack((x,pixel_values_2[i+1,j,0:3]))\n",
    "        x=np.hstack((x,pixel_values_2[i+1,j+1,0:3]))\n",
    "        x=np.hstack((x,pixel_values_2[i-2,j-2,0:3]))\n",
    "        x=np.hstack((x,pixel_values_2[i+2,j-2,0:3]))\n",
    "        x=np.hstack((x,pixel_values_2[i-2,j+2,0:3]))\n",
    "        x=np.hstack((x,pixel_values_2[i+2,j+2,0:3]))\n",
    "        data=np.vstack((data,x))\n",
    "       "
   ]
  },
  {
   "cell_type": "code",
   "execution_count": 13,
   "metadata": {},
   "outputs": [
    {
     "data": {
      "text/plain": [
       "array([[196, 182, 143, ..., 196, 184, 160],\n",
       "       [196, 182, 143, ..., 196, 184, 160],\n",
       "       [192, 180, 138, ..., 193, 183, 158],\n",
       "       ...,\n",
       "       [177, 183, 197, ..., 178, 184, 196],\n",
       "       [177, 183, 197, ..., 178, 184, 196],\n",
       "       [178, 184, 198, ..., 178, 184, 196]])"
      ]
     },
     "execution_count": 13,
     "metadata": {},
     "output_type": "execute_result"
    }
   ],
   "source": [
    "data"
   ]
  },
  {
   "cell_type": "code",
   "execution_count": 14,
   "metadata": {},
   "outputs": [],
   "source": [
    "for i in range(2,126):\n",
    "    for j in range(2,126):\n",
    "        x= pixel_values_3[i,j,0:3]\n",
    "        x=np.hstack((x,pixel_values_3[i-1,j-1,0:3]))\n",
    "        x=np.hstack((x,pixel_values_3[i-1,j,0:3]))\n",
    "        x=np.hstack((x,pixel_values_3[i-1,j+1,0:3]))\n",
    "        x=np.hstack((x,pixel_values_3[i,j-1,0:3]))\n",
    "        x=np.hstack((x,pixel_values_3[i,j+1,0:3]))\n",
    "        x=np.hstack((x,pixel_values_3[i+1,j-1,0:3]))\n",
    "        x=np.hstack((x,pixel_values_3[i+1,j,0:3]))\n",
    "        x=np.hstack((x,pixel_values_3[i+1,j+1,0:3]))\n",
    "        x=np.hstack((x,pixel_values_3[i-2,j-2,0:3]))\n",
    "        x=np.hstack((x,pixel_values_3[i+2,j-2,0:3]))\n",
    "        x=np.hstack((x,pixel_values_3[i-2,j+2,0:3]))\n",
    "        x=np.hstack((x,pixel_values_3[i+2,j+2,0:3]))\n",
    "        data=np.vstack((data,x))\n",
    "       "
   ]
  },
  {
   "cell_type": "code",
   "execution_count": 15,
   "metadata": {},
   "outputs": [],
   "source": [
    "for i in range(2,126):\n",
    "    for j in range(2,126):\n",
    "        x= pixel_values_4[i,j,0:3]\n",
    "        x=np.hstack((x,pixel_values_4[i-1,j-1,0:3]))\n",
    "        x=np.hstack((x,pixel_values_4[i-1,j,0:3]))\n",
    "        x=np.hstack((x,pixel_values_4[i-1,j+1,0:3]))\n",
    "        x=np.hstack((x,pixel_values_4[i,j-1,0:3]))\n",
    "        x=np.hstack((x,pixel_values_4[i,j+1,0:3]))\n",
    "        x=np.hstack((x,pixel_values_4[i+1,j-1,0:3]))\n",
    "        x=np.hstack((x,pixel_values_4[i+1,j,0:3]))\n",
    "        x=np.hstack((x,pixel_values_4[i+1,j+1,0:3]))\n",
    "        x=np.hstack((x,pixel_values_4[i-2,j-2,0:3]))\n",
    "        x=np.hstack((x,pixel_values_4[i+2,j-2,0:3]))\n",
    "        x=np.hstack((x,pixel_values_4[i-2,j+2,0:3]))\n",
    "        x=np.hstack((x,pixel_values_4[i+2,j+2,0:3]))\n",
    "        data=np.vstack((data,x))\n",
    "        "
   ]
  },
  {
   "cell_type": "code",
   "execution_count": 16,
   "metadata": {},
   "outputs": [],
   "source": [
    "for i in range(2,126):\n",
    "    for j in range(2,126):\n",
    "        x= pixel_values_5[i,j,0:3]\n",
    "        x=np.hstack((x,pixel_values_5[i-1,j-1,0:3]))\n",
    "        x=np.hstack((x,pixel_values_5[i-1,j,0:3]))\n",
    "        x=np.hstack((x,pixel_values_5[i-1,j+1,0:3]))\n",
    "        x=np.hstack((x,pixel_values_5[i,j-1,0:3]))\n",
    "        x=np.hstack((x,pixel_values_5[i,j+1,0:3]))\n",
    "        x=np.hstack((x,pixel_values_5[i+1,j-1,0:3]))\n",
    "        x=np.hstack((x,pixel_values_5[i+1,j,0:3]))\n",
    "        x=np.hstack((x,pixel_values_5[i+1,j+1,0:3]))\n",
    "        x=np.hstack((x,pixel_values_5[i-2,j-2,0:3]))\n",
    "        x=np.hstack((x,pixel_values_5[i+2,j-2,0:3]))\n",
    "        x=np.hstack((x,pixel_values_5[i-2,j+2,0:3]))\n",
    "        x=np.hstack((x,pixel_values_5[i+2,j+2,0:3]))\n",
    "        data=np.vstack((data,x))\n",
    "        "
   ]
  },
  {
   "cell_type": "code",
   "execution_count": 17,
   "metadata": {},
   "outputs": [],
   "source": [
    "for i in range(2,126):\n",
    "    for j in range(2,126):\n",
    "        x= pixel_values_6[i,j,0:3]\n",
    "        x=np.hstack((x,pixel_values_6[i-1,j-1,0:3]))\n",
    "        x=np.hstack((x,pixel_values_6[i-1,j,0:3]))\n",
    "        x=np.hstack((x,pixel_values_6[i-1,j+1,0:3]))\n",
    "        x=np.hstack((x,pixel_values_6[i,j-1,0:3]))\n",
    "        x=np.hstack((x,pixel_values_6[i,j+1,0:3]))\n",
    "        x=np.hstack((x,pixel_values_6[i+1,j-1,0:3]))\n",
    "        x=np.hstack((x,pixel_values_6[i+1,j,0:3]))\n",
    "        x=np.hstack((x,pixel_values_6[i+1,j+1,0:3]))\n",
    "        x=np.hstack((x,pixel_values_6[i-2,j-2,0:3]))\n",
    "        x=np.hstack((x,pixel_values_6[i+2,j-2,0:3]))\n",
    "        x=np.hstack((x,pixel_values_6[i-2,j+2,0:3]))\n",
    "        x=np.hstack((x,pixel_values_6[i+2,j+2,0:3]))\n",
    "        data=np.vstack((data,x))\n",
    "        "
   ]
  },
  {
   "cell_type": "code",
   "execution_count": 18,
   "metadata": {},
   "outputs": [],
   "source": [
    "for i in range(2,126):\n",
    "    for j in range(2,126):\n",
    "        x= pixel_values_7[i,j,0:3]\n",
    "        x=np.hstack((x,pixel_values_7[i-1,j-1,0:3]))\n",
    "        x=np.hstack((x,pixel_values_7[i-1,j,0:3]))\n",
    "        x=np.hstack((x,pixel_values_7[i-1,j+1,0:3]))\n",
    "        x=np.hstack((x,pixel_values_7[i,j-1,0:3]))\n",
    "        x=np.hstack((x,pixel_values_7[i,j+1,0:3]))\n",
    "        x=np.hstack((x,pixel_values_7[i+1,j-1,0:3]))\n",
    "        x=np.hstack((x,pixel_values_7[i+1,j,0:3]))\n",
    "        x=np.hstack((x,pixel_values_7[i+1,j+1,0:3]))\n",
    "        x=np.hstack((x,pixel_values_7[i-2,j-2,0:3]))\n",
    "        x=np.hstack((x,pixel_values_7[i+2,j-2,0:3]))\n",
    "        x=np.hstack((x,pixel_values_7[i-2,j+2,0:3]))\n",
    "        x=np.hstack((x,pixel_values_7[i+2,j+2,0:3]))\n",
    "        data=np.vstack((data,x))\n",
    "        "
   ]
  },
  {
   "cell_type": "code",
   "execution_count": 19,
   "metadata": {},
   "outputs": [],
   "source": [
    "for i in range(2,126):\n",
    "    for j in range(2,126):\n",
    "        x= pixel_values_8[i,j,0:3]\n",
    "        x=np.hstack((x,pixel_values_8[i-1,j-1,0:3]))\n",
    "        x=np.hstack((x,pixel_values_8[i-1,j,0:3]))\n",
    "        x=np.hstack((x,pixel_values_8[i-1,j+1,0:3]))\n",
    "        x=np.hstack((x,pixel_values_8[i,j-1,0:3]))\n",
    "        x=np.hstack((x,pixel_values_8[i,j+1,0:3]))\n",
    "        x=np.hstack((x,pixel_values_8[i+1,j-1,0:3]))\n",
    "        x=np.hstack((x,pixel_values_8[i+1,j,0:3]))\n",
    "        x=np.hstack((x,pixel_values_8[i+1,j+1,0:3]))\n",
    "        x=np.hstack((x,pixel_values_8[i-2,j-2,0:3]))\n",
    "        x=np.hstack((x,pixel_values_8[i+2,j-2,0:3]))\n",
    "        x=np.hstack((x,pixel_values_8[i-2,j+2,0:3]))\n",
    "        x=np.hstack((x,pixel_values_8[i+2,j+2,0:3]))\n",
    "        data=np.vstack((data,x))\n",
    "       "
   ]
  },
  {
   "cell_type": "code",
   "execution_count": 20,
   "metadata": {},
   "outputs": [
    {
     "data": {
      "text/plain": [
       "array([[196, 182, 143, ..., 196, 184, 160],\n",
       "       [196, 182, 143, ..., 196, 184, 160],\n",
       "       [192, 180, 138, ..., 193, 183, 158],\n",
       "       ...,\n",
       "       [136, 128, 126, ..., 133, 136, 145],\n",
       "       [132, 128, 129, ..., 125, 129, 138],\n",
       "       [131, 129, 132, ..., 120, 124, 133]])"
      ]
     },
     "execution_count": 20,
     "metadata": {},
     "output_type": "execute_result"
    }
   ],
   "source": [
    "data"
   ]
  },
  {
   "cell_type": "code",
   "execution_count": 21,
   "metadata": {},
   "outputs": [],
   "source": [
    "data=np.delete(data,0,axis=0)"
   ]
  },
  {
   "cell_type": "code",
   "execution_count": 22,
   "metadata": {},
   "outputs": [
    {
     "data": {
      "text/plain": [
       "(123008, 39)"
      ]
     },
     "execution_count": 22,
     "metadata": {},
     "output_type": "execute_result"
    }
   ],
   "source": [
    "np.shape(data)"
   ]
  },
  {
   "cell_type": "code",
   "execution_count": 23,
   "metadata": {},
   "outputs": [],
   "source": [
    "mask_1=Image.open(r\"C:\\Users\\Surabhi\\OneDrive\\Pictures\\Images and masks 2.0\\segmentation\\new_mask_1.png\")\n",
    "mask_2=Image.open(r\"C:\\Users\\Surabhi\\OneDrive\\Pictures\\Images and masks 2.0\\segmentation\\new_mask_2.png\")\n",
    "mask_3=Image.open(r\"C:\\Users\\Surabhi\\OneDrive\\Pictures\\Images and masks 2.0\\segmentation\\new_mask_3.png\")\n",
    "mask_4=Image.open(r\"C:\\Users\\Surabhi\\OneDrive\\Pictures\\Images and masks 2.0\\segmentation\\new_mask_4.png\")\n",
    "mask_5=Image.open(r\"C:\\Users\\Surabhi\\OneDrive\\Pictures\\Images and masks 2.0\\segmentation\\new_mask_5.png\")\n",
    "mask_6=Image.open(r\"C:\\Users\\Surabhi\\OneDrive\\Pictures\\Images and masks 2.0\\segmentation\\new_mask_6.png\")\n",
    "mask_7=Image.open(r\"C:\\Users\\Surabhi\\OneDrive\\Pictures\\Images and masks 2.0\\segmentation\\new_mask_7.png\")\n",
    "mask_8=Image.open(r\"C:\\Users\\Surabhi\\OneDrive\\Pictures\\Images and masks 2.0\\segmentation\\new_mask_8.png\")\n"
   ]
  },
  {
   "cell_type": "code",
   "execution_count": 24,
   "metadata": {},
   "outputs": [],
   "source": [
    "pixel_1 = list(mask_1.getdata())\n",
    "pixel_2 = list(mask_2.getdata())\n",
    "pixel_3 = list(mask_3.getdata())\n",
    "pixel_4 = list(mask_4.getdata())\n",
    "pixel_5 = list(mask_5.getdata())\n",
    "pixel_6 = list(mask_6.getdata())\n",
    "pixel_7 = list(mask_7.getdata())\n",
    "pixel_8 = list(mask_8.getdata())"
   ]
  },
  {
   "cell_type": "code",
   "execution_count": 25,
   "metadata": {},
   "outputs": [],
   "source": [
    "pixel_1 = np.array(pixel_1).reshape((128*128, 4))\n",
    "pixel_2 = np.array(pixel_2).reshape((128*128, 4))\n",
    "pixel_3 = np.array(pixel_3).reshape((128*128, 4))\n",
    "pixel_4 = np.array(pixel_4).reshape((128*128, 4))\n",
    "pixel_5 = np.array(pixel_5).reshape((128*128, 4))\n",
    "pixel_6 = np.array(pixel_6).reshape((128*128, 4))\n",
    "pixel_7 = np.array(pixel_7).reshape((128*128, 4))\n",
    "pixel_8 = np.array(pixel_8).reshape((128*128, 4))"
   ]
  },
  {
   "cell_type": "code",
   "execution_count": 26,
   "metadata": {},
   "outputs": [],
   "source": [
    "y_1=pixel_1[:,0].reshape(128,128)\n",
    "y_2=pixel_2[:,0].reshape(128,128)\n",
    "y_3=pixel_3[:,0].reshape(128,128)\n",
    "y_4=pixel_4[:,0].reshape(128,128)\n",
    "y_5=pixel_5[:,0].reshape(128,128)\n",
    "y_6=pixel_6[:,0].reshape(128,128)\n",
    "y_7=pixel_7[:,0].reshape(128,128)\n",
    "y_8=pixel_8[:,0].reshape(128,128)"
   ]
  },
  {
   "cell_type": "code",
   "execution_count": 27,
   "metadata": {},
   "outputs": [
    {
     "data": {
      "text/plain": [
       "array([[255, 255, 255, ..., 255, 255, 255],\n",
       "       [255, 255, 255, ..., 255, 255, 255],\n",
       "       [255, 255, 255, ..., 255, 255, 255],\n",
       "       ...,\n",
       "       [255, 255, 255, ..., 255, 255, 255],\n",
       "       [255, 255, 255, ..., 255, 255, 255],\n",
       "       [255, 255, 255, ..., 255, 255, 255]])"
      ]
     },
     "execution_count": 27,
     "metadata": {},
     "output_type": "execute_result"
    }
   ],
   "source": [
    "y_1"
   ]
  },
  {
   "cell_type": "code",
   "execution_count": 28,
   "metadata": {},
   "outputs": [
    {
     "data": {
      "text/plain": [
       "(128, 128)"
      ]
     },
     "execution_count": 28,
     "metadata": {},
     "output_type": "execute_result"
    }
   ],
   "source": [
    "np.shape(y_1)"
   ]
  },
  {
   "cell_type": "code",
   "execution_count": 29,
   "metadata": {},
   "outputs": [],
   "source": [
    "y_1=np.delete(y_1,[0,1,126,127],axis=0)\n",
    "y_1=np.delete(y_1,[0,1,126,127],axis=1)\n",
    "y_2=np.delete(y_2,[0,1,126,127],axis=0)\n",
    "y_2=np.delete(y_2,[0,1,126,127],axis=1)\n",
    "y_3=np.delete(y_3,[0,1,126,127],axis=0)\n",
    "y_3=np.delete(y_3,[0,1,126,127],axis=1)\n",
    "y_4=np.delete(y_4,[0,1,126,127],axis=0)\n",
    "y_4=np.delete(y_4,[0,1,126,127],axis=1)\n",
    "y_5=np.delete(y_5,[0,1,126,127],axis=0)\n",
    "y_5=np.delete(y_5,[0,1,126,127],axis=1)\n",
    "y_6=np.delete(y_6,[0,1,126,127],axis=0)\n",
    "y_6=np.delete(y_6,[0,1,126,127],axis=1)\n",
    "y_7=np.delete(y_7,[0,1,126,127],axis=0)\n",
    "y_7=np.delete(y_7,[0,1,126,127],axis=1)\n",
    "y_8=np.delete(y_8,[0,1,126,127],axis=0)\n",
    "y_8=np.delete(y_8,[0,1,126,127],axis=1)\n"
   ]
  },
  {
   "cell_type": "code",
   "execution_count": 30,
   "metadata": {},
   "outputs": [],
   "source": [
    "y_1=y_1.reshape(15376,)\n",
    "y_2=y_2.reshape(15376,)\n",
    "y_3=y_3.reshape(15376,)\n",
    "y_4=y_4.reshape(15376,)\n",
    "y_5=y_5.reshape(15376,)\n",
    "y_6=y_6.reshape(15376,)\n",
    "y_7=y_7.reshape(15376,)\n",
    "y_8=y_8.reshape(15376,)\n"
   ]
  },
  {
   "cell_type": "code",
   "execution_count": 31,
   "metadata": {},
   "outputs": [],
   "source": [
    "import itertools"
   ]
  },
  {
   "cell_type": "code",
   "execution_count": 32,
   "metadata": {},
   "outputs": [],
   "source": [
    "y = list(itertools.chain(y_1,y_2,y_3,y_4,y_5,y_6,y_7,y_8))"
   ]
  },
  {
   "cell_type": "code",
   "execution_count": 33,
   "metadata": {},
   "outputs": [],
   "source": [
    "y = np.array(y).reshape(123008, )"
   ]
  },
  {
   "cell_type": "code",
   "execution_count": 34,
   "metadata": {},
   "outputs": [
    {
     "data": {
      "text/plain": [
       "array([255, 255, 255, ..., 255, 255, 255])"
      ]
     },
     "execution_count": 34,
     "metadata": {},
     "output_type": "execute_result"
    }
   ],
   "source": [
    "y"
   ]
  },
  {
   "cell_type": "code",
   "execution_count": 35,
   "metadata": {},
   "outputs": [],
   "source": [
    "y=255-y"
   ]
  },
  {
   "cell_type": "code",
   "execution_count": 36,
   "metadata": {},
   "outputs": [],
   "source": [
    "y=y//255"
   ]
  },
  {
   "cell_type": "code",
   "execution_count": 37,
   "metadata": {},
   "outputs": [
    {
     "data": {
      "text/plain": [
       "array([0, 0, 0, ..., 0, 0, 0], dtype=int32)"
      ]
     },
     "execution_count": 37,
     "metadata": {},
     "output_type": "execute_result"
    }
   ],
   "source": [
    "y"
   ]
  },
  {
   "cell_type": "code",
   "execution_count": 38,
   "metadata": {},
   "outputs": [],
   "source": [
    "import tensorflow as tf"
   ]
  },
  {
   "cell_type": "code",
   "execution_count": 39,
   "metadata": {},
   "outputs": [],
   "source": [
    "X=data"
   ]
  },
  {
   "cell_type": "code",
   "execution_count": 40,
   "metadata": {},
   "outputs": [
    {
     "data": {
      "text/plain": [
       "(123008, 39)"
      ]
     },
     "execution_count": 40,
     "metadata": {},
     "output_type": "execute_result"
    }
   ],
   "source": [
    "np.shape(data)"
   ]
  },
  {
   "cell_type": "code",
   "execution_count": 41,
   "metadata": {},
   "outputs": [
    {
     "data": {
      "text/plain": [
       "(123008, 39)"
      ]
     },
     "execution_count": 41,
     "metadata": {},
     "output_type": "execute_result"
    }
   ],
   "source": [
    "np.shape(X)"
   ]
  },
  {
   "cell_type": "code",
   "execution_count": 42,
   "metadata": {},
   "outputs": [
    {
     "data": {
      "text/plain": [
       "array([[196, 182, 143, ..., 196, 184, 160],\n",
       "       [192, 180, 138, ..., 193, 183, 158],\n",
       "       [193, 179, 140, ..., 192, 180, 156],\n",
       "       ...,\n",
       "       [136, 128, 126, ..., 133, 136, 145],\n",
       "       [132, 128, 129, ..., 125, 129, 138],\n",
       "       [131, 129, 132, ..., 120, 124, 133]])"
      ]
     },
     "execution_count": 42,
     "metadata": {},
     "output_type": "execute_result"
    }
   ],
   "source": [
    "X"
   ]
  },
  {
   "cell_type": "code",
   "execution_count": 43,
   "metadata": {},
   "outputs": [],
   "source": [
    "from sklearn.preprocessing import StandardScaler\n",
    "sc = StandardScaler()\n",
    "X = sc.fit_transform(X)\n"
   ]
  },
  {
   "cell_type": "code",
   "execution_count": 44,
   "metadata": {},
   "outputs": [],
   "source": [
    "ann = tf.keras.models.Sequential()\n",
    "ann.add(tf.keras.layers.Dense(units=5, activation='relu'))\n",
    "ann.add(tf.keras.layers.Dense(units=5, activation='relu'))\n",
    "ann.add(tf.keras.layers.Dense(units=15, activation='relu'))\n",
    "ann.add(tf.keras.layers.Dense(units=1, activation='sigmoid'))"
   ]
  },
  {
   "cell_type": "code",
   "execution_count": 45,
   "metadata": {},
   "outputs": [],
   "source": [
    "ann.compile(optimizer = 'adam', loss = 'binary_crossentropy', metrics = ['accuracy'])"
   ]
  },
  {
   "cell_type": "code",
   "execution_count": 46,
   "metadata": {},
   "outputs": [],
   "source": [
    "start_time = time.time()"
   ]
  },
  {
   "cell_type": "code",
   "execution_count": 47,
   "metadata": {},
   "outputs": [
    {
     "name": "stdout",
     "output_type": "stream",
     "text": [
      "Epoch 1/50\n",
      "1922/1922 [==============================] - 4s 2ms/step - loss: 0.1824 - accuracy: 0.9349\n",
      "Epoch 2/50\n",
      "1922/1922 [==============================] - 4s 2ms/step - loss: 0.0473 - accuracy: 0.9814\n",
      "Epoch 3/50\n",
      "1922/1922 [==============================] - 4s 2ms/step - loss: 0.0448 - accuracy: 0.9822\n",
      "Epoch 4/50\n",
      "1922/1922 [==============================] - 4s 2ms/step - loss: 0.0432 - accuracy: 0.9827\n",
      "Epoch 5/50\n",
      "1922/1922 [==============================] - 4s 2ms/step - loss: 0.0400 - accuracy: 0.9836\n",
      "Epoch 6/50\n",
      "1922/1922 [==============================] - 4s 2ms/step - loss: 0.0394 - accuracy: 0.9839\n",
      "Epoch 7/50\n",
      "1922/1922 [==============================] - 4s 2ms/step - loss: 0.0400 - accuracy: 0.9834\n",
      "Epoch 8/50\n",
      "1922/1922 [==============================] - 4s 2ms/step - loss: 0.0403 - accuracy: 0.9833\n",
      "Epoch 9/50\n",
      "1922/1922 [==============================] - 4s 2ms/step - loss: 0.0389 - accuracy: 0.9839\n",
      "Epoch 10/50\n",
      "1922/1922 [==============================] - 4s 2ms/step - loss: 0.0386 - accuracy: 0.9836\n",
      "Epoch 11/50\n",
      "1922/1922 [==============================] - 4s 2ms/step - loss: 0.0379 - accuracy: 0.9842\n",
      "Epoch 12/50\n",
      "1922/1922 [==============================] - 4s 2ms/step - loss: 0.0374 - accuracy: 0.9843\n",
      "Epoch 13/50\n",
      "1922/1922 [==============================] - 4s 2ms/step - loss: 0.0367 - accuracy: 0.9850\n",
      "Epoch 14/50\n",
      "1922/1922 [==============================] - 4s 2ms/step - loss: 0.0374 - accuracy: 0.9845\n",
      "Epoch 15/50\n",
      "1922/1922 [==============================] - 4s 2ms/step - loss: 0.0369 - accuracy: 0.9846\n",
      "Epoch 16/50\n",
      "1922/1922 [==============================] - 4s 2ms/step - loss: 0.0371 - accuracy: 0.9845\n",
      "Epoch 17/50\n",
      "1922/1922 [==============================] - 4s 2ms/step - loss: 0.0379 - accuracy: 0.9839\n",
      "Epoch 18/50\n",
      "1922/1922 [==============================] - 3s 2ms/step - loss: 0.0362 - accuracy: 0.9850\n",
      "Epoch 19/50\n",
      "1922/1922 [==============================] - 4s 2ms/step - loss: 0.0360 - accuracy: 0.9851\n",
      "Epoch 20/50\n",
      "1922/1922 [==============================] - 4s 2ms/step - loss: 0.0367 - accuracy: 0.9848\n",
      "Epoch 21/50\n",
      "1922/1922 [==============================] - 4s 2ms/step - loss: 0.0364 - accuracy: 0.9844\n",
      "Epoch 22/50\n",
      "1922/1922 [==============================] - 3s 2ms/step - loss: 0.0364 - accuracy: 0.9848\n",
      "Epoch 23/50\n",
      "1922/1922 [==============================] - 3s 2ms/step - loss: 0.0375 - accuracy: 0.9842\n",
      "Epoch 24/50\n",
      "1922/1922 [==============================] - 3s 2ms/step - loss: 0.0363 - accuracy: 0.9848\n",
      "Epoch 25/50\n",
      "1922/1922 [==============================] - 4s 2ms/step - loss: 0.0361 - accuracy: 0.9846\n",
      "Epoch 26/50\n",
      "1922/1922 [==============================] - 3s 2ms/step - loss: 0.0351 - accuracy: 0.9852\n",
      "Epoch 27/50\n",
      "1922/1922 [==============================] - 4s 2ms/step - loss: 0.0362 - accuracy: 0.9847\n",
      "Epoch 28/50\n",
      "1922/1922 [==============================] - 4s 2ms/step - loss: 0.0346 - accuracy: 0.9855\n",
      "Epoch 29/50\n",
      "1922/1922 [==============================] - 4s 2ms/step - loss: 0.0363 - accuracy: 0.9853: 0s - loss: 0.0363 - accura\n",
      "Epoch 30/50\n",
      "1922/1922 [==============================] - 4s 2ms/step - loss: 0.0356 - accuracy: 0.9851\n",
      "Epoch 31/50\n",
      "1922/1922 [==============================] - 3s 2ms/step - loss: 0.0358 - accuracy: 0.9851\n",
      "Epoch 32/50\n",
      "1922/1922 [==============================] - 3s 2ms/step - loss: 0.0359 - accuracy: 0.9850\n",
      "Epoch 33/50\n",
      "1922/1922 [==============================] - 4s 2ms/step - loss: 0.0348 - accuracy: 0.9853\n",
      "Epoch 34/50\n",
      "1922/1922 [==============================] - 4s 2ms/step - loss: 0.0348 - accuracy: 0.9854\n",
      "Epoch 35/50\n",
      "1922/1922 [==============================] - 4s 2ms/step - loss: 0.0355 - accuracy: 0.9851\n",
      "Epoch 36/50\n",
      "1922/1922 [==============================] - 4s 2ms/step - loss: 0.0362 - accuracy: 0.9850\n",
      "Epoch 37/50\n",
      "1922/1922 [==============================] - 4s 2ms/step - loss: 0.0345 - accuracy: 0.9854\n",
      "Epoch 38/50\n",
      "1922/1922 [==============================] - 4s 2ms/step - loss: 0.0342 - accuracy: 0.9856\n",
      "Epoch 39/50\n",
      "1922/1922 [==============================] - 3s 2ms/step - loss: 0.0358 - accuracy: 0.9849\n",
      "Epoch 40/50\n",
      "1922/1922 [==============================] - 4s 2ms/step - loss: 0.0355 - accuracy: 0.9853\n",
      "Epoch 41/50\n",
      "1922/1922 [==============================] - 4s 2ms/step - loss: 0.0344 - accuracy: 0.9858\n",
      "Epoch 42/50\n",
      "1922/1922 [==============================] - 4s 2ms/step - loss: 0.0356 - accuracy: 0.9846\n",
      "Epoch 43/50\n",
      "1922/1922 [==============================] - 4s 2ms/step - loss: 0.0344 - accuracy: 0.9858\n",
      "Epoch 44/50\n",
      "1922/1922 [==============================] - 4s 2ms/step - loss: 0.0351 - accuracy: 0.9852\n",
      "Epoch 45/50\n",
      "1922/1922 [==============================] - 4s 2ms/step - loss: 0.0353 - accuracy: 0.9849\n",
      "Epoch 46/50\n",
      "1922/1922 [==============================] - 4s 2ms/step - loss: 0.0343 - accuracy: 0.9857\n",
      "Epoch 47/50\n",
      "1922/1922 [==============================] - 5s 2ms/step - loss: 0.0365 - accuracy: 0.9843\n",
      "Epoch 48/50\n",
      "1922/1922 [==============================] - 4s 2ms/step - loss: 0.0341 - accuracy: 0.9857\n",
      "Epoch 49/50\n",
      "1922/1922 [==============================] - 4s 2ms/step - loss: 0.0355 - accuracy: 0.9853\n",
      "Epoch 50/50\n",
      "1922/1922 [==============================] - 4s 2ms/step - loss: 0.0338 - accuracy: 0.9858\n"
     ]
    },
    {
     "data": {
      "text/plain": [
       "<tensorflow.python.keras.callbacks.History at 0x2a0b103cd88>"
      ]
     },
     "execution_count": 47,
     "metadata": {},
     "output_type": "execute_result"
    }
   ],
   "source": [
    "ann.fit(X, y, batch_size = 64, epochs = 50)"
   ]
  },
  {
   "cell_type": "code",
   "execution_count": 48,
   "metadata": {},
   "outputs": [
    {
     "name": "stdout",
     "output_type": "stream",
     "text": [
      "187.80494928359985\n"
     ]
    }
   ],
   "source": [
    "print(time.time()-start_time)"
   ]
  },
  {
   "cell_type": "code",
   "execution_count": 49,
   "metadata": {},
   "outputs": [],
   "source": [
    "test_img_1=Image.open(r\"C:\\Users\\Surabhi\\OneDrive\\Pictures\\Images and masks 2.0\\new_image_12_con.jpg\")"
   ]
  },
  {
   "cell_type": "code",
   "execution_count": 50,
   "metadata": {},
   "outputs": [],
   "source": [
    "pixel_values_test = list(test_img_1.getdata())"
   ]
  },
  {
   "cell_type": "code",
   "execution_count": 51,
   "metadata": {},
   "outputs": [],
   "source": [
    "pixel_values_test = np.array(pixel_values_test).reshape((128,128, 3))"
   ]
  },
  {
   "cell_type": "code",
   "execution_count": 52,
   "metadata": {},
   "outputs": [],
   "source": [
    "data_test=np.empty((39,))"
   ]
  },
  {
   "cell_type": "code",
   "execution_count": 53,
   "metadata": {},
   "outputs": [
    {
     "data": {
      "text/plain": [
       "array([39.38907381, 49.41149787, 64.96238207, 39.30905764, 49.33993765,\n",
       "       64.83051529, 39.48224426, 49.49076849, 65.03600622, 39.6816098 ,\n",
       "       49.66079644, 65.25160398, 39.21419227, 49.25919956, 64.75469206,\n",
       "       39.58942126, 49.58228359, 65.17980492, 39.12983425, 49.18798143,\n",
       "       64.69527002, 39.30566521, 49.34108857, 64.90428334, 39.50671055,\n",
       "       49.51249522, 65.12313092, 39.21540519, 49.24340652, 64.66537103,\n",
       "       38.81471113, 48.9193862 , 64.40543188, 39.93447087, 49.86605189,\n",
       "       65.48718566, 39.56314782, 49.56577231, 65.25860729])"
      ]
     },
     "execution_count": 53,
     "metadata": {},
     "output_type": "execute_result"
    }
   ],
   "source": [
    "data_test"
   ]
  },
  {
   "cell_type": "code",
   "execution_count": 54,
   "metadata": {},
   "outputs": [],
   "source": [
    "for i in range(2,126):\n",
    "    for j in range(2,126):\n",
    "        x= pixel_values_test[i,j,0:3]\n",
    "        x=np.hstack((x,pixel_values_test[i-1,j-1,0:3]))\n",
    "        x=np.hstack((x,pixel_values_test[i-1,j,0:3]))\n",
    "        x=np.hstack((x,pixel_values_test[i-1,j+1,0:3]))\n",
    "        x=np.hstack((x,pixel_values_test[i,j-1,0:3]))\n",
    "        x=np.hstack((x,pixel_values_test[i,j+1,0:3]))\n",
    "        x=np.hstack((x,pixel_values_test[i+1,j-1,0:3]))\n",
    "        x=np.hstack((x,pixel_values_test[i+1,j,0:3]))\n",
    "        x=np.hstack((x,pixel_values_test[i+1,j+1,0:3]))\n",
    "        x=np.hstack((x,pixel_values_test[i-2,j-2,0:3]))\n",
    "        x=np.hstack((x,pixel_values_test[i+2,j-2,0:3]))\n",
    "        x=np.hstack((x,pixel_values_test[i-2,j+2,0:3]))\n",
    "        x=np.hstack((x,pixel_values_test[i+2,j+2,0:3]))\n",
    "        data_test=np.vstack((data_test,x))"
   ]
  },
  {
   "cell_type": "code",
   "execution_count": 55,
   "metadata": {},
   "outputs": [
    {
     "data": {
      "text/plain": [
       "array([[ 39.38907381,  49.41149787,  64.96238207, ...,  39.56314782,\n",
       "         49.56577231,  65.25860729],\n",
       "       [198.        , 183.        , 142.        , ..., 203.        ,\n",
       "        185.        , 139.        ],\n",
       "       [197.        , 184.        , 142.        , ..., 203.        ,\n",
       "        185.        , 139.        ],\n",
       "       ...,\n",
       "       [149.        , 150.        , 152.        , ..., 151.        ,\n",
       "        152.        , 154.        ],\n",
       "       [150.        , 151.        , 153.        , ..., 152.        ,\n",
       "        153.        , 155.        ],\n",
       "       [151.        , 152.        , 154.        , ..., 153.        ,\n",
       "        154.        , 156.        ]])"
      ]
     },
     "execution_count": 55,
     "metadata": {},
     "output_type": "execute_result"
    }
   ],
   "source": [
    "data_test"
   ]
  },
  {
   "cell_type": "code",
   "execution_count": 56,
   "metadata": {},
   "outputs": [],
   "source": [
    "data_test=np.delete(data_test,0,axis=0)"
   ]
  },
  {
   "cell_type": "code",
   "execution_count": 57,
   "metadata": {},
   "outputs": [
    {
     "data": {
      "text/plain": [
       "array([[198., 183., 142., ..., 203., 185., 139.],\n",
       "       [197., 184., 142., ..., 203., 185., 139.],\n",
       "       [198., 183., 142., ..., 203., 185., 139.],\n",
       "       ...,\n",
       "       [149., 150., 152., ..., 151., 152., 154.],\n",
       "       [150., 151., 153., ..., 152., 153., 155.],\n",
       "       [151., 152., 154., ..., 153., 154., 156.]])"
      ]
     },
     "execution_count": 57,
     "metadata": {},
     "output_type": "execute_result"
    }
   ],
   "source": [
    "data_test"
   ]
  },
  {
   "cell_type": "code",
   "execution_count": 58,
   "metadata": {},
   "outputs": [
    {
     "data": {
      "text/plain": [
       "(15376, 39)"
      ]
     },
     "execution_count": 58,
     "metadata": {},
     "output_type": "execute_result"
    }
   ],
   "source": [
    "np.shape(data_test)"
   ]
  },
  {
   "cell_type": "code",
   "execution_count": 59,
   "metadata": {},
   "outputs": [],
   "source": [
    "prediction=ann.predict(sc.transform(data_test))\n",
    "final=(prediction>0.5)"
   ]
  },
  {
   "cell_type": "code",
   "execution_count": 60,
   "metadata": {},
   "outputs": [],
   "source": [
    "final=final.reshape(124,124)"
   ]
  },
  {
   "cell_type": "code",
   "execution_count": 61,
   "metadata": {},
   "outputs": [],
   "source": [
    "import matplotlib.pyplot as plt"
   ]
  },
  {
   "cell_type": "code",
   "execution_count": 62,
   "metadata": {},
   "outputs": [
    {
     "data": {
      "image/png": "[encoded data removed]",
      "text/plain": [
       "<Figure size 432x288 with 1 Axes>"
      ]
     },
     "metadata": {
      "needs_background": "light"
     },
     "output_type": "display_data"
    }
   ],
   "source": [
    "plt.imshow(final, cmap='gray')\n",
    "plt.show() "
   ]
  },
  {
   "cell_type": "markdown",
   "metadata": {},
   "source": [
    "Finding the test accuracy "
   ]
  },
  {
   "cell_type": "code",
   "execution_count": 63,
   "metadata": {},
   "outputs": [],
   "source": [
    "mask_test=Image.open(r\"C:\\Users\\Surabhi\\OneDrive\\Pictures\\Images and masks 2.0\\segmentation\\new_mask_12.png\")"
   ]
  },
  {
   "cell_type": "code",
   "execution_count": 64,
   "metadata": {},
   "outputs": [],
   "source": [
    "pixel_test = list(mask_test.getdata())"
   ]
  },
  {
   "cell_type": "code",
   "execution_count": 65,
   "metadata": {},
   "outputs": [
    {
     "data": {
      "text/plain": [
       "[(255, 255, 255, 255),\n",
       " (255, 255, 255, 255),\n",
       " (255, 255, 255, 255),\n",
       " (255, 255, 255, 255),\n",
       " (255, 255, 255, 255),\n",
       " (255, 255, 255, 255),\n",
       " (255, 255, 255, 255),\n",
       " (255, 255, 255, 255),\n",
       " (255, 255, 255, 255),\n",
       " (255, 255, 255, 255),\n",
       " (255, 255, 255, 255),\n",
       " (255, 255, 255, 255),\n",
       " (255, 255, 255, 255),\n",
       " (255, 255, 255, 255),\n",
       " (255, 255, 255, 255),\n",
       " (255, 255, 255, 255),\n",
       " (255, 255, 255, 255),\n",
       " (255, 255, 255, 255),\n",
       " (255, 255, 255, 255),\n",
       " (255, 255, 255, 255),\n",
       " (255, 255, 255, 255),\n",
       " (255, 255, 255, 255),\n",
       " (255, 255, 255, 255),\n",
       " (255, 255, 255, 255),\n",
       " (255, 255, 255, 255),\n",
       " (255, 255, 255, 255),\n",
       " (255, 255, 255, 255),\n",
       " (255, 255, 255, 255),\n",
       " (255, 255, 255, 255),\n",
       " (255, 255, 255, 255),\n",
       " (255, 255, 255, 255),\n",
       " (255, 255, 255, 255),\n",
       " (255, 255, 255, 255),\n",
       " (255, 255, 255, 255),\n",
       " (255, 255, 255, 255),\n",
       " (255, 255, 255, 255),\n",
       " (255, 255, 255, 255),\n",
       " (255, 255, 255, 255),\n",
       " (255, 255, 255, 255),\n",
       " (255, 255, 255, 255),\n",
       " (255, 255, 255, 255),\n",
       " (255, 255, 255, 255),\n",
       " (255, 255, 255, 255),\n",
       " (255, 255, 255, 255),\n",
       " (255, 255, 255, 255),\n",
       " (255, 255, 255, 255),\n",
       " (255, 255, 255, 255),\n",
       " (255, 255, 255, 255),\n",
       " (255, 255, 255, 255),\n",
       " (255, 255, 255, 255),\n",
       " (255, 255, 255, 255),\n",
       " (255, 255, 255, 255),\n",
       " (255, 255, 255, 255),\n",
       " (255, 255, 255, 255),\n",
       " (255, 255, 255, 255),\n",
       " (255, 255, 255, 255),\n",
       " (255, 255, 255, 255),\n",
       " (255, 255, 255, 255),\n",
       " (255, 255, 255, 255),\n",
       " (255, 255, 255, 255),\n",
       " (255, 255, 255, 255),\n",
       " (255, 255, 255, 255),\n",
       " (255, 255, 255, 255),\n",
       " (255, 255, 255, 255),\n",
       " (255, 255, 255, 255),\n",
       " (255, 255, 255, 255),\n",
       " (255, 255, 255, 255),\n",
       " (255, 255, 255, 255),\n",
       " (255, 255, 255, 255),\n",
       " (255, 255, 255, 255),\n",
       " (255, 255, 255, 255),\n",
       " (255, 255, 255, 255),\n",
       " (255, 255, 255, 255),\n",
       " (255, 255, 255, 255),\n",
       " (255, 255, 255, 255),\n",
       " (255, 255, 255, 255),\n",
       " (255, 255, 255, 255),\n",
       " (255, 255, 255, 255),\n",
       " (255, 255, 255, 255),\n",
       " (255, 255, 255, 255),\n",
       " (255, 255, 255, 255),\n",
       " (255, 255, 255, 255),\n",
       " (255, 255, 255, 255),\n",
       " (255, 255, 255, 255),\n",
       " (255, 255, 255, 255),\n",
       " (255, 255, 255, 255),\n",
       " (255, 255, 255, 255),\n",
       " (255, 255, 255, 255),\n",
       " (255, 255, 255, 255),\n",
       " (255, 255, 255, 255),\n",
       " (255, 255, 255, 255),\n",
       " (255, 255, 255, 255),\n",
       " (255, 255, 255, 255),\n",
       " (255, 255, 255, 255),\n",
       " (255, 255, 255, 255),\n",
       " (255, 255, 255, 255),\n",
       " (255, 255, 255, 255),\n",
       " (255, 255, 255, 255),\n",
       " (255, 255, 255, 255),\n",
       " (255, 255, 255, 255),\n",
       " (255, 255, 255, 255),\n",
       " (255, 255, 255, 255),\n",
       " (255, 255, 255, 255),\n",
       " (255, 255, 255, 255),\n",
       " (255, 255, 255, 255),\n",
       " (255, 255, 255, 255),\n",
       " (255, 255, 255, 255),\n",
       " (255, 255, 255, 255),\n",
       " (255, 255, 255, 255),\n",
       " (255, 255, 255, 255),\n",
       " (255, 255, 255, 255),\n",
       " (255, 255, 255, 255),\n",
       " (255, 255, 255, 255),\n",
       " (255, 255, 255, 255),\n",
       " (255, 255, 255, 255),\n",
       " (255, 255, 255, 255),\n",
       " (255, 255, 255, 255),\n",
       " (255, 255, 255, 255),\n",
       " (255, 255, 255, 255),\n",
       " (255, 255, 255, 255),\n",
       " (255, 255, 255, 255),\n",
       " (255, 255, 255, 255),\n",
       " (255, 255, 255, 255),\n",
       " (255, 255, 255, 255),\n",
       " (255, 255, 255, 255),\n",
       " (255, 255, 255, 255),\n",
       " (255, 255, 255, 255),\n",
       " (255, 255, 255, 255),\n",
       " (255, 255, 255, 255),\n",
       " (255, 255, 255, 255),\n",
       " (255, 255, 255, 255),\n",
       " (255, 255, 255, 255),\n",
       " (255, 255, 255, 255),\n",
       " (255, 255, 255, 255),\n",
       " (255, 255, 255, 255),\n",
       " (255, 255, 255, 255),\n",
       " (255, 255, 255, 255),\n",
       " (255, 255, 255, 255),\n",
       " (255, 255, 255, 255),\n",
       " (255, 255, 255, 255),\n",
       " (255, 255, 255, 255),\n",
       " (255, 255, 255, 255),\n",
       " (255, 255, 255, 255),\n",
       " (255, 255, 255, 255),\n",
       " (255, 255, 255, 255),\n",
       " (255, 255, 255, 255),\n",
       " (255, 255, 255, 255),\n",
       " (255, 255, 255, 255),\n",
       " (255, 255, 255, 255),\n",
       " (255, 255, 255, 255),\n",
       " (255, 255, 255, 255),\n",
       " (255, 255, 255, 255),\n",
       " (255, 255, 255, 255),\n",
       " (255, 255, 255, 255),\n",
       " (255, 255, 255, 255),\n",
       " (255, 255, 255, 255),\n",
       " (255, 255, 255, 255),\n",
       " (255, 255, 255, 255),\n",
       " (255, 255, 255, 255),\n",
       " (255, 255, 255, 255),\n",
       " (255, 255, 255, 255),\n",
       " (255, 255, 255, 255),\n",
       " (255, 255, 255, 255),\n",
       " (255, 255, 255, 255),\n",
       " (255, 255, 255, 255),\n",
       " (255, 255, 255, 255),\n",
       " (255, 255, 255, 255),\n",
       " (255, 255, 255, 255),\n",
       " (255, 255, 255, 255),\n",
       " (255, 255, 255, 255),\n",
       " (255, 255, 255, 255),\n",
       " (255, 255, 255, 255),\n",
       " (255, 255, 255, 255),\n",
       " (255, 255, 255, 255),\n",
       " (255, 255, 255, 255),\n",
       " (255, 255, 255, 255),\n",
       " (255, 255, 255, 255),\n",
       " (255, 255, 255, 255),\n",
       " (255, 255, 255, 255),\n",
       " (255, 255, 255, 255),\n",
       " (255, 255, 255, 255),\n",
       " (255, 255, 255, 255),\n",
       " (255, 255, 255, 255),\n",
       " (255, 255, 255, 255),\n",
       " (255, 255, 255, 255),\n",
       " (255, 255, 255, 255),\n",
       " (255, 255, 255, 255),\n",
       " (255, 255, 255, 255),\n",
       " (255, 255, 255, 255),\n",
       " (255, 255, 255, 255),\n",
       " (255, 255, 255, 255),\n",
       " (255, 255, 255, 255),\n",
       " (255, 255, 255, 255),\n",
       " (255, 255, 255, 255),\n",
       " (255, 255, 255, 255),\n",
       " (255, 255, 255, 255),\n",
       " (255, 255, 255, 255),\n",
       " (255, 255, 255, 255),\n",
       " (255, 255, 255, 255),\n",
       " (255, 255, 255, 255),\n",
       " (255, 255, 255, 255),\n",
       " (255, 255, 255, 255),\n",
       " (255, 255, 255, 255),\n",
       " (255, 255, 255, 255),\n",
       " (255, 255, 255, 255),\n",
       " (255, 255, 255, 255),\n",
       " (255, 255, 255, 255),\n",
       " (255, 255, 255, 255),\n",
       " (255, 255, 255, 255),\n",
       " (255, 255, 255, 255),\n",
       " (255, 255, 255, 255),\n",
       " (255, 255, 255, 255),\n",
       " (255, 255, 255, 255),\n",
       " (255, 255, 255, 255),\n",
       " (255, 255, 255, 255),\n",
       " (255, 255, 255, 255),\n",
       " (255, 255, 255, 255),\n",
       " (255, 255, 255, 255),\n",
       " (255, 255, 255, 255),\n",
       " (255, 255, 255, 255),\n",
       " (255, 255, 255, 255),\n",
       " (255, 255, 255, 255),\n",
       " (255, 255, 255, 255),\n",
       " (255, 255, 255, 255),\n",
       " (255, 255, 255, 255),\n",
       " (255, 255, 255, 255),\n",
       " (255, 255, 255, 255),\n",
       " (255, 255, 255, 255),\n",
       " (255, 255, 255, 255),\n",
       " (255, 255, 255, 255),\n",
       " (255, 255, 255, 255),\n",
       " (255, 255, 255, 255),\n",
       " (255, 255, 255, 255),\n",
       " (255, 255, 255, 255),\n",
       " (255, 255, 255, 255),\n",
       " (255, 255, 255, 255),\n",
       " (255, 255, 255, 255),\n",
       " (255, 255, 255, 255),\n",
       " (255, 255, 255, 255),\n",
       " (255, 255, 255, 255),\n",
       " (255, 255, 255, 255),\n",
       " (255, 255, 255, 255),\n",
       " (255, 255, 255, 255),\n",
       " (255, 255, 255, 255),\n",
       " (255, 255, 255, 255),\n",
       " (255, 255, 255, 255),\n",
       " (255, 255, 255, 255),\n",
       " (255, 255, 255, 255),\n",
       " (255, 255, 255, 255),\n",
       " (255, 255, 255, 255),\n",
       " (255, 255, 255, 255),\n",
       " (255, 255, 255, 255),\n",
       " (255, 255, 255, 255),\n",
       " (255, 255, 255, 255),\n",
       " (255, 255, 255, 255),\n",
       " (255, 255, 255, 255),\n",
       " (255, 255, 255, 255),\n",
       " (255, 255, 255, 255),\n",
       " (255, 255, 255, 255),\n",
       " (255, 255, 255, 255),\n",
       " (255, 255, 255, 255),\n",
       " (255, 255, 255, 255),\n",
       " (255, 255, 255, 255),\n",
       " (255, 255, 255, 255),\n",
       " (255, 255, 255, 255),\n",
       " (255, 255, 255, 255),\n",
       " (255, 255, 255, 255),\n",
       " (255, 255, 255, 255),\n",
       " (255, 255, 255, 255),\n",
       " (255, 255, 255, 255),\n",
       " (255, 255, 255, 255),\n",
       " (255, 255, 255, 255),\n",
       " (255, 255, 255, 255),\n",
       " (255, 255, 255, 255),\n",
       " (255, 255, 255, 255),\n",
       " (255, 255, 255, 255),\n",
       " (255, 255, 255, 255),\n",
       " (255, 255, 255, 255),\n",
       " (255, 255, 255, 255),\n",
       " (255, 255, 255, 255),\n",
       " (255, 255, 255, 255),\n",
       " (255, 255, 255, 255),\n",
       " (255, 255, 255, 255),\n",
       " (255, 255, 255, 255),\n",
       " (255, 255, 255, 255),\n",
       " (255, 255, 255, 255),\n",
       " (255, 255, 255, 255),\n",
       " (255, 255, 255, 255),\n",
       " (255, 255, 255, 255),\n",
       " (255, 255, 255, 255),\n",
       " (255, 255, 255, 255),\n",
       " (255, 255, 255, 255),\n",
       " (255, 255, 255, 255),\n",
       " (255, 255, 255, 255),\n",
       " (255, 255, 255, 255),\n",
       " (255, 255, 255, 255),\n",
       " (255, 255, 255, 255),\n",
       " (255, 255, 255, 255),\n",
       " (255, 255, 255, 255),\n",
       " (255, 255, 255, 255),\n",
       " (255, 255, 255, 255),\n",
       " (255, 255, 255, 255),\n",
       " (255, 255, 255, 255),\n",
       " (255, 255, 255, 255),\n",
       " (255, 255, 255, 255),\n",
       " (255, 255, 255, 255),\n",
       " (255, 255, 255, 255),\n",
       " (255, 255, 255, 255),\n",
       " (255, 255, 255, 255),\n",
       " (255, 255, 255, 255),\n",
       " (255, 255, 255, 255),\n",
       " (255, 255, 255, 255),\n",
       " (255, 255, 255, 255),\n",
       " (255, 255, 255, 255),\n",
       " (255, 255, 255, 255),\n",
       " (255, 255, 255, 255),\n",
       " (255, 255, 255, 255),\n",
       " (255, 255, 255, 255),\n",
       " (255, 255, 255, 255),\n",
       " (255, 255, 255, 255),\n",
       " (255, 255, 255, 255),\n",
       " (255, 255, 255, 255),\n",
       " (255, 255, 255, 255),\n",
       " (255, 255, 255, 255),\n",
       " (255, 255, 255, 255),\n",
       " (255, 255, 255, 255),\n",
       " (255, 255, 255, 255),\n",
       " (255, 255, 255, 255),\n",
       " (255, 255, 255, 255),\n",
       " (255, 255, 255, 255),\n",
       " (255, 255, 255, 255),\n",
       " (255, 255, 255, 255),\n",
       " (255, 255, 255, 255),\n",
       " (255, 255, 255, 255),\n",
       " (255, 255, 255, 255),\n",
       " (255, 255, 255, 255),\n",
       " (255, 255, 255, 255),\n",
       " (255, 255, 255, 255),\n",
       " (255, 255, 255, 255),\n",
       " (255, 255, 255, 255),\n",
       " (255, 255, 255, 255),\n",
       " (255, 255, 255, 255),\n",
       " (255, 255, 255, 255),\n",
       " (255, 255, 255, 255),\n",
       " (255, 255, 255, 255),\n",
       " (255, 255, 255, 255),\n",
       " (255, 255, 255, 255),\n",
       " (255, 255, 255, 255),\n",
       " (255, 255, 255, 255),\n",
       " (255, 255, 255, 255),\n",
       " (255, 255, 255, 255),\n",
       " (255, 255, 255, 255),\n",
       " (255, 255, 255, 255),\n",
       " (255, 255, 255, 255),\n",
       " (255, 255, 255, 255),\n",
       " (255, 255, 255, 255),\n",
       " (255, 255, 255, 255),\n",
       " (255, 255, 255, 255),\n",
       " (255, 255, 255, 255),\n",
       " (255, 255, 255, 255),\n",
       " (255, 255, 255, 255),\n",
       " (255, 255, 255, 255),\n",
       " (255, 255, 255, 255),\n",
       " (255, 255, 255, 255),\n",
       " (255, 255, 255, 255),\n",
       " (255, 255, 255, 255),\n",
       " (255, 255, 255, 255),\n",
       " (255, 255, 255, 255),\n",
       " (255, 255, 255, 255),\n",
       " (255, 255, 255, 255),\n",
       " (255, 255, 255, 255),\n",
       " (255, 255, 255, 255),\n",
       " (255, 255, 255, 255),\n",
       " (255, 255, 255, 255),\n",
       " (255, 255, 255, 255),\n",
       " (255, 255, 255, 255),\n",
       " (255, 255, 255, 255),\n",
       " (255, 255, 255, 255),\n",
       " (255, 255, 255, 255),\n",
       " (255, 255, 255, 255),\n",
       " (255, 255, 255, 255),\n",
       " (255, 255, 255, 255),\n",
       " (255, 255, 255, 255),\n",
       " (255, 255, 255, 255),\n",
       " (255, 255, 255, 255),\n",
       " (255, 255, 255, 255),\n",
       " (255, 255, 255, 255),\n",
       " (255, 255, 255, 255),\n",
       " (255, 255, 255, 255),\n",
       " (255, 255, 255, 255),\n",
       " (255, 255, 255, 255),\n",
       " (255, 255, 255, 255),\n",
       " (255, 255, 255, 255),\n",
       " (255, 255, 255, 255),\n",
       " (255, 255, 255, 255),\n",
       " (255, 255, 255, 255),\n",
       " (255, 255, 255, 255),\n",
       " (255, 255, 255, 255),\n",
       " (255, 255, 255, 255),\n",
       " (255, 255, 255, 255),\n",
       " (255, 255, 255, 255),\n",
       " (255, 255, 255, 255),\n",
       " (255, 255, 255, 255),\n",
       " (255, 255, 255, 255),\n",
       " (255, 255, 255, 255),\n",
       " (255, 255, 255, 255),\n",
       " (255, 255, 255, 255),\n",
       " (255, 255, 255, 255),\n",
       " (255, 255, 255, 255),\n",
       " (255, 255, 255, 255),\n",
       " (255, 255, 255, 255),\n",
       " (255, 255, 255, 255),\n",
       " (255, 255, 255, 255),\n",
       " (255, 255, 255, 255),\n",
       " (255, 255, 255, 255),\n",
       " (255, 255, 255, 255),\n",
       " (255, 255, 255, 255),\n",
       " (255, 255, 255, 255),\n",
       " (255, 255, 255, 255),\n",
       " (255, 255, 255, 255),\n",
       " (255, 255, 255, 255),\n",
       " (255, 255, 255, 255),\n",
       " (255, 255, 255, 255),\n",
       " (255, 255, 255, 255),\n",
       " (255, 255, 255, 255),\n",
       " (255, 255, 255, 255),\n",
       " (255, 255, 255, 255),\n",
       " (255, 255, 255, 255),\n",
       " (255, 255, 255, 255),\n",
       " (255, 255, 255, 255),\n",
       " (255, 255, 255, 255),\n",
       " (255, 255, 255, 255),\n",
       " (255, 255, 255, 255),\n",
       " (255, 255, 255, 255),\n",
       " (255, 255, 255, 255),\n",
       " (255, 255, 255, 255),\n",
       " (255, 255, 255, 255),\n",
       " (255, 255, 255, 255),\n",
       " (255, 255, 255, 255),\n",
       " (255, 255, 255, 255),\n",
       " (255, 255, 255, 255),\n",
       " (255, 255, 255, 255),\n",
       " (255, 255, 255, 255),\n",
       " (255, 255, 255, 255),\n",
       " (255, 255, 255, 255),\n",
       " (255, 255, 255, 255),\n",
       " (255, 255, 255, 255),\n",
       " (255, 255, 255, 255),\n",
       " (255, 255, 255, 255),\n",
       " (255, 255, 255, 255),\n",
       " (255, 255, 255, 255),\n",
       " (255, 255, 255, 255),\n",
       " (255, 255, 255, 255),\n",
       " (255, 255, 255, 255),\n",
       " (255, 255, 255, 255),\n",
       " (255, 255, 255, 255),\n",
       " (255, 255, 255, 255),\n",
       " (255, 255, 255, 255),\n",
       " (255, 255, 255, 255),\n",
       " (255, 255, 255, 255),\n",
       " (255, 255, 255, 255),\n",
       " (255, 255, 255, 255),\n",
       " (255, 255, 255, 255),\n",
       " (255, 255, 255, 255),\n",
       " (255, 255, 255, 255),\n",
       " (255, 255, 255, 255),\n",
       " (255, 255, 255, 255),\n",
       " (255, 255, 255, 255),\n",
       " (255, 255, 255, 255),\n",
       " (255, 255, 255, 255),\n",
       " (255, 255, 255, 255),\n",
       " (255, 255, 255, 255),\n",
       " (255, 255, 255, 255),\n",
       " (255, 255, 255, 255),\n",
       " (255, 255, 255, 255),\n",
       " (255, 255, 255, 255),\n",
       " (255, 255, 255, 255),\n",
       " (255, 255, 255, 255),\n",
       " (255, 255, 255, 255),\n",
       " (255, 255, 255, 255),\n",
       " (255, 255, 255, 255),\n",
       " (255, 255, 255, 255),\n",
       " (255, 255, 255, 255),\n",
       " (255, 255, 255, 255),\n",
       " (255, 255, 255, 255),\n",
       " (255, 255, 255, 255),\n",
       " (255, 255, 255, 255),\n",
       " (255, 255, 255, 255),\n",
       " (255, 255, 255, 255),\n",
       " (255, 255, 255, 255),\n",
       " (255, 255, 255, 255),\n",
       " (255, 255, 255, 255),\n",
       " (255, 255, 255, 255),\n",
       " (255, 255, 255, 255),\n",
       " (255, 255, 255, 255),\n",
       " (255, 255, 255, 255),\n",
       " (255, 255, 255, 255),\n",
       " (255, 255, 255, 255),\n",
       " (255, 255, 255, 255),\n",
       " (255, 255, 255, 255),\n",
       " (255, 255, 255, 255),\n",
       " (255, 255, 255, 255),\n",
       " (255, 255, 255, 255),\n",
       " (255, 255, 255, 255),\n",
       " (255, 255, 255, 255),\n",
       " (255, 255, 255, 255),\n",
       " (255, 255, 255, 255),\n",
       " (255, 255, 255, 255),\n",
       " (255, 255, 255, 255),\n",
       " (255, 255, 255, 255),\n",
       " (255, 255, 255, 255),\n",
       " (255, 255, 255, 255),\n",
       " (255, 255, 255, 255),\n",
       " (255, 255, 255, 255),\n",
       " (255, 255, 255, 255),\n",
       " (255, 255, 255, 255),\n",
       " (255, 255, 255, 255),\n",
       " (255, 255, 255, 255),\n",
       " (255, 255, 255, 255),\n",
       " (255, 255, 255, 255),\n",
       " (255, 255, 255, 255),\n",
       " (255, 255, 255, 255),\n",
       " (255, 255, 255, 255),\n",
       " (255, 255, 255, 255),\n",
       " (255, 255, 255, 255),\n",
       " (255, 255, 255, 255),\n",
       " (255, 255, 255, 255),\n",
       " (255, 255, 255, 255),\n",
       " (255, 255, 255, 255),\n",
       " (255, 255, 255, 255),\n",
       " (255, 255, 255, 255),\n",
       " (255, 255, 255, 255),\n",
       " (255, 255, 255, 255),\n",
       " (255, 255, 255, 255),\n",
       " (255, 255, 255, 255),\n",
       " (255, 255, 255, 255),\n",
       " (255, 255, 255, 255),\n",
       " (255, 255, 255, 255),\n",
       " (255, 255, 255, 255),\n",
       " (255, 255, 255, 255),\n",
       " (255, 255, 255, 255),\n",
       " (255, 255, 255, 255),\n",
       " (255, 255, 255, 255),\n",
       " (255, 255, 255, 255),\n",
       " (255, 255, 255, 255),\n",
       " (255, 255, 255, 255),\n",
       " (255, 255, 255, 255),\n",
       " (255, 255, 255, 255),\n",
       " (255, 255, 255, 255),\n",
       " (255, 255, 255, 255),\n",
       " (255, 255, 255, 255),\n",
       " (255, 255, 255, 255),\n",
       " (255, 255, 255, 255),\n",
       " (255, 255, 255, 255),\n",
       " (255, 255, 255, 255),\n",
       " (255, 255, 255, 255),\n",
       " (255, 255, 255, 255),\n",
       " (255, 255, 255, 255),\n",
       " (255, 255, 255, 255),\n",
       " (255, 255, 255, 255),\n",
       " (255, 255, 255, 255),\n",
       " (255, 255, 255, 255),\n",
       " (255, 255, 255, 255),\n",
       " (255, 255, 255, 255),\n",
       " (255, 255, 255, 255),\n",
       " (255, 255, 255, 255),\n",
       " (255, 255, 255, 255),\n",
       " (255, 255, 255, 255),\n",
       " (255, 255, 255, 255),\n",
       " (255, 255, 255, 255),\n",
       " (255, 255, 255, 255),\n",
       " (255, 255, 255, 255),\n",
       " (255, 255, 255, 255),\n",
       " (255, 255, 255, 255),\n",
       " (255, 255, 255, 255),\n",
       " (255, 255, 255, 255),\n",
       " (255, 255, 255, 255),\n",
       " (255, 255, 255, 255),\n",
       " (255, 255, 255, 255),\n",
       " (255, 255, 255, 255),\n",
       " (255, 255, 255, 255),\n",
       " (255, 255, 255, 255),\n",
       " (255, 255, 255, 255),\n",
       " (255, 255, 255, 255),\n",
       " (255, 255, 255, 255),\n",
       " (255, 255, 255, 255),\n",
       " (255, 255, 255, 255),\n",
       " (255, 255, 255, 255),\n",
       " (255, 255, 255, 255),\n",
       " (255, 255, 255, 255),\n",
       " (255, 255, 255, 255),\n",
       " (255, 255, 255, 255),\n",
       " (255, 255, 255, 255),\n",
       " (255, 255, 255, 255),\n",
       " (255, 255, 255, 255),\n",
       " (255, 255, 255, 255),\n",
       " (255, 255, 255, 255),\n",
       " (255, 255, 255, 255),\n",
       " (255, 255, 255, 255),\n",
       " (255, 255, 255, 255),\n",
       " (255, 255, 255, 255),\n",
       " (255, 255, 255, 255),\n",
       " (255, 255, 255, 255),\n",
       " (255, 255, 255, 255),\n",
       " (255, 255, 255, 255),\n",
       " (255, 255, 255, 255),\n",
       " (255, 255, 255, 255),\n",
       " (255, 255, 255, 255),\n",
       " (255, 255, 255, 255),\n",
       " (255, 255, 255, 255),\n",
       " (255, 255, 255, 255),\n",
       " (255, 255, 255, 255),\n",
       " (255, 255, 255, 255),\n",
       " (255, 255, 255, 255),\n",
       " (255, 255, 255, 255),\n",
       " (255, 255, 255, 255),\n",
       " (255, 255, 255, 255),\n",
       " (255, 255, 255, 255),\n",
       " (255, 255, 255, 255),\n",
       " (255, 255, 255, 255),\n",
       " (255, 255, 255, 255),\n",
       " (255, 255, 255, 255),\n",
       " (255, 255, 255, 255),\n",
       " (255, 255, 255, 255),\n",
       " (255, 255, 255, 255),\n",
       " (255, 255, 255, 255),\n",
       " (255, 255, 255, 255),\n",
       " (255, 255, 255, 255),\n",
       " (255, 255, 255, 255),\n",
       " (255, 255, 255, 255),\n",
       " (255, 255, 255, 255),\n",
       " (255, 255, 255, 255),\n",
       " (255, 255, 255, 255),\n",
       " (255, 255, 255, 255),\n",
       " (255, 255, 255, 255),\n",
       " (255, 255, 255, 255),\n",
       " (255, 255, 255, 255),\n",
       " (255, 255, 255, 255),\n",
       " (255, 255, 255, 255),\n",
       " (255, 255, 255, 255),\n",
       " (255, 255, 255, 255),\n",
       " (255, 255, 255, 255),\n",
       " (255, 255, 255, 255),\n",
       " (255, 255, 255, 255),\n",
       " (255, 255, 255, 255),\n",
       " (255, 255, 255, 255),\n",
       " (255, 255, 255, 255),\n",
       " (255, 255, 255, 255),\n",
       " (255, 255, 255, 255),\n",
       " (255, 255, 255, 255),\n",
       " (255, 255, 255, 255),\n",
       " (255, 255, 255, 255),\n",
       " (255, 255, 255, 255),\n",
       " (255, 255, 255, 255),\n",
       " (255, 255, 255, 255),\n",
       " (255, 255, 255, 255),\n",
       " (255, 255, 255, 255),\n",
       " (255, 255, 255, 255),\n",
       " (255, 255, 255, 255),\n",
       " (255, 255, 255, 255),\n",
       " (255, 255, 255, 255),\n",
       " (255, 255, 255, 255),\n",
       " (255, 255, 255, 255),\n",
       " (255, 255, 255, 255),\n",
       " (255, 255, 255, 255),\n",
       " (255, 255, 255, 255),\n",
       " (255, 255, 255, 255),\n",
       " (255, 255, 255, 255),\n",
       " (255, 255, 255, 255),\n",
       " (255, 255, 255, 255),\n",
       " (255, 255, 255, 255),\n",
       " (255, 255, 255, 255),\n",
       " (255, 255, 255, 255),\n",
       " (255, 255, 255, 255),\n",
       " (255, 255, 255, 255),\n",
       " (255, 255, 255, 255),\n",
       " (255, 255, 255, 255),\n",
       " (255, 255, 255, 255),\n",
       " (255, 255, 255, 255),\n",
       " (255, 255, 255, 255),\n",
       " (255, 255, 255, 255),\n",
       " (255, 255, 255, 255),\n",
       " (255, 255, 255, 255),\n",
       " (255, 255, 255, 255),\n",
       " (255, 255, 255, 255),\n",
       " (255, 255, 255, 255),\n",
       " (255, 255, 255, 255),\n",
       " (255, 255, 255, 255),\n",
       " (255, 255, 255, 255),\n",
       " (255, 255, 255, 255),\n",
       " (255, 255, 255, 255),\n",
       " (255, 255, 255, 255),\n",
       " (255, 255, 255, 255),\n",
       " (255, 255, 255, 255),\n",
       " (255, 255, 255, 255),\n",
       " (255, 255, 255, 255),\n",
       " (255, 255, 255, 255),\n",
       " (255, 255, 255, 255),\n",
       " (255, 255, 255, 255),\n",
       " (255, 255, 255, 255),\n",
       " (255, 255, 255, 255),\n",
       " (255, 255, 255, 255),\n",
       " (255, 255, 255, 255),\n",
       " (255, 255, 255, 255),\n",
       " (255, 255, 255, 255),\n",
       " (255, 255, 255, 255),\n",
       " (255, 255, 255, 255),\n",
       " (255, 255, 255, 255),\n",
       " (255, 255, 255, 255),\n",
       " (255, 255, 255, 255),\n",
       " (255, 255, 255, 255),\n",
       " (255, 255, 255, 255),\n",
       " (255, 255, 255, 255),\n",
       " (255, 255, 255, 255),\n",
       " (255, 255, 255, 255),\n",
       " (255, 255, 255, 255),\n",
       " (255, 255, 255, 255),\n",
       " (255, 255, 255, 255),\n",
       " (255, 255, 255, 255),\n",
       " (255, 255, 255, 255),\n",
       " (255, 255, 255, 255),\n",
       " (255, 255, 255, 255),\n",
       " (255, 255, 255, 255),\n",
       " (255, 255, 255, 255),\n",
       " (255, 255, 255, 255),\n",
       " (255, 255, 255, 255),\n",
       " (255, 255, 255, 255),\n",
       " (255, 255, 255, 255),\n",
       " (255, 255, 255, 255),\n",
       " (255, 255, 255, 255),\n",
       " (255, 255, 255, 255),\n",
       " (255, 255, 255, 255),\n",
       " (255, 255, 255, 255),\n",
       " (255, 255, 255, 255),\n",
       " (255, 255, 255, 255),\n",
       " (255, 255, 255, 255),\n",
       " (255, 255, 255, 255),\n",
       " (255, 255, 255, 255),\n",
       " (255, 255, 255, 255),\n",
       " (255, 255, 255, 255),\n",
       " (255, 255, 255, 255),\n",
       " (255, 255, 255, 255),\n",
       " (255, 255, 255, 255),\n",
       " (255, 255, 255, 255),\n",
       " (255, 255, 255, 255),\n",
       " (255, 255, 255, 255),\n",
       " (255, 255, 255, 255),\n",
       " (255, 255, 255, 255),\n",
       " (255, 255, 255, 255),\n",
       " (255, 255, 255, 255),\n",
       " (255, 255, 255, 255),\n",
       " (255, 255, 255, 255),\n",
       " (255, 255, 255, 255),\n",
       " (255, 255, 255, 255),\n",
       " (255, 255, 255, 255),\n",
       " (255, 255, 255, 255),\n",
       " (255, 255, 255, 255),\n",
       " (255, 255, 255, 255),\n",
       " (255, 255, 255, 255),\n",
       " (255, 255, 255, 255),\n",
       " (255, 255, 255, 255),\n",
       " (255, 255, 255, 255),\n",
       " (255, 255, 255, 255),\n",
       " (255, 255, 255, 255),\n",
       " (255, 255, 255, 255),\n",
       " (255, 255, 255, 255),\n",
       " (255, 255, 255, 255),\n",
       " (255, 255, 255, 255),\n",
       " (255, 255, 255, 255),\n",
       " (255, 255, 255, 255),\n",
       " (255, 255, 255, 255),\n",
       " (255, 255, 255, 255),\n",
       " (255, 255, 255, 255),\n",
       " (255, 255, 255, 255),\n",
       " (255, 255, 255, 255),\n",
       " (255, 255, 255, 255),\n",
       " (255, 255, 255, 255),\n",
       " (255, 255, 255, 255),\n",
       " (255, 255, 255, 255),\n",
       " (255, 255, 255, 255),\n",
       " (255, 255, 255, 255),\n",
       " (255, 255, 255, 255),\n",
       " (255, 255, 255, 255),\n",
       " (255, 255, 255, 255),\n",
       " (255, 255, 255, 255),\n",
       " (255, 255, 255, 255),\n",
       " (255, 255, 255, 255),\n",
       " (255, 255, 255, 255),\n",
       " (255, 255, 255, 255),\n",
       " (255, 255, 255, 255),\n",
       " (255, 255, 255, 255),\n",
       " (255, 255, 255, 255),\n",
       " (255, 255, 255, 255),\n",
       " (255, 255, 255, 255),\n",
       " (255, 255, 255, 255),\n",
       " (255, 255, 255, 255),\n",
       " (255, 255, 255, 255),\n",
       " (255, 255, 255, 255),\n",
       " (255, 255, 255, 255),\n",
       " (255, 255, 255, 255),\n",
       " (255, 255, 255, 255),\n",
       " (255, 255, 255, 255),\n",
       " (255, 255, 255, 255),\n",
       " (255, 255, 255, 255),\n",
       " (255, 255, 255, 255),\n",
       " (255, 255, 255, 255),\n",
       " (255, 255, 255, 255),\n",
       " (255, 255, 255, 255),\n",
       " (255, 255, 255, 255),\n",
       " (255, 255, 255, 255),\n",
       " (255, 255, 255, 255),\n",
       " (255, 255, 255, 255),\n",
       " (255, 255, 255, 255),\n",
       " (255, 255, 255, 255),\n",
       " (255, 255, 255, 255),\n",
       " (255, 255, 255, 255),\n",
       " (255, 255, 255, 255),\n",
       " (255, 255, 255, 255),\n",
       " (255, 255, 255, 255),\n",
       " (255, 255, 255, 255),\n",
       " (255, 255, 255, 255),\n",
       " (255, 255, 255, 255),\n",
       " (255, 255, 255, 255),\n",
       " (255, 255, 255, 255),\n",
       " (255, 255, 255, 255),\n",
       " (255, 255, 255, 255),\n",
       " (255, 255, 255, 255),\n",
       " (255, 255, 255, 255),\n",
       " (255, 255, 255, 255),\n",
       " (255, 255, 255, 255),\n",
       " (255, 255, 255, 255),\n",
       " (255, 255, 255, 255),\n",
       " (255, 255, 255, 255),\n",
       " (255, 255, 255, 255),\n",
       " (255, 255, 255, 255),\n",
       " (255, 255, 255, 255),\n",
       " (255, 255, 255, 255),\n",
       " (255, 255, 255, 255),\n",
       " (255, 255, 255, 255),\n",
       " (255, 255, 255, 255),\n",
       " (255, 255, 255, 255),\n",
       " (255, 255, 255, 255),\n",
       " (255, 255, 255, 255),\n",
       " (255, 255, 255, 255),\n",
       " (255, 255, 255, 255),\n",
       " (255, 255, 255, 255),\n",
       " (255, 255, 255, 255),\n",
       " (255, 255, 255, 255),\n",
       " (255, 255, 255, 255),\n",
       " (255, 255, 255, 255),\n",
       " (255, 255, 255, 255),\n",
       " (255, 255, 255, 255),\n",
       " (255, 255, 255, 255),\n",
       " (255, 255, 255, 255),\n",
       " (255, 255, 255, 255),\n",
       " (255, 255, 255, 255),\n",
       " (255, 255, 255, 255),\n",
       " (255, 255, 255, 255),\n",
       " (255, 255, 255, 255),\n",
       " (255, 255, 255, 255),\n",
       " (255, 255, 255, 255),\n",
       " (255, 255, 255, 255),\n",
       " (255, 255, 255, 255),\n",
       " (255, 255, 255, 255),\n",
       " (255, 255, 255, 255),\n",
       " (255, 255, 255, 255),\n",
       " (255, 255, 255, 255),\n",
       " (255, 255, 255, 255),\n",
       " (255, 255, 255, 255),\n",
       " (255, 255, 255, 255),\n",
       " (255, 255, 255, 255),\n",
       " (255, 255, 255, 255),\n",
       " (255, 255, 255, 255),\n",
       " (255, 255, 255, 255),\n",
       " (255, 255, 255, 255),\n",
       " (255, 255, 255, 255),\n",
       " (255, 255, 255, 255),\n",
       " (255, 255, 255, 255),\n",
       " (255, 255, 255, 255),\n",
       " (255, 255, 255, 255),\n",
       " (255, 255, 255, 255),\n",
       " (255, 255, 255, 255),\n",
       " (255, 255, 255, 255),\n",
       " (255, 255, 255, 255),\n",
       " (255, 255, 255, 255),\n",
       " (255, 255, 255, 255),\n",
       " (255, 255, 255, 255),\n",
       " (255, 255, 255, 255),\n",
       " (255, 255, 255, 255),\n",
       " (255, 255, 255, 255),\n",
       " (255, 255, 255, 255),\n",
       " (255, 255, 255, 255),\n",
       " (255, 255, 255, 255),\n",
       " (255, 255, 255, 255),\n",
       " (255, 255, 255, 255),\n",
       " (255, 255, 255, 255),\n",
       " (255, 255, 255, 255),\n",
       " (255, 255, 255, 255),\n",
       " (255, 255, 255, 255),\n",
       " (255, 255, 255, 255),\n",
       " (255, 255, 255, 255),\n",
       " (255, 255, 255, 255),\n",
       " (255, 255, 255, 255),\n",
       " (255, 255, 255, 255),\n",
       " (255, 255, 255, 255),\n",
       " (255, 255, 255, 255),\n",
       " (255, 255, 255, 255),\n",
       " (255, 255, 255, 255),\n",
       " (255, 255, 255, 255),\n",
       " (255, 255, 255, 255),\n",
       " (255, 255, 255, 255),\n",
       " (255, 255, 255, 255),\n",
       " (255, 255, 255, 255),\n",
       " (255, 255, 255, 255),\n",
       " (255, 255, 255, 255),\n",
       " (255, 255, 255, 255),\n",
       " (255, 255, 255, 255),\n",
       " (255, 255, 255, 255),\n",
       " (255, 255, 255, 255),\n",
       " (255, 255, 255, 255),\n",
       " (255, 255, 255, 255),\n",
       " (255, 255, 255, 255),\n",
       " (255, 255, 255, 255),\n",
       " (255, 255, 255, 255),\n",
       " (255, 255, 255, 255),\n",
       " (255, 255, 255, 255),\n",
       " (255, 255, 255, 255),\n",
       " (255, 255, 255, 255),\n",
       " (255, 255, 255, 255),\n",
       " (255, 255, 255, 255),\n",
       " (255, 255, 255, 255),\n",
       " (255, 255, 255, 255),\n",
       " (255, 255, 255, 255),\n",
       " (255, 255, 255, 255),\n",
       " (255, 255, 255, 255),\n",
       " (255, 255, 255, 255),\n",
       " (255, 255, 255, 255),\n",
       " (255, 255, 255, 255),\n",
       " (255, 255, 255, 255),\n",
       " (255, 255, 255, 255),\n",
       " (255, 255, 255, 255),\n",
       " (255, 255, 255, 255),\n",
       " (255, 255, 255, 255),\n",
       " (255, 255, 255, 255),\n",
       " (255, 255, 255, 255),\n",
       " (255, 255, 255, 255),\n",
       " (255, 255, 255, 255),\n",
       " (255, 255, 255, 255),\n",
       " (255, 255, 255, 255),\n",
       " (255, 255, 255, 255),\n",
       " (255, 255, 255, 255),\n",
       " (255, 255, 255, 255),\n",
       " (255, 255, 255, 255),\n",
       " (255, 255, 255, 255),\n",
       " (255, 255, 255, 255),\n",
       " (255, 255, 255, 255),\n",
       " (255, 255, 255, 255),\n",
       " (255, 255, 255, 255),\n",
       " (255, 255, 255, 255),\n",
       " (255, 255, 255, 255),\n",
       " (255, 255, 255, 255),\n",
       " (255, 255, 255, 255),\n",
       " (255, 255, 255, 255),\n",
       " (255, 255, 255, 255),\n",
       " (255, 255, 255, 255),\n",
       " (255, 255, 255, 255),\n",
       " (255, 255, 255, 255),\n",
       " (255, 255, 255, 255),\n",
       " (255, 255, 255, 255),\n",
       " (255, 255, 255, 255),\n",
       " (255, 255, 255, 255),\n",
       " (255, 255, 255, 255),\n",
       " (255, 255, 255, 255),\n",
       " (255, 255, 255, 255),\n",
       " (255, 255, 255, 255),\n",
       " (255, 255, 255, 255),\n",
       " (255, 255, 255, 255),\n",
       " (255, 255, 255, 255),\n",
       " (255, 255, 255, 255),\n",
       " (255, 255, 255, 255),\n",
       " (255, 255, 255, 255),\n",
       " (255, 255, 255, 255),\n",
       " (255, 255, 255, 255),\n",
       " (255, 255, 255, 255),\n",
       " (255, 255, 255, 255),\n",
       " (255, 255, 255, 255),\n",
       " (255, 255, 255, 255),\n",
       " (255, 255, 255, 255),\n",
       " (255, 255, 255, 255),\n",
       " (255, 255, 255, 255),\n",
       " (255, 255, 255, 255),\n",
       " (255, 255, 255, 255),\n",
       " (255, 255, 255, 255),\n",
       " (255, 255, 255, 255),\n",
       " (255, 255, 255, 255),\n",
       " (255, 255, 255, 255),\n",
       " (255, 255, 255, 255),\n",
       " (255, 255, 255, 255),\n",
       " (255, 255, 255, 255),\n",
       " (255, 255, 255, 255),\n",
       " ...]"
      ]
     },
     "execution_count": 65,
     "metadata": {},
     "output_type": "execute_result"
    }
   ],
   "source": [
    "pixel_test"
   ]
  },
  {
   "cell_type": "code",
   "execution_count": 66,
   "metadata": {},
   "outputs": [],
   "source": [
    "pixel_test = np.array(pixel_test).reshape((128*128, 4))"
   ]
  },
  {
   "cell_type": "code",
   "execution_count": 67,
   "metadata": {},
   "outputs": [],
   "source": [
    "y_test=pixel_test[:,0].reshape(128,128)"
   ]
  },
  {
   "cell_type": "code",
   "execution_count": 68,
   "metadata": {},
   "outputs": [],
   "source": [
    "y_test=255-y_test"
   ]
  },
  {
   "cell_type": "code",
   "execution_count": 69,
   "metadata": {},
   "outputs": [],
   "source": [
    "y_test=np.delete(y_test,[0,1,126,127],axis=0)\n",
    "y_test=np.delete(y_test,[0,1,126,127],axis=1)"
   ]
  },
  {
   "cell_type": "code",
   "execution_count": 70,
   "metadata": {},
   "outputs": [],
   "source": [
    "y_test=y_test.reshape(15376,)"
   ]
  },
  {
   "cell_type": "code",
   "execution_count": 71,
   "metadata": {},
   "outputs": [],
   "source": [
    "y_pred=final.reshape(15376,)"
   ]
  },
  {
   "cell_type": "code",
   "execution_count": 72,
   "metadata": {},
   "outputs": [],
   "source": [
    "y_test=y_test//255"
   ]
  },
  {
   "cell_type": "code",
   "execution_count": 73,
   "metadata": {},
   "outputs": [],
   "source": [
    "from sklearn.metrics import confusion_matrix,accuracy_score"
   ]
  },
  {
   "cell_type": "code",
   "execution_count": 74,
   "metadata": {},
   "outputs": [
    {
     "name": "stdout",
     "output_type": "stream",
     "text": [
      "[[14820    64]\n",
      " [   40   452]]\n"
     ]
    },
    {
     "data": {
      "text/plain": [
       "0.9932362122788762"
      ]
     },
     "execution_count": 74,
     "metadata": {},
     "output_type": "execute_result"
    }
   ],
   "source": [
    "cm = confusion_matrix(y_test, y_pred)\n",
    "print(cm)\n",
    "accuracy_score(y_test, y_pred)"
   ]
  },
  {
   "cell_type": "code",
   "execution_count": null,
   "metadata": {},
   "outputs": [],
   "source": []
  },
  {
   "cell_type": "code",
   "execution_count": 75,
   "metadata": {},
   "outputs": [],
   "source": [
    "final_4=Image.fromarray(final)"
   ]
  },
  {
   "cell_type": "code",
   "execution_count": 76,
   "metadata": {},
   "outputs": [],
   "source": [
    "final_4.save(r\"C:\\Users\\Surabhi\\Downloads\\final_4.jpg\")"
   ]
  },
  {
   "cell_type": "markdown",
   "metadata": {},
   "source": [
    "Erosion and Dilation"
   ]
  },
  {
   "cell_type": "code",
   "execution_count": 77,
   "metadata": {},
   "outputs": [
    {
     "data": {
      "text/plain": [
       "array([[0, 0, 0, ..., 0, 0, 0],\n",
       "       [0, 0, 0, ..., 0, 0, 0],\n",
       "       [0, 0, 0, ..., 0, 0, 0],\n",
       "       ...,\n",
       "       [0, 0, 0, ..., 0, 0, 0],\n",
       "       [0, 0, 0, ..., 0, 0, 0],\n",
       "       [0, 0, 0, ..., 0, 0, 0]], dtype=uint8)"
      ]
     },
     "execution_count": 77,
     "metadata": {},
     "output_type": "execute_result"
    }
   ],
   "source": [
    "import cv2\n",
    "import numpy as np\n",
    "  \n",
    "input_img=cv2.imread(r\"C:\\Users\\Surabhi\\Downloads\\final_4.jpg\",0)\n",
    "  \n",
    "# Taking a matrix of size 5 as the kernel\n",
    "kernel = np.ones((5,5), np.uint8)\n",
    "  \n",
    "# The first parameter is the original image,\n",
    "# kernel is the matrix with which image is \n",
    "# convolved and third parameter is the number \n",
    "# of iterations, which will determine how much \n",
    "# you want to erode/dilate a given image. \n",
    "img_erosion = cv2.erode(input_img, kernel, iterations=1)\n",
    "img_dilation = cv2.dilate(input_img, kernel, iterations=1)\n",
    "img_morph=cv2.morphologyEx(input_img, cv2.MORPH_OPEN, kernel)\n",
    "img_close=cv2.morphologyEx(input_img, cv2.MORPH_CLOSE, kernel)\n",
    "img_erosion"
   ]
  },
  {
   "cell_type": "code",
   "execution_count": 78,
   "metadata": {},
   "outputs": [
    {
     "data": {
      "image/png": "[encoded data removed]",
      "text/plain": [
       "<Figure size 432x288 with 1 Axes>"
      ]
     },
     "metadata": {
      "needs_background": "light"
     },
     "output_type": "display_data"
    }
   ],
   "source": [
    "plt.imshow(img_close, cmap='gray')\n",
    "plt.show() "
   ]
  },
  {
   "cell_type": "code",
   "execution_count": 79,
   "metadata": {},
   "outputs": [
    {
     "data": {
      "image/png": "[encoded data removed]",
      "text/plain": [
       "<Figure size 432x288 with 1 Axes>"
      ]
     },
     "metadata": {
      "needs_background": "light"
     },
     "output_type": "display_data"
    }
   ],
   "source": [
    "plt.imshow(img_dilation, cmap='gray')\n",
    "plt.show() "
   ]
  },
  {
   "cell_type": "code",
   "execution_count": 80,
   "metadata": {},
   "outputs": [
    {
     "data": {
      "image/png": "[encoded data removed]",
      "text/plain": [
       "<Figure size 432x288 with 1 Axes>"
      ]
     },
     "metadata": {
      "needs_background": "light"
     },
     "output_type": "display_data"
    }
   ],
   "source": [
    "plt.imshow(img_erosion, cmap='gray')\n",
    "plt.show() "
   ]
  },
  {
   "cell_type": "code",
   "execution_count": null,
   "metadata": {},
   "outputs": [],
   "source": []
  }
 ],
 "metadata": {
  "kernelspec": {
   "display_name": "Python 3",
   "language": "python",
   "name": "python3"
  },
  "language_info": {
   "codemirror_mode": {
    "name": "ipython",
    "version": 3
   },
   "file_extension": ".py",
   "mimetype": "text/x-python",
   "name": "python",
   "nbconvert_exporter": "python",
   "pygments_lexer": "ipython3",
   "version": "3.7.6"
  }
 },
 "nbformat": 4,
 "nbformat_minor": 4
}
